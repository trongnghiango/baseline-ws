{
    "metadata": {
        "kernelspec": {
            "name": "SQL",
            "display_name": "SQL",
            "language": "sql"
        },
        "language_info": {
            "name": "sql",
            "version": ""
        }
    },
    "nbformat_minor": 2,
    "nbformat": 4,
    "cells": [
        {
            "cell_type": "code",
            "source": [
                "-- xem bảng Customers\n",
                "SELECT * FROM Customers;"
            ],
            "metadata": {
                "azdata_cell_guid": "45eba41b-1e04-4cfd-a4a6-3510aa5564d0",
                "language": "sql"
            },
            "outputs": [
                {
                    "output_type": "display_data",
                    "data": {
                        "text/html": "(4 rows affected)"
                    },
                    "metadata": {}
                },
                {
                    "output_type": "display_data",
                    "data": {
                        "text/html": "Total execution time: 00:00:00.004"
                    },
                    "metadata": {}
                },
                {
                    "output_type": "execute_result",
                    "metadata": {},
                    "execution_count": 8,
                    "data": {
                        "application/vnd.dataresource+json": {
                            "schema": {
                                "fields": [
                                    {
                                        "name": "id"
                                    },
                                    {
                                        "name": "name"
                                    }
                                ]
                            },
                            "data": [
                                {
                                    "id": "1",
                                    "name": "Joe"
                                },
                                {
                                    "id": "2",
                                    "name": "Herry"
                                },
                                {
                                    "id": "3",
                                    "name": "Sam"
                                },
                                {
                                    "id": "4",
                                    "name": "Max"
                                }
                            ]
                        },
                        "text/html": [
                            "<table>",
                            "<tr><th>id</th><th>name</th></tr>",
                            "<tr><td>1</td><td>Joe</td></tr>",
                            "<tr><td>2</td><td>Herry</td></tr>",
                            "<tr><td>3</td><td>Sam</td></tr>",
                            "<tr><td>4</td><td>Max</td></tr>",
                            "</table>"
                        ]
                    }
                }
            ],
            "execution_count": 8
        },
        {
            "cell_type": "code",
            "source": [
                "-- xem bảng Orders\n",
                "SELECT * FROM Orders;"
            ],
            "metadata": {
                "azdata_cell_guid": "a90ec70c-b0ed-4a7d-8171-9033d441ba5b",
                "language": "sql"
            },
            "outputs": [
                {
                    "output_type": "display_data",
                    "data": {
                        "text/html": "(2 rows affected)"
                    },
                    "metadata": {}
                },
                {
                    "output_type": "display_data",
                    "data": {
                        "text/html": "Total execution time: 00:00:00.004"
                    },
                    "metadata": {}
                },
                {
                    "output_type": "execute_result",
                    "metadata": {},
                    "execution_count": 9,
                    "data": {
                        "application/vnd.dataresource+json": {
                            "schema": {
                                "fields": [
                                    {
                                        "name": "id"
                                    },
                                    {
                                        "name": "customerId"
                                    }
                                ]
                            },
                            "data": [
                                {
                                    "id": "1",
                                    "customerId": "3"
                                },
                                {
                                    "id": "2",
                                    "customerId": "1"
                                }
                            ]
                        },
                        "text/html": [
                            "<table>",
                            "<tr><th>id</th><th>customerId</th></tr>",
                            "<tr><td>1</td><td>3</td></tr>",
                            "<tr><td>2</td><td>1</td></tr>",
                            "</table>"
                        ]
                    }
                }
            ],
            "execution_count": 9
        },
        {
            "cell_type": "code",
            "source": [
                "-- Cho 2 bảng như trên\n",
                "-- tìm tất cả những customers mà chưa bao giờ Order lần nào?"
            ],
            "metadata": {
                "azdata_cell_guid": "fc85b748-061b-4c0b-9540-98182b158350",
                "language": "sql"
            },
            "outputs": [],
            "execution_count": null
        },
        {
            "cell_type": "code",
            "source": [
                "-- \n",
                "SELECT \n",
                "-- Customers.id, Customers.name, Orders.id, Orders.customerId \n",
                "*\n",
                "FROM Customers\n",
                "LEFT JOIN Orders\n",
                "ON Customers.id = Orders.customerId\n",
                "WHERE Orders.id is NULL"
            ],
            "metadata": {
                "language": "sql",
                "azdata_cell_guid": "802a469e-26ae-4e79-ad08-9edb1d653c0d"
            },
            "outputs": [
                {
                    "output_type": "display_data",
                    "data": {
                        "text/html": "(2 rows affected)"
                    },
                    "metadata": {}
                },
                {
                    "output_type": "display_data",
                    "data": {
                        "text/html": "Total execution time: 00:00:00.003"
                    },
                    "metadata": {}
                },
                {
                    "output_type": "execute_result",
                    "metadata": {},
                    "execution_count": 19,
                    "data": {
                        "application/vnd.dataresource+json": {
                            "schema": {
                                "fields": [
                                    {
                                        "name": "id"
                                    },
                                    {
                                        "name": "name"
                                    },
                                    {
                                        "name": "id"
                                    },
                                    {
                                        "name": "customerId"
                                    }
                                ]
                            },
                            "data": [
                                {
                                    "id": "NULL",
                                    "name": "Herry",
                                    "customerId": "NULL"
                                },
                                {
                                    "id": "NULL",
                                    "name": "Max",
                                    "customerId": "NULL"
                                }
                            ]
                        },
                        "text/html": [
                            "<table>",
                            "<tr><th>id</th><th>name</th><th>id</th><th>customerId</th></tr>",
                            "<tr><td>2</td><td>Herry</td><td>NULL</td><td>NULL</td></tr>",
                            "<tr><td>4</td><td>Max</td><td>NULL</td><td>NULL</td></tr>",
                            "</table>"
                        ]
                    }
                }
            ],
            "execution_count": 19
        }
    ]
}