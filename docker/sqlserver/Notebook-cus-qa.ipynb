{
    "metadata": {
        "kernelspec": {
            "name": "SQL",
            "display_name": "SQL",
            "language": "sql"
        },
        "language_info": {
            "name": "sql",
            "version": ""
        }
    },
    "nbformat_minor": 2,
    "nbformat": 4,
    "cells": [
        {
            "cell_type": "code",
            "source": [
                "USE SQLDBQuery;\n",
                "CREATE TABLE Customers (\n",
                "    id INT,\n",
                "    name NVARCHAR(30)\n",
                "\n",
                ")"
            ],
            "metadata": {
                "azdata_cell_guid": "ebb98672-a742-4744-8870-7a7595d19989",
                "language": "sql"
            },
            "outputs": [
                {
                    "output_type": "display_data",
                    "data": {
                        "text/html": "Commands completed successfully."
                    },
                    "metadata": {}
                },
                {
                    "output_type": "display_data",
                    "data": {
                        "text/html": "Total execution time: 00:00:00.012"
                    },
                    "metadata": {}
                }
            ],
            "execution_count": 2
        },
        {
            "cell_type": "code",
            "source": [
                "INSERT INTO Customers\n",
                "VALUES \n",
                "(1, N'Joe')\n",
                "\n",
                "INSERT INTO Customers\n",
                "VALUES \n",
                "(2, N'Herry')\n",
                "\n",
                "INSERT INTO Customers\n",
                "VALUES \n",
                "(3, N'Sam')\n",
                "\n",
                "INSERT INTO Customers\n",
                "VALUES \n",
                "(4, N'Max')"
            ],
            "metadata": {
                "language": "sql",
                "azdata_cell_guid": "5c6ac29e-983c-4d61-a06f-6a698894aa2e"
            },
            "outputs": [
                {
                    "output_type": "display_data",
                    "data": {
                        "text/html": "(1 row affected)"
                    },
                    "metadata": {}
                },
                {
                    "output_type": "display_data",
                    "data": {
                        "text/html": "(1 row affected)"
                    },
                    "metadata": {}
                },
                {
                    "output_type": "display_data",
                    "data": {
                        "text/html": "(1 row affected)"
                    },
                    "metadata": {}
                },
                {
                    "output_type": "display_data",
                    "data": {
                        "text/html": "(1 row affected)"
                    },
                    "metadata": {}
                },
                {
                    "output_type": "display_data",
                    "data": {
                        "text/html": "Total execution time: 00:00:00.036"
                    },
                    "metadata": {}
                }
            ],
            "execution_count": 3
        },
        {
            "cell_type": "code",
            "source": [
                "SELECT * FROM Customers;"
            ],
            "metadata": {
                "azdata_cell_guid": "45eba41b-1e04-4cfd-a4a6-3510aa5564d0",
                "language": "sql"
            },
            "outputs": [
                {
                    "output_type": "display_data",
                    "data": {
                        "text/html": "(4 rows affected)"
                    },
                    "metadata": {}
                },
                {
                    "output_type": "display_data",
                    "data": {
                        "text/html": "Total execution time: 00:00:00.005"
                    },
                    "metadata": {}
                },
                {
                    "output_type": "execute_result",
                    "execution_count": 4,
                    "data": {
                        "application/vnd.dataresource+json": {
                            "schema": {
                                "fields": [
                                    {
                                        "name": "id"
                                    },
                                    {
                                        "name": "name"
                                    }
                                ]
                            },
                            "data": [
                                {
                                    "id": "1",
                                    "name": "Joe"
                                },
                                {
                                    "id": "2",
                                    "name": "Herry"
                                },
                                {
                                    "id": "3",
                                    "name": "Sam"
                                },
                                {
                                    "id": "4",
                                    "name": "Max"
                                }
                            ]
                        },
                        "text/html": "<table><tr><th>id</th><th>name</th></tr><tr><td>1</td><td>Joe</td></tr><tr><td>2</td><td>Herry</td></tr><tr><td>3</td><td>Sam</td></tr><tr><td>4</td><td>Max</td></tr></table>"
                    },
                    "metadata": {}
                }
            ],
            "execution_count": 4
        },
        {
            "cell_type": "code",
            "source": [
                "CREATE TABLE Orders (\n",
                "    id INT,\n",
                "    customerId INT\n",
                ")"
            ],
            "metadata": {
                "azdata_cell_guid": "ac5490d9-124d-4d6c-8f55-b4492573cdba",
                "language": "sql"
            },
            "outputs": [
                {
                    "output_type": "display_data",
                    "data": {
                        "text/html": "Commands completed successfully."
                    },
                    "metadata": {}
                },
                {
                    "output_type": "display_data",
                    "data": {
                        "text/html": "Total execution time: 00:00:00.010"
                    },
                    "metadata": {}
                }
            ],
            "execution_count": 5
        },
        {
            "cell_type": "code",
            "source": [
                "-- thêm order vào bản Orders\n",
                "INSERT INTO Orders \n",
                "VALUES\n",
                "(\n",
                "    1,\n",
                "    3\n",
                ")\n",
                "\n",
                "INSERT INTO Orders \n",
                "VALUES\n",
                "(\n",
                "    2,\n",
                "    1\n",
                ")"
            ],
            "metadata": {
                "language": "sql",
                "azdata_cell_guid": "8856190d-8282-4ed1-b11f-2003d71ddc61"
            },
            "outputs": [
                {
                    "output_type": "display_data",
                    "data": {
                        "text/html": "(1 row affected)"
                    },
                    "metadata": {}
                },
                {
                    "output_type": "display_data",
                    "data": {
                        "text/html": "(1 row affected)"
                    },
                    "metadata": {}
                },
                {
                    "output_type": "display_data",
                    "data": {
                        "text/html": "Total execution time: 00:00:00.019"
                    },
                    "metadata": {}
                }
            ],
            "execution_count": 6
        },
        {
            "cell_type": "code",
            "source": [
                "-- xem bảng Orders\n",
                "SELECT * FROM Orders;"
            ],
            "metadata": {
                "azdata_cell_guid": "a90ec70c-b0ed-4a7d-8171-9033d441ba5b",
                "language": "sql"
            },
            "outputs": [
                {
                    "output_type": "display_data",
                    "data": {
                        "text/html": "(2 rows affected)"
                    },
                    "metadata": {}
                },
                {
                    "output_type": "display_data",
                    "data": {
                        "text/html": "Total execution time: 00:00:00.006"
                    },
                    "metadata": {}
                },
                {
                    "output_type": "execute_result",
                    "execution_count": 7,
                    "data": {
                        "application/vnd.dataresource+json": {
                            "schema": {
                                "fields": [
                                    {
                                        "name": "id"
                                    },
                                    {
                                        "name": "customerId"
                                    }
                                ]
                            },
                            "data": [
                                {
                                    "id": "1",
                                    "customerId": "3"
                                },
                                {
                                    "id": "2",
                                    "customerId": "1"
                                }
                            ]
                        },
                        "text/html": "<table><tr><th>id</th><th>customerId</th></tr><tr><td>1</td><td>3</td></tr><tr><td>2</td><td>1</td></tr></table>"
                    },
                    "metadata": {}
                }
            ],
            "execution_count": 7
        },
        {
            "cell_type": "code",
            "source": [
                "USE SQLDBQuery;\n",
                "SELECT name as customer FROM Customers\n",
                "WHERE id NOT IN (\n",
                "    SELECT customerId FROM Orders\n",
                ")"
            ],
            "metadata": {
                "azdata_cell_guid": "8e0342ae-0734-452a-92b0-dac40d576c89",
                "language": "sql"
            },
            "outputs": [
                {
                    "output_type": "display_data",
                    "data": {
                        "text/html": "(2 rows affected)"
                    },
                    "metadata": {}
                },
                {
                    "output_type": "display_data",
                    "data": {
                        "text/html": "Total execution time: 00:00:00.014"
                    },
                    "metadata": {}
                },
                {
                    "output_type": "execute_result",
                    "metadata": {},
                    "execution_count": 5,
                    "data": {
                        "application/vnd.dataresource+json": {
                            "schema": {
                                "fields": [
                                    {
                                        "name": "customer"
                                    }
                                ]
                            },
                            "data": [
                                {
                                    "customer": "Herry"
                                },
                                {
                                    "customer": "Max"
                                }
                            ]
                        },
                        "text/html": [
                            "<table>",
                            "<tr><th>customer</th></tr>",
                            "<tr><td>Herry</td></tr>",
                            "<tr><td>Max</td></tr>",
                            "</table>"
                        ]
                    }
                }
            ],
            "execution_count": 5
        }
    ]
}