{
    "metadata": {
        "kernelspec": {
            "name": "SQL",
            "display_name": "SQL",
            "language": "sql"
        },
        "language_info": {
            "name": "sql",
            "version": ""
        }
    },
    "nbformat_minor": 2,
    "nbformat": 4,
    "cells": [
        {
            "cell_type": "code",
            "source": [
                "USE SQLDBQuery;\n",
                "SELECT * FROM GiaoVien"
            ],
            "metadata": {
                "azdata_cell_guid": "e135fc2d-113c-43b5-a8ed-60dd6131761c",
                "language": "sql",
                "tags": []
            },
            "outputs": [
                {
                    "output_type": "display_data",
                    "data": {
                        "text/html": "(5 rows affected)"
                    },
                    "metadata": {}
                },
                {
                    "output_type": "display_data",
                    "data": {
                        "text/html": "Total execution time: 00:00:00.002"
                    },
                    "metadata": {}
                },
                {
                    "output_type": "execute_result",
                    "metadata": {},
                    "execution_count": 5,
                    "data": {
                        "application/vnd.dataresource+json": {
                            "schema": {
                                "fields": [
                                    {
                                        "name": "MaGV"
                                    },
                                    {
                                        "name": "Name"
                                    },
                                    {
                                        "name": "NgaySinh"
                                    },
                                    {
                                        "name": "Email"
                                    },
                                    {
                                        "name": "GioiTinh"
                                    },
                                    {
                                        "name": "id"
                                    }
                                ]
                            },
                            "data": [
                                {
                                    "MaGV": "0",
                                    "Name": "Giáo Viên 1",
                                    "NgaySinh": "NULL",
                                    "Email": "giaovien1@gmail.com           ",
                                    "GioiTinh": "1",
                                    "id": "NULL"
                                },
                                {
                                    "MaGV": "1",
                                    "Name": "Giáo Viên 2",
                                    "NgaySinh": "NULL",
                                    "Email": "default email                 ",
                                    "GioiTinh": "0",
                                    "id": "NULL"
                                },
                                {
                                    "MaGV": "2",
                                    "Name": "Giáo Viên 3",
                                    "NgaySinh": "NULL",
                                    "Email": "default email                 ",
                                    "GioiTinh": "0",
                                    "id": "NULL"
                                },
                                {
                                    "MaGV": "3",
                                    "Name": "Kha Bờ Đơ Con Dơ",
                                    "NgaySinh": "NULL",
                                    "Email": "default email                 ",
                                    "GioiTinh": "0",
                                    "id": "NULL"
                                },
                                {
                                    "MaGV": "4",
                                    "Name": "Giáo Viên 1",
                                    "NgaySinh": "NULL",
                                    "Email": "default email                 ",
                                    "GioiTinh": "0",
                                    "id": "NULL"
                                }
                            ]
                        },
                        "text/html": [
                            "<table>",
                            "<tr><th>MaGV</th><th>Name</th><th>NgaySinh</th><th>Email</th><th>GioiTinh</th><th>id</th></tr>",
                            "<tr><td>0</td><td>Giáo Viên 1</td><td>NULL</td><td>giaovien1@gmail.com           </td><td>1</td><td>NULL</td></tr>",
                            "<tr><td>1</td><td>Giáo Viên 2</td><td>NULL</td><td>default email                 </td><td>0</td><td>NULL</td></tr>",
                            "<tr><td>2</td><td>Giáo Viên 3</td><td>NULL</td><td>default email                 </td><td>0</td><td>NULL</td></tr>",
                            "<tr><td>3</td><td>Kha Bờ Đơ Con Dơ</td><td>NULL</td><td>default email                 </td><td>0</td><td>NULL</td></tr>",
                            "<tr><td>4</td><td>Giáo Viên 1</td><td>NULL</td><td>default email                 </td><td>0</td><td>NULL</td></tr>",
                            "</table>"
                        ]
                    }
                }
            ],
            "execution_count": 5
        },
        {
            "cell_type": "code",
            "source": [
                "-- them cot ngay sinh vao bang hoc sinh\n",
                "ALTER TABLE HocSinh \n",
                "DROP COLUMN NgaySinh;\n",
                "\n",
                ""
            ],
            "metadata": {
                "language": "sql",
                "azdata_cell_guid": "7cb77627-ebd7-4142-89f6-26edb4c1f3e3",
                "tags": []
            },
            "outputs": [
                {
                    "output_type": "display_data",
                    "data": {
                        "text/html": "Commands completed successfully."
                    },
                    "metadata": {}
                },
                {
                    "output_type": "display_data",
                    "data": {
                        "text/html": "Total execution time: 00:00:00.010"
                    },
                    "metadata": {}
                }
            ],
            "execution_count": 26
        },
        {
            "cell_type": "code",
            "source": [
                "-- them cot ngay sinh vao bang hoc sinh\n",
                "\n",
                "ALTER TABLE HocSinh \n",
                "ADD NgaySinh DATE NOT NULL DEFAULT '2000-01-01';"
            ],
            "metadata": {
                "language": "sql",
                "azdata_cell_guid": "d52381a1-843d-41e2-90cc-e02ab1da54ec"
            },
            "outputs": [
                {
                    "output_type": "error",
                    "ename": "",
                    "evalue": "Msg 2705, Level 16, State 4, Line 3\nColumn names in each table must be unique. Column name 'NgaySinh' in table 'HocSinh' is specified more than once.",
                    "traceback": []
                },
                {
                    "output_type": "display_data",
                    "data": {
                        "text/html": "Total execution time: 00:00:00.001"
                    },
                    "metadata": {}
                }
            ],
            "execution_count": 59
        },
        {
            "cell_type": "code",
            "source": [
                "-- query HS\n",
                "SELECT * FROM HocSinh;"
            ],
            "metadata": {
                "azdata_cell_guid": "40d645da-01f4-4bde-bbd1-fa3f89355989",
                "language": "sql"
            },
            "outputs": [
                {
                    "output_type": "display_data",
                    "data": {
                        "text/html": "(5 rows affected)"
                    },
                    "metadata": {}
                },
                {
                    "output_type": "display_data",
                    "data": {
                        "text/html": "Total execution time: 00:00:00.002"
                    },
                    "metadata": {}
                },
                {
                    "output_type": "execute_result",
                    "execution_count": 60,
                    "data": {
                        "application/vnd.dataresource+json": {
                            "schema": {
                                "fields": [
                                    {
                                        "name": "MaHS"
                                    },
                                    {
                                        "name": "Name"
                                    },
                                    {
                                        "name": "NgaySinh"
                                    }
                                ]
                            },
                            "data": [
                                {
                                    "MaHS": "1",
                                    "Name": "Cí quần                                                                                             ",
                                    "NgaySinh": "1999-09-19"
                                },
                                {
                                    "MaHS": "2",
                                    "Name": "Nguyễn văn bd                                                                                       ",
                                    "NgaySinh": "2000-01-01"
                                },
                                {
                                    "MaHS": "3",
                                    "Name": "Con bà cừ nè bạn                                                                                    ",
                                    "NgaySinh": "2000-01-01"
                                },
                                {
                                    "MaHS": "4",
                                    "Name": "Phạm Vân BB                                                                                         ",
                                    "NgaySinh": "2023-10-26"
                                },
                                {
                                    "MaHS": "5",
                                    "Name": "Ngô Bún                                                                                             ",
                                    "NgaySinh": "2023-10-26"
                                }
                            ]
                        },
                        "text/html": "<table><tr><th>MaHS</th><th>Name</th><th>NgaySinh</th></tr><tr><td>1</td><td>Cí quần                                                                                             </td><td>1999-09-19</td></tr><tr><td>2</td><td>Nguyễn văn bd                                                                                       </td><td>2000-01-01</td></tr><tr><td>3</td><td>Con bà cừ nè bạn                                                                                    </td><td>2000-01-01</td></tr><tr><td>4</td><td>Phạm Vân BB                                                                                         </td><td>2023-10-26</td></tr><tr><td>5</td><td>Ngô Bún                                                                                             </td><td>2023-10-26</td></tr></table>"
                    },
                    "metadata": {}
                }
            ],
            "execution_count": 60
        },
        {
            "cell_type": "code",
            "source": [
                ""
            ],
            "metadata": {
                "azdata_cell_guid": "6fb83a43-b359-4027-ae3f-d006ecc0a082",
                "language": "sql"
            },
            "outputs": [],
            "execution_count": null
        },
        {
            "cell_type": "code",
            "source": [
                "ALTER TABLE HocSinh \n",
                "DROP CONSTRAINT DF__HocSinh__NgaySin__34C8D9D1;\n"
            ],
            "metadata": {
                "language": "sql",
                "azdata_cell_guid": "d70515a2-365a-484d-8c35-bc2560f4d452"
            },
            "outputs": [
                {
                    "output_type": "display_data",
                    "data": {
                        "text/html": "Commands completed successfully."
                    },
                    "metadata": {}
                },
                {
                    "output_type": "display_data",
                    "data": {
                        "text/html": "Total execution time: 00:00:00.012"
                    },
                    "metadata": {}
                }
            ],
            "execution_count": 25
        },
        {
            "cell_type": "code",
            "source": [
                "UPDATE HocSinh\n",
                "\n",
                "SET Name = N'Con bà cừ nè bạn'\n",
                "\n",
                "WHERE MaHS = 3"
            ],
            "metadata": {
                "azdata_cell_guid": "54e3292f-c5e2-458f-9e19-362bb10d36ff",
                "language": "sql",
                "tags": []
            },
            "outputs": [
                {
                    "output_type": "display_data",
                    "data": {
                        "text/html": "(1 row affected)"
                    },
                    "metadata": {}
                },
                {
                    "output_type": "display_data",
                    "data": {
                        "text/html": "Total execution time: 00:00:00.009"
                    },
                    "metadata": {}
                }
            ],
            "execution_count": 43
        },
        {
            "cell_type": "code",
            "source": [
                "-- sua doi kieu du lieu cua lolumn\n",
                "ALTER TABLE HocSinh\n",
                "ALTER COLUMN Name NCHAR(100)"
            ],
            "metadata": {
                "azdata_cell_guid": "60712aef-407d-41f4-ae0a-be5353ba6f85",
                "language": "sql",
                "tags": []
            },
            "outputs": [
                {
                    "output_type": "display_data",
                    "data": {
                        "text/html": "Commands completed successfully."
                    },
                    "metadata": {}
                },
                {
                    "output_type": "display_data",
                    "data": {
                        "text/html": "Total execution time: 00:00:00.045"
                    },
                    "metadata": {}
                }
            ],
            "execution_count": 37
        },
        {
            "cell_type": "code",
            "source": [
                "-- \n",
                "INSERT HocSinh\n",
                "(MaHS, Name, NgaySinh)\n",
                "VALUES\n",
                "(6, N'Phạm Vân Chiêu', GETDATE())"
            ],
            "metadata": {
                "azdata_cell_guid": "93099cb6-1eb5-4e7d-985e-ac66343f7538",
                "language": "sql",
                "tags": []
            },
            "outputs": [
                {
                    "output_type": "display_data",
                    "data": {
                        "text/html": "(1 row affected)"
                    },
                    "metadata": {}
                },
                {
                    "output_type": "display_data",
                    "data": {
                        "text/html": "Total execution time: 00:00:00.009"
                    },
                    "metadata": {}
                }
            ],
            "execution_count": 62
        },
        {
            "cell_type": "code",
            "source": [
                "-- query HS\n",
                "SELECT * FROM HocSinh;"
            ],
            "metadata": {
                "language": "sql",
                "azdata_cell_guid": "85c0b9b5-14b5-458f-9604-9c86a997cc1b"
            },
            "outputs": [
                {
                    "output_type": "display_data",
                    "data": {
                        "text/html": "(6 rows affected)"
                    },
                    "metadata": {}
                },
                {
                    "output_type": "display_data",
                    "data": {
                        "text/html": "Total execution time: 00:00:00.003"
                    },
                    "metadata": {}
                },
                {
                    "output_type": "execute_result",
                    "execution_count": 63,
                    "data": {
                        "application/vnd.dataresource+json": {
                            "schema": {
                                "fields": [
                                    {
                                        "name": "MaHS"
                                    },
                                    {
                                        "name": "Name"
                                    },
                                    {
                                        "name": "NgaySinh"
                                    }
                                ]
                            },
                            "data": [
                                {
                                    "MaHS": "1",
                                    "Name": "Cí quần                                                                                             ",
                                    "NgaySinh": "1999-09-19"
                                },
                                {
                                    "MaHS": "2",
                                    "Name": "Nguyễn văn bd                                                                                       ",
                                    "NgaySinh": "2000-01-01"
                                },
                                {
                                    "MaHS": "3",
                                    "Name": "Con bà cừ nè bạn                                                                                    ",
                                    "NgaySinh": "2000-01-01"
                                },
                                {
                                    "MaHS": "4",
                                    "Name": "Phạm Vân BB                                                                                         ",
                                    "NgaySinh": "2023-10-26"
                                },
                                {
                                    "MaHS": "5",
                                    "Name": "Ngô Bún                                                                                             ",
                                    "NgaySinh": "2023-10-26"
                                },
                                {
                                    "MaHS": "6",
                                    "Name": "Phạm Vân Chiêu                                                                                      ",
                                    "NgaySinh": "2023-10-26"
                                }
                            ]
                        },
                        "text/html": "<table><tr><th>MaHS</th><th>Name</th><th>NgaySinh</th></tr><tr><td>1</td><td>Cí quần                                                                                             </td><td>1999-09-19</td></tr><tr><td>2</td><td>Nguyễn văn bd                                                                                       </td><td>2000-01-01</td></tr><tr><td>3</td><td>Con bà cừ nè bạn                                                                                    </td><td>2000-01-01</td></tr><tr><td>4</td><td>Phạm Vân BB                                                                                         </td><td>2023-10-26</td></tr><tr><td>5</td><td>Ngô Bún                                                                                             </td><td>2023-10-26</td></tr><tr><td>6</td><td>Phạm Vân Chiêu                                                                                      </td><td>2023-10-26</td></tr></table>"
                    },
                    "metadata": {}
                }
            ],
            "execution_count": 63
        },
        {
            "cell_type": "code",
            "source": [
                "sp_tables\n",
                "GO"
            ],
            "metadata": {
                "language": "sql",
                "azdata_cell_guid": "4e37de1b-0fac-4abe-a5b8-f959315a8447"
            },
            "outputs": [
                {
                    "output_type": "display_data",
                    "data": {
                        "text/html": "(541 rows affected)"
                    },
                    "metadata": {}
                },
                {
                    "output_type": "display_data",
                    "data": {
                        "text/html": "Total execution time: 00:00:00.027"
                    },
                    "metadata": {}
                },
                {
                    "output_type": "execute_result",
                    "execution_count": 56,
                    "data": {
                        "application/vnd.dataresource+json": {
                            "schema": {
                                "fields": [
                                    {
                                        "name": "TABLE_QUALIFIER"
                                    },
                                    {
                                        "name": "TABLE_OWNER"
                                    },
                                    {
                                        "name": "TABLE_NAME"
                                    },
                                    {
                                        "name": "TABLE_TYPE"
                                    },
                                    {
                                        "name": "REMARKS"
                                    }
                                ]
                            },
                            "data": [
                                {
                                    "TABLE_QUALIFIER": "SQLDBQuery",
                                    "TABLE_OWNER": "dbo",
                                    "TABLE_NAME": "GiaoVien",
                                    "TABLE_TYPE": "TABLE",
                                    "REMARKS": "NULL"
                                },
                                {
                                    "TABLE_QUALIFIER": "SQLDBQuery",
                                    "TABLE_OWNER": "dbo",
                                    "TABLE_NAME": "HocSinh",
                                    "TABLE_TYPE": "TABLE",
                                    "REMARKS": "NULL"
                                },
                                {
                                    "TABLE_QUALIFIER": "SQLDBQuery",
                                    "TABLE_OWNER": "sys",
                                    "TABLE_NAME": "trace_xe_action_map",
                                    "TABLE_TYPE": "TABLE",
                                    "REMARKS": "NULL"
                                },
                                {
                                    "TABLE_QUALIFIER": "SQLDBQuery",
                                    "TABLE_OWNER": "sys",
                                    "TABLE_NAME": "trace_xe_event_map",
                                    "TABLE_TYPE": "TABLE",
                                    "REMARKS": "NULL"
                                },
                                {
                                    "TABLE_QUALIFIER": "SQLDBQuery",
                                    "TABLE_OWNER": "INFORMATION_SCHEMA",
                                    "TABLE_NAME": "CHECK_CONSTRAINTS",
                                    "TABLE_TYPE": "VIEW",
                                    "REMARKS": "NULL"
                                },
                                {
                                    "TABLE_QUALIFIER": "SQLDBQuery",
                                    "TABLE_OWNER": "INFORMATION_SCHEMA",
                                    "TABLE_NAME": "COLUMN_DOMAIN_USAGE",
                                    "TABLE_TYPE": "VIEW",
                                    "REMARKS": "NULL"
                                },
                                {
                                    "TABLE_QUALIFIER": "SQLDBQuery",
                                    "TABLE_OWNER": "INFORMATION_SCHEMA",
                                    "TABLE_NAME": "COLUMN_PRIVILEGES",
                                    "TABLE_TYPE": "VIEW",
                                    "REMARKS": "NULL"
                                },
                                {
                                    "TABLE_QUALIFIER": "SQLDBQuery",
                                    "TABLE_OWNER": "INFORMATION_SCHEMA",
                                    "TABLE_NAME": "COLUMNS",
                                    "TABLE_TYPE": "VIEW",
                                    "REMARKS": "NULL"
                                },
                                {
                                    "TABLE_QUALIFIER": "SQLDBQuery",
                                    "TABLE_OWNER": "INFORMATION_SCHEMA",
                                    "TABLE_NAME": "CONSTRAINT_COLUMN_USAGE",
                                    "TABLE_TYPE": "VIEW",
                                    "REMARKS": "NULL"
                                },
                                {
                                    "TABLE_QUALIFIER": "SQLDBQuery",
                                    "TABLE_OWNER": "INFORMATION_SCHEMA",
                                    "TABLE_NAME": "CONSTRAINT_TABLE_USAGE",
                                    "TABLE_TYPE": "VIEW",
                                    "REMARKS": "NULL"
                                },
                                {
                                    "TABLE_QUALIFIER": "SQLDBQuery",
                                    "TABLE_OWNER": "INFORMATION_SCHEMA",
                                    "TABLE_NAME": "DOMAIN_CONSTRAINTS",
                                    "TABLE_TYPE": "VIEW",
                                    "REMARKS": "NULL"
                                },
                                {
                                    "TABLE_QUALIFIER": "SQLDBQuery",
                                    "TABLE_OWNER": "INFORMATION_SCHEMA",
                                    "TABLE_NAME": "DOMAINS",
                                    "TABLE_TYPE": "VIEW",
                                    "REMARKS": "NULL"
                                },
                                {
                                    "TABLE_QUALIFIER": "SQLDBQuery",
                                    "TABLE_OWNER": "INFORMATION_SCHEMA",
                                    "TABLE_NAME": "KEY_COLUMN_USAGE",
                                    "TABLE_TYPE": "VIEW",
                                    "REMARKS": "NULL"
                                },
                                {
                                    "TABLE_QUALIFIER": "SQLDBQuery",
                                    "TABLE_OWNER": "INFORMATION_SCHEMA",
                                    "TABLE_NAME": "PARAMETERS",
                                    "TABLE_TYPE": "VIEW",
                                    "REMARKS": "NULL"
                                },
                                {
                                    "TABLE_QUALIFIER": "SQLDBQuery",
                                    "TABLE_OWNER": "INFORMATION_SCHEMA",
                                    "TABLE_NAME": "REFERENTIAL_CONSTRAINTS",
                                    "TABLE_TYPE": "VIEW",
                                    "REMARKS": "NULL"
                                },
                                {
                                    "TABLE_QUALIFIER": "SQLDBQuery",
                                    "TABLE_OWNER": "INFORMATION_SCHEMA",
                                    "TABLE_NAME": "ROUTINE_COLUMNS",
                                    "TABLE_TYPE": "VIEW",
                                    "REMARKS": "NULL"
                                },
                                {
                                    "TABLE_QUALIFIER": "SQLDBQuery",
                                    "TABLE_OWNER": "INFORMATION_SCHEMA",
                                    "TABLE_NAME": "ROUTINES",
                                    "TABLE_TYPE": "VIEW",
                                    "REMARKS": "NULL"
                                },
                                {
                                    "TABLE_QUALIFIER": "SQLDBQuery",
                                    "TABLE_OWNER": "INFORMATION_SCHEMA",
                                    "TABLE_NAME": "SCHEMATA",
                                    "TABLE_TYPE": "VIEW",
                                    "REMARKS": "NULL"
                                },
                                {
                                    "TABLE_QUALIFIER": "SQLDBQuery",
                                    "TABLE_OWNER": "INFORMATION_SCHEMA",
                                    "TABLE_NAME": "SEQUENCES",
                                    "TABLE_TYPE": "VIEW",
                                    "REMARKS": "NULL"
                                },
                                {
                                    "TABLE_QUALIFIER": "SQLDBQuery",
                                    "TABLE_OWNER": "INFORMATION_SCHEMA",
                                    "TABLE_NAME": "TABLE_CONSTRAINTS",
                                    "TABLE_TYPE": "VIEW",
                                    "REMARKS": "NULL"
                                },
                                {
                                    "TABLE_QUALIFIER": "SQLDBQuery",
                                    "TABLE_OWNER": "INFORMATION_SCHEMA",
                                    "TABLE_NAME": "TABLE_PRIVILEGES",
                                    "TABLE_TYPE": "VIEW",
                                    "REMARKS": "NULL"
                                },
                                {
                                    "TABLE_QUALIFIER": "SQLDBQuery",
                                    "TABLE_OWNER": "INFORMATION_SCHEMA",
                                    "TABLE_NAME": "TABLES",
                                    "TABLE_TYPE": "VIEW",
                                    "REMARKS": "NULL"
                                },
                                {
                                    "TABLE_QUALIFIER": "SQLDBQuery",
                                    "TABLE_OWNER": "INFORMATION_SCHEMA",
                                    "TABLE_NAME": "VIEW_COLUMN_USAGE",
                                    "TABLE_TYPE": "VIEW",
                                    "REMARKS": "NULL"
                                },
                                {
                                    "TABLE_QUALIFIER": "SQLDBQuery",
                                    "TABLE_OWNER": "INFORMATION_SCHEMA",
                                    "TABLE_NAME": "VIEW_TABLE_USAGE",
                                    "TABLE_TYPE": "VIEW",
                                    "REMARKS": "NULL"
                                },
                                {
                                    "TABLE_QUALIFIER": "SQLDBQuery",
                                    "TABLE_OWNER": "INFORMATION_SCHEMA",
                                    "TABLE_NAME": "VIEWS",
                                    "TABLE_TYPE": "VIEW",
                                    "REMARKS": "NULL"
                                },
                                {
                                    "TABLE_QUALIFIER": "SQLDBQuery",
                                    "TABLE_OWNER": "sys",
                                    "TABLE_NAME": "all_columns",
                                    "TABLE_TYPE": "VIEW",
                                    "REMARKS": "NULL"
                                },
                                {
                                    "TABLE_QUALIFIER": "SQLDBQuery",
                                    "TABLE_OWNER": "sys",
                                    "TABLE_NAME": "all_objects",
                                    "TABLE_TYPE": "VIEW",
                                    "REMARKS": "NULL"
                                },
                                {
                                    "TABLE_QUALIFIER": "SQLDBQuery",
                                    "TABLE_OWNER": "sys",
                                    "TABLE_NAME": "all_parameters",
                                    "TABLE_TYPE": "VIEW",
                                    "REMARKS": "NULL"
                                },
                                {
                                    "TABLE_QUALIFIER": "SQLDBQuery",
                                    "TABLE_OWNER": "sys",
                                    "TABLE_NAME": "all_sql_modules",
                                    "TABLE_TYPE": "VIEW",
                                    "REMARKS": "NULL"
                                },
                                {
                                    "TABLE_QUALIFIER": "SQLDBQuery",
                                    "TABLE_OWNER": "sys",
                                    "TABLE_NAME": "all_views",
                                    "TABLE_TYPE": "VIEW",
                                    "REMARKS": "NULL"
                                },
                                {
                                    "TABLE_QUALIFIER": "SQLDBQuery",
                                    "TABLE_OWNER": "sys",
                                    "TABLE_NAME": "allocation_units",
                                    "TABLE_TYPE": "VIEW",
                                    "REMARKS": "NULL"
                                },
                                {
                                    "TABLE_QUALIFIER": "SQLDBQuery",
                                    "TABLE_OWNER": "sys",
                                    "TABLE_NAME": "assemblies",
                                    "TABLE_TYPE": "VIEW",
                                    "REMARKS": "NULL"
                                },
                                {
                                    "TABLE_QUALIFIER": "SQLDBQuery",
                                    "TABLE_OWNER": "sys",
                                    "TABLE_NAME": "assembly_files",
                                    "TABLE_TYPE": "VIEW",
                                    "REMARKS": "NULL"
                                },
                                {
                                    "TABLE_QUALIFIER": "SQLDBQuery",
                                    "TABLE_OWNER": "sys",
                                    "TABLE_NAME": "assembly_modules",
                                    "TABLE_TYPE": "VIEW",
                                    "REMARKS": "NULL"
                                },
                                {
                                    "TABLE_QUALIFIER": "SQLDBQuery",
                                    "TABLE_OWNER": "sys",
                                    "TABLE_NAME": "assembly_references",
                                    "TABLE_TYPE": "VIEW",
                                    "REMARKS": "NULL"
                                },
                                {
                                    "TABLE_QUALIFIER": "SQLDBQuery",
                                    "TABLE_OWNER": "sys",
                                    "TABLE_NAME": "assembly_types",
                                    "TABLE_TYPE": "VIEW",
                                    "REMARKS": "NULL"
                                },
                                {
                                    "TABLE_QUALIFIER": "SQLDBQuery",
                                    "TABLE_OWNER": "sys",
                                    "TABLE_NAME": "asymmetric_keys",
                                    "TABLE_TYPE": "VIEW",
                                    "REMARKS": "NULL"
                                },
                                {
                                    "TABLE_QUALIFIER": "SQLDBQuery",
                                    "TABLE_OWNER": "sys",
                                    "TABLE_NAME": "availability_databases_cluster",
                                    "TABLE_TYPE": "VIEW",
                                    "REMARKS": "NULL"
                                },
                                {
                                    "TABLE_QUALIFIER": "SQLDBQuery",
                                    "TABLE_OWNER": "sys",
                                    "TABLE_NAME": "availability_group_listener_ip_addresses",
                                    "TABLE_TYPE": "VIEW",
                                    "REMARKS": "NULL"
                                },
                                {
                                    "TABLE_QUALIFIER": "SQLDBQuery",
                                    "TABLE_OWNER": "sys",
                                    "TABLE_NAME": "availability_group_listeners",
                                    "TABLE_TYPE": "VIEW",
                                    "REMARKS": "NULL"
                                },
                                {
                                    "TABLE_QUALIFIER": "SQLDBQuery",
                                    "TABLE_OWNER": "sys",
                                    "TABLE_NAME": "availability_groups",
                                    "TABLE_TYPE": "VIEW",
                                    "REMARKS": "NULL"
                                },
                                {
                                    "TABLE_QUALIFIER": "SQLDBQuery",
                                    "TABLE_OWNER": "sys",
                                    "TABLE_NAME": "availability_groups_cluster",
                                    "TABLE_TYPE": "VIEW",
                                    "REMARKS": "NULL"
                                },
                                {
                                    "TABLE_QUALIFIER": "SQLDBQuery",
                                    "TABLE_OWNER": "sys",
                                    "TABLE_NAME": "availability_read_only_routing_lists",
                                    "TABLE_TYPE": "VIEW",
                                    "REMARKS": "NULL"
                                },
                                {
                                    "TABLE_QUALIFIER": "SQLDBQuery",
                                    "TABLE_OWNER": "sys",
                                    "TABLE_NAME": "availability_replicas",
                                    "TABLE_TYPE": "VIEW",
                                    "REMARKS": "NULL"
                                },
                                {
                                    "TABLE_QUALIFIER": "SQLDBQuery",
                                    "TABLE_OWNER": "sys",
                                    "TABLE_NAME": "backup_devices",
                                    "TABLE_TYPE": "VIEW",
                                    "REMARKS": "NULL"
                                },
                                {
                                    "TABLE_QUALIFIER": "SQLDBQuery",
                                    "TABLE_OWNER": "sys",
                                    "TABLE_NAME": "certificates",
                                    "TABLE_TYPE": "VIEW",
                                    "REMARKS": "NULL"
                                },
                                {
                                    "TABLE_QUALIFIER": "SQLDBQuery",
                                    "TABLE_OWNER": "sys",
                                    "TABLE_NAME": "change_tracking_databases",
                                    "TABLE_TYPE": "VIEW",
                                    "REMARKS": "NULL"
                                },
                                {
                                    "TABLE_QUALIFIER": "SQLDBQuery",
                                    "TABLE_OWNER": "sys",
                                    "TABLE_NAME": "change_tracking_tables",
                                    "TABLE_TYPE": "VIEW",
                                    "REMARKS": "NULL"
                                },
                                {
                                    "TABLE_QUALIFIER": "SQLDBQuery",
                                    "TABLE_OWNER": "sys",
                                    "TABLE_NAME": "check_constraints",
                                    "TABLE_TYPE": "VIEW",
                                    "REMARKS": "NULL"
                                },
                                {
                                    "TABLE_QUALIFIER": "SQLDBQuery",
                                    "TABLE_OWNER": "sys",
                                    "TABLE_NAME": "column_encryption_key_values",
                                    "TABLE_TYPE": "VIEW",
                                    "REMARKS": "NULL"
                                },
                                {
                                    "TABLE_QUALIFIER": "SQLDBQuery",
                                    "TABLE_OWNER": "sys",
                                    "TABLE_NAME": "column_encryption_keys",
                                    "TABLE_TYPE": "VIEW",
                                    "REMARKS": "NULL"
                                },
                                {
                                    "TABLE_QUALIFIER": "SQLDBQuery",
                                    "TABLE_OWNER": "sys",
                                    "TABLE_NAME": "column_master_keys",
                                    "TABLE_TYPE": "VIEW",
                                    "REMARKS": "NULL"
                                },
                                {
                                    "TABLE_QUALIFIER": "SQLDBQuery",
                                    "TABLE_OWNER": "sys",
                                    "TABLE_NAME": "column_store_dictionaries",
                                    "TABLE_TYPE": "VIEW",
                                    "REMARKS": "NULL"
                                },
                                {
                                    "TABLE_QUALIFIER": "SQLDBQuery",
                                    "TABLE_OWNER": "sys",
                                    "TABLE_NAME": "column_store_row_groups",
                                    "TABLE_TYPE": "VIEW",
                                    "REMARKS": "NULL"
                                },
                                {
                                    "TABLE_QUALIFIER": "SQLDBQuery",
                                    "TABLE_OWNER": "sys",
                                    "TABLE_NAME": "column_store_segments",
                                    "TABLE_TYPE": "VIEW",
                                    "REMARKS": "NULL"
                                },
                                {
                                    "TABLE_QUALIFIER": "SQLDBQuery",
                                    "TABLE_OWNER": "sys",
                                    "TABLE_NAME": "column_type_usages",
                                    "TABLE_TYPE": "VIEW",
                                    "REMARKS": "NULL"
                                },
                                {
                                    "TABLE_QUALIFIER": "SQLDBQuery",
                                    "TABLE_OWNER": "sys",
                                    "TABLE_NAME": "column_xml_schema_collection_usages",
                                    "TABLE_TYPE": "VIEW",
                                    "REMARKS": "NULL"
                                },
                                {
                                    "TABLE_QUALIFIER": "SQLDBQuery",
                                    "TABLE_OWNER": "sys",
                                    "TABLE_NAME": "columns",
                                    "TABLE_TYPE": "VIEW",
                                    "REMARKS": "NULL"
                                },
                                {
                                    "TABLE_QUALIFIER": "SQLDBQuery",
                                    "TABLE_OWNER": "sys",
                                    "TABLE_NAME": "computed_columns",
                                    "TABLE_TYPE": "VIEW",
                                    "REMARKS": "NULL"
                                },
                                {
                                    "TABLE_QUALIFIER": "SQLDBQuery",
                                    "TABLE_OWNER": "sys",
                                    "TABLE_NAME": "configurations",
                                    "TABLE_TYPE": "VIEW",
                                    "REMARKS": "NULL"
                                },
                                {
                                    "TABLE_QUALIFIER": "SQLDBQuery",
                                    "TABLE_OWNER": "sys",
                                    "TABLE_NAME": "conversation_endpoints",
                                    "TABLE_TYPE": "VIEW",
                                    "REMARKS": "NULL"
                                },
                                {
                                    "TABLE_QUALIFIER": "SQLDBQuery",
                                    "TABLE_OWNER": "sys",
                                    "TABLE_NAME": "conversation_groups",
                                    "TABLE_TYPE": "VIEW",
                                    "REMARKS": "NULL"
                                },
                                {
                                    "TABLE_QUALIFIER": "SQLDBQuery",
                                    "TABLE_OWNER": "sys",
                                    "TABLE_NAME": "conversation_priorities",
                                    "TABLE_TYPE": "VIEW",
                                    "REMARKS": "NULL"
                                },
                                {
                                    "TABLE_QUALIFIER": "SQLDBQuery",
                                    "TABLE_OWNER": "sys",
                                    "TABLE_NAME": "credentials",
                                    "TABLE_TYPE": "VIEW",
                                    "REMARKS": "NULL"
                                },
                                {
                                    "TABLE_QUALIFIER": "SQLDBQuery",
                                    "TABLE_OWNER": "sys",
                                    "TABLE_NAME": "crypt_properties",
                                    "TABLE_TYPE": "VIEW",
                                    "REMARKS": "NULL"
                                },
                                {
                                    "TABLE_QUALIFIER": "SQLDBQuery",
                                    "TABLE_OWNER": "sys",
                                    "TABLE_NAME": "cryptographic_providers",
                                    "TABLE_TYPE": "VIEW",
                                    "REMARKS": "NULL"
                                },
                                {
                                    "TABLE_QUALIFIER": "SQLDBQuery",
                                    "TABLE_OWNER": "sys",
                                    "TABLE_NAME": "data_spaces",
                                    "TABLE_TYPE": "VIEW",
                                    "REMARKS": "NULL"
                                },
                                {
                                    "TABLE_QUALIFIER": "SQLDBQuery",
                                    "TABLE_OWNER": "sys",
                                    "TABLE_NAME": "database_audit_specification_details",
                                    "TABLE_TYPE": "VIEW",
                                    "REMARKS": "NULL"
                                },
                                {
                                    "TABLE_QUALIFIER": "SQLDBQuery",
                                    "TABLE_OWNER": "sys",
                                    "TABLE_NAME": "database_audit_specifications",
                                    "TABLE_TYPE": "VIEW",
                                    "REMARKS": "NULL"
                                },
                                {
                                    "TABLE_QUALIFIER": "SQLDBQuery",
                                    "TABLE_OWNER": "sys",
                                    "TABLE_NAME": "database_automatic_tuning_mode",
                                    "TABLE_TYPE": "VIEW",
                                    "REMARKS": "NULL"
                                },
                                {
                                    "TABLE_QUALIFIER": "SQLDBQuery",
                                    "TABLE_OWNER": "sys",
                                    "TABLE_NAME": "database_automatic_tuning_options",
                                    "TABLE_TYPE": "VIEW",
                                    "REMARKS": "NULL"
                                },
                                {
                                    "TABLE_QUALIFIER": "SQLDBQuery",
                                    "TABLE_OWNER": "sys",
                                    "TABLE_NAME": "database_credentials",
                                    "TABLE_TYPE": "VIEW",
                                    "REMARKS": "NULL"
                                },
                                {
                                    "TABLE_QUALIFIER": "SQLDBQuery",
                                    "TABLE_OWNER": "sys",
                                    "TABLE_NAME": "database_files",
                                    "TABLE_TYPE": "VIEW",
                                    "REMARKS": "NULL"
                                },
                                {
                                    "TABLE_QUALIFIER": "SQLDBQuery",
                                    "TABLE_OWNER": "sys",
                                    "TABLE_NAME": "database_filestream_options",
                                    "TABLE_TYPE": "VIEW",
                                    "REMARKS": "NULL"
                                },
                                {
                                    "TABLE_QUALIFIER": "SQLDBQuery",
                                    "TABLE_OWNER": "sys",
                                    "TABLE_NAME": "database_mirroring",
                                    "TABLE_TYPE": "VIEW",
                                    "REMARKS": "NULL"
                                },
                                {
                                    "TABLE_QUALIFIER": "SQLDBQuery",
                                    "TABLE_OWNER": "sys",
                                    "TABLE_NAME": "database_mirroring_endpoints",
                                    "TABLE_TYPE": "VIEW",
                                    "REMARKS": "NULL"
                                },
                                {
                                    "TABLE_QUALIFIER": "SQLDBQuery",
                                    "TABLE_OWNER": "sys",
                                    "TABLE_NAME": "database_mirroring_witnesses",
                                    "TABLE_TYPE": "VIEW",
                                    "REMARKS": "NULL"
                                },
                                {
                                    "TABLE_QUALIFIER": "SQLDBQuery",
                                    "TABLE_OWNER": "sys",
                                    "TABLE_NAME": "database_permissions",
                                    "TABLE_TYPE": "VIEW",
                                    "REMARKS": "NULL"
                                },
                                {
                                    "TABLE_QUALIFIER": "SQLDBQuery",
                                    "TABLE_OWNER": "sys",
                                    "TABLE_NAME": "database_principals",
                                    "TABLE_TYPE": "VIEW",
                                    "REMARKS": "NULL"
                                },
                                {
                                    "TABLE_QUALIFIER": "SQLDBQuery",
                                    "TABLE_OWNER": "sys",
                                    "TABLE_NAME": "database_query_store_options",
                                    "TABLE_TYPE": "VIEW",
                                    "REMARKS": "NULL"
                                },
                                {
                                    "TABLE_QUALIFIER": "SQLDBQuery",
                                    "TABLE_OWNER": "sys",
                                    "TABLE_NAME": "database_recovery_status",
                                    "TABLE_TYPE": "VIEW",
                                    "REMARKS": "NULL"
                                },
                                {
                                    "TABLE_QUALIFIER": "SQLDBQuery",
                                    "TABLE_OWNER": "sys",
                                    "TABLE_NAME": "database_role_members",
                                    "TABLE_TYPE": "VIEW",
                                    "REMARKS": "NULL"
                                },
                                {
                                    "TABLE_QUALIFIER": "SQLDBQuery",
                                    "TABLE_OWNER": "sys",
                                    "TABLE_NAME": "database_scoped_configurations",
                                    "TABLE_TYPE": "VIEW",
                                    "REMARKS": "NULL"
                                },
                                {
                                    "TABLE_QUALIFIER": "SQLDBQuery",
                                    "TABLE_OWNER": "sys",
                                    "TABLE_NAME": "database_scoped_credentials",
                                    "TABLE_TYPE": "VIEW",
                                    "REMARKS": "NULL"
                                },
                                {
                                    "TABLE_QUALIFIER": "SQLDBQuery",
                                    "TABLE_OWNER": "sys",
                                    "TABLE_NAME": "databases",
                                    "TABLE_TYPE": "VIEW",
                                    "REMARKS": "NULL"
                                },
                                {
                                    "TABLE_QUALIFIER": "SQLDBQuery",
                                    "TABLE_OWNER": "sys",
                                    "TABLE_NAME": "default_constraints",
                                    "TABLE_TYPE": "VIEW",
                                    "REMARKS": "NULL"
                                },
                                {
                                    "TABLE_QUALIFIER": "SQLDBQuery",
                                    "TABLE_OWNER": "sys",
                                    "TABLE_NAME": "destination_data_spaces",
                                    "TABLE_TYPE": "VIEW",
                                    "REMARKS": "NULL"
                                },
                                {
                                    "TABLE_QUALIFIER": "SQLDBQuery",
                                    "TABLE_OWNER": "sys",
                                    "TABLE_NAME": "dm_audit_actions",
                                    "TABLE_TYPE": "VIEW",
                                    "REMARKS": "NULL"
                                },
                                {
                                    "TABLE_QUALIFIER": "SQLDBQuery",
                                    "TABLE_OWNER": "sys",
                                    "TABLE_NAME": "dm_audit_class_type_map",
                                    "TABLE_TYPE": "VIEW",
                                    "REMARKS": "NULL"
                                },
                                {
                                    "TABLE_QUALIFIER": "SQLDBQuery",
                                    "TABLE_OWNER": "sys",
                                    "TABLE_NAME": "dm_broker_activated_tasks",
                                    "TABLE_TYPE": "VIEW",
                                    "REMARKS": "NULL"
                                },
                                {
                                    "TABLE_QUALIFIER": "SQLDBQuery",
                                    "TABLE_OWNER": "sys",
                                    "TABLE_NAME": "dm_broker_connections",
                                    "TABLE_TYPE": "VIEW",
                                    "REMARKS": "NULL"
                                },
                                {
                                    "TABLE_QUALIFIER": "SQLDBQuery",
                                    "TABLE_OWNER": "sys",
                                    "TABLE_NAME": "dm_broker_forwarded_messages",
                                    "TABLE_TYPE": "VIEW",
                                    "REMARKS": "NULL"
                                },
                                {
                                    "TABLE_QUALIFIER": "SQLDBQuery",
                                    "TABLE_OWNER": "sys",
                                    "TABLE_NAME": "dm_broker_queue_monitors",
                                    "TABLE_TYPE": "VIEW",
                                    "REMARKS": "NULL"
                                },
                                {
                                    "TABLE_QUALIFIER": "SQLDBQuery",
                                    "TABLE_OWNER": "sys",
                                    "TABLE_NAME": "dm_cache_hit_stats",
                                    "TABLE_TYPE": "VIEW",
                                    "REMARKS": "NULL"
                                },
                                {
                                    "TABLE_QUALIFIER": "SQLDBQuery",
                                    "TABLE_OWNER": "sys",
                                    "TABLE_NAME": "dm_cache_size",
                                    "TABLE_TYPE": "VIEW",
                                    "REMARKS": "NULL"
                                },
                                {
                                    "TABLE_QUALIFIER": "SQLDBQuery",
                                    "TABLE_OWNER": "sys",
                                    "TABLE_NAME": "dm_cache_stats",
                                    "TABLE_TYPE": "VIEW",
                                    "REMARKS": "NULL"
                                },
                                {
                                    "TABLE_QUALIFIER": "SQLDBQuery",
                                    "TABLE_OWNER": "sys",
                                    "TABLE_NAME": "dm_cdc_errors",
                                    "TABLE_TYPE": "VIEW",
                                    "REMARKS": "NULL"
                                },
                                {
                                    "TABLE_QUALIFIER": "SQLDBQuery",
                                    "TABLE_OWNER": "sys",
                                    "TABLE_NAME": "dm_cdc_log_scan_sessions",
                                    "TABLE_TYPE": "VIEW",
                                    "REMARKS": "NULL"
                                },
                                {
                                    "TABLE_QUALIFIER": "SQLDBQuery",
                                    "TABLE_OWNER": "sys",
                                    "TABLE_NAME": "dm_clr_appdomains",
                                    "TABLE_TYPE": "VIEW",
                                    "REMARKS": "NULL"
                                },
                                {
                                    "TABLE_QUALIFIER": "SQLDBQuery",
                                    "TABLE_OWNER": "sys",
                                    "TABLE_NAME": "dm_clr_loaded_assemblies",
                                    "TABLE_TYPE": "VIEW",
                                    "REMARKS": "NULL"
                                },
                                {
                                    "TABLE_QUALIFIER": "SQLDBQuery",
                                    "TABLE_OWNER": "sys",
                                    "TABLE_NAME": "dm_clr_properties",
                                    "TABLE_TYPE": "VIEW",
                                    "REMARKS": "NULL"
                                },
                                {
                                    "TABLE_QUALIFIER": "SQLDBQuery",
                                    "TABLE_OWNER": "sys",
                                    "TABLE_NAME": "dm_clr_tasks",
                                    "TABLE_TYPE": "VIEW",
                                    "REMARKS": "NULL"
                                },
                                {
                                    "TABLE_QUALIFIER": "SQLDBQuery",
                                    "TABLE_OWNER": "sys",
                                    "TABLE_NAME": "dm_cluster_endpoints",
                                    "TABLE_TYPE": "VIEW",
                                    "REMARKS": "NULL"
                                },
                                {
                                    "TABLE_QUALIFIER": "SQLDBQuery",
                                    "TABLE_OWNER": "sys",
                                    "TABLE_NAME": "dm_column_encryption_enclave",
                                    "TABLE_TYPE": "VIEW",
                                    "REMARKS": "NULL"
                                },
                                {
                                    "TABLE_QUALIFIER": "SQLDBQuery",
                                    "TABLE_OWNER": "sys",
                                    "TABLE_NAME": "dm_column_encryption_enclave_operation_stats",
                                    "TABLE_TYPE": "VIEW",
                                    "REMARKS": "NULL"
                                },
                                {
                                    "TABLE_QUALIFIER": "SQLDBQuery",
                                    "TABLE_OWNER": "sys",
                                    "TABLE_NAME": "dm_column_store_object_pool",
                                    "TABLE_TYPE": "VIEW",
                                    "REMARKS": "NULL"
                                },
                                {
                                    "TABLE_QUALIFIER": "SQLDBQuery",
                                    "TABLE_OWNER": "sys",
                                    "TABLE_NAME": "dm_cryptographic_provider_properties",
                                    "TABLE_TYPE": "VIEW",
                                    "REMARKS": "NULL"
                                },
                                {
                                    "TABLE_QUALIFIER": "SQLDBQuery",
                                    "TABLE_OWNER": "sys",
                                    "TABLE_NAME": "dm_database_encryption_keys",
                                    "TABLE_TYPE": "VIEW",
                                    "REMARKS": "NULL"
                                },
                                {
                                    "TABLE_QUALIFIER": "SQLDBQuery",
                                    "TABLE_OWNER": "sys",
                                    "TABLE_NAME": "dm_db_column_store_row_group_operational_stats",
                                    "TABLE_TYPE": "VIEW",
                                    "REMARKS": "NULL"
                                },
                                {
                                    "TABLE_QUALIFIER": "SQLDBQuery",
                                    "TABLE_OWNER": "sys",
                                    "TABLE_NAME": "dm_db_column_store_row_group_physical_stats",
                                    "TABLE_TYPE": "VIEW",
                                    "REMARKS": "NULL"
                                },
                                {
                                    "TABLE_QUALIFIER": "SQLDBQuery",
                                    "TABLE_OWNER": "sys",
                                    "TABLE_NAME": "dm_db_data_pool_nodes",
                                    "TABLE_TYPE": "VIEW",
                                    "REMARKS": "NULL"
                                },
                                {
                                    "TABLE_QUALIFIER": "SQLDBQuery",
                                    "TABLE_OWNER": "sys",
                                    "TABLE_NAME": "dm_db_data_pools",
                                    "TABLE_TYPE": "VIEW",
                                    "REMARKS": "NULL"
                                },
                                {
                                    "TABLE_QUALIFIER": "SQLDBQuery",
                                    "TABLE_OWNER": "sys",
                                    "TABLE_NAME": "dm_db_external_language_stats",
                                    "TABLE_TYPE": "VIEW",
                                    "REMARKS": "NULL"
                                },
                                {
                                    "TABLE_QUALIFIER": "SQLDBQuery",
                                    "TABLE_OWNER": "sys",
                                    "TABLE_NAME": "dm_db_external_script_execution_stats",
                                    "TABLE_TYPE": "VIEW",
                                    "REMARKS": "NULL"
                                },
                                {
                                    "TABLE_QUALIFIER": "SQLDBQuery",
                                    "TABLE_OWNER": "sys",
                                    "TABLE_NAME": "dm_db_file_space_usage",
                                    "TABLE_TYPE": "VIEW",
                                    "REMARKS": "NULL"
                                },
                                {
                                    "TABLE_QUALIFIER": "SQLDBQuery",
                                    "TABLE_OWNER": "sys",
                                    "TABLE_NAME": "dm_db_fts_index_physical_stats",
                                    "TABLE_TYPE": "VIEW",
                                    "REMARKS": "NULL"
                                },
                                {
                                    "TABLE_QUALIFIER": "SQLDBQuery",
                                    "TABLE_OWNER": "sys",
                                    "TABLE_NAME": "dm_db_index_usage_stats",
                                    "TABLE_TYPE": "VIEW",
                                    "REMARKS": "NULL"
                                },
                                {
                                    "TABLE_QUALIFIER": "SQLDBQuery",
                                    "TABLE_OWNER": "sys",
                                    "TABLE_NAME": "dm_db_log_space_usage",
                                    "TABLE_TYPE": "VIEW",
                                    "REMARKS": "NULL"
                                },
                                {
                                    "TABLE_QUALIFIER": "SQLDBQuery",
                                    "TABLE_OWNER": "sys",
                                    "TABLE_NAME": "dm_db_mirroring_auto_page_repair",
                                    "TABLE_TYPE": "VIEW",
                                    "REMARKS": "NULL"
                                },
                                {
                                    "TABLE_QUALIFIER": "SQLDBQuery",
                                    "TABLE_OWNER": "sys",
                                    "TABLE_NAME": "dm_db_mirroring_connections",
                                    "TABLE_TYPE": "VIEW",
                                    "REMARKS": "NULL"
                                },
                                {
                                    "TABLE_QUALIFIER": "SQLDBQuery",
                                    "TABLE_OWNER": "sys",
                                    "TABLE_NAME": "dm_db_mirroring_past_actions",
                                    "TABLE_TYPE": "VIEW",
                                    "REMARKS": "NULL"
                                },
                                {
                                    "TABLE_QUALIFIER": "SQLDBQuery",
                                    "TABLE_OWNER": "sys",
                                    "TABLE_NAME": "dm_db_missing_index_details",
                                    "TABLE_TYPE": "VIEW",
                                    "REMARKS": "NULL"
                                },
                                {
                                    "TABLE_QUALIFIER": "SQLDBQuery",
                                    "TABLE_OWNER": "sys",
                                    "TABLE_NAME": "dm_db_missing_index_group_stats",
                                    "TABLE_TYPE": "VIEW",
                                    "REMARKS": "NULL"
                                },
                                {
                                    "TABLE_QUALIFIER": "SQLDBQuery",
                                    "TABLE_OWNER": "sys",
                                    "TABLE_NAME": "dm_db_missing_index_group_stats_query",
                                    "TABLE_TYPE": "VIEW",
                                    "REMARKS": "NULL"
                                },
                                {
                                    "TABLE_QUALIFIER": "SQLDBQuery",
                                    "TABLE_OWNER": "sys",
                                    "TABLE_NAME": "dm_db_missing_index_groups",
                                    "TABLE_TYPE": "VIEW",
                                    "REMARKS": "NULL"
                                },
                                {
                                    "TABLE_QUALIFIER": "SQLDBQuery",
                                    "TABLE_OWNER": "sys",
                                    "TABLE_NAME": "dm_db_partition_stats",
                                    "TABLE_TYPE": "VIEW",
                                    "REMARKS": "NULL"
                                },
                                {
                                    "TABLE_QUALIFIER": "SQLDBQuery",
                                    "TABLE_OWNER": "sys",
                                    "TABLE_NAME": "dm_db_persisted_sku_features",
                                    "TABLE_TYPE": "VIEW",
                                    "REMARKS": "NULL"
                                },
                                {
                                    "TABLE_QUALIFIER": "SQLDBQuery",
                                    "TABLE_OWNER": "sys",
                                    "TABLE_NAME": "dm_db_rda_migration_status",
                                    "TABLE_TYPE": "VIEW",
                                    "REMARKS": "NULL"
                                },
                                {
                                    "TABLE_QUALIFIER": "SQLDBQuery",
                                    "TABLE_OWNER": "sys",
                                    "TABLE_NAME": "dm_db_rda_schema_update_status",
                                    "TABLE_TYPE": "VIEW",
                                    "REMARKS": "NULL"
                                },
                                {
                                    "TABLE_QUALIFIER": "SQLDBQuery",
                                    "TABLE_OWNER": "sys",
                                    "TABLE_NAME": "dm_db_script_level",
                                    "TABLE_TYPE": "VIEW",
                                    "REMARKS": "NULL"
                                },
                                {
                                    "TABLE_QUALIFIER": "SQLDBQuery",
                                    "TABLE_OWNER": "sys",
                                    "TABLE_NAME": "dm_db_session_space_usage",
                                    "TABLE_TYPE": "VIEW",
                                    "REMARKS": "NULL"
                                },
                                {
                                    "TABLE_QUALIFIER": "SQLDBQuery",
                                    "TABLE_OWNER": "sys",
                                    "TABLE_NAME": "dm_db_storage_pool_nodes",
                                    "TABLE_TYPE": "VIEW",
                                    "REMARKS": "NULL"
                                },
                                {
                                    "TABLE_QUALIFIER": "SQLDBQuery",
                                    "TABLE_OWNER": "sys",
                                    "TABLE_NAME": "dm_db_storage_pools",
                                    "TABLE_TYPE": "VIEW",
                                    "REMARKS": "NULL"
                                },
                                {
                                    "TABLE_QUALIFIER": "SQLDBQuery",
                                    "TABLE_OWNER": "sys",
                                    "TABLE_NAME": "dm_db_task_space_usage",
                                    "TABLE_TYPE": "VIEW",
                                    "REMARKS": "NULL"
                                },
                                {
                                    "TABLE_QUALIFIER": "SQLDBQuery",
                                    "TABLE_OWNER": "sys",
                                    "TABLE_NAME": "dm_db_tuning_recommendations",
                                    "TABLE_TYPE": "VIEW",
                                    "REMARKS": "NULL"
                                },
                                {
                                    "TABLE_QUALIFIER": "SQLDBQuery",
                                    "TABLE_OWNER": "sys",
                                    "TABLE_NAME": "dm_db_uncontained_entities",
                                    "TABLE_TYPE": "VIEW",
                                    "REMARKS": "NULL"
                                },
                                {
                                    "TABLE_QUALIFIER": "SQLDBQuery",
                                    "TABLE_OWNER": "sys",
                                    "TABLE_NAME": "dm_db_xtp_checkpoint_files",
                                    "TABLE_TYPE": "VIEW",
                                    "REMARKS": "NULL"
                                },
                                {
                                    "TABLE_QUALIFIER": "SQLDBQuery",
                                    "TABLE_OWNER": "sys",
                                    "TABLE_NAME": "dm_db_xtp_checkpoint_internals",
                                    "TABLE_TYPE": "VIEW",
                                    "REMARKS": "NULL"
                                },
                                {
                                    "TABLE_QUALIFIER": "SQLDBQuery",
                                    "TABLE_OWNER": "sys",
                                    "TABLE_NAME": "dm_db_xtp_checkpoint_stats",
                                    "TABLE_TYPE": "VIEW",
                                    "REMARKS": "NULL"
                                },
                                {
                                    "TABLE_QUALIFIER": "SQLDBQuery",
                                    "TABLE_OWNER": "sys",
                                    "TABLE_NAME": "dm_db_xtp_gc_cycle_stats",
                                    "TABLE_TYPE": "VIEW",
                                    "REMARKS": "NULL"
                                },
                                {
                                    "TABLE_QUALIFIER": "SQLDBQuery",
                                    "TABLE_OWNER": "sys",
                                    "TABLE_NAME": "dm_db_xtp_hash_index_stats",
                                    "TABLE_TYPE": "VIEW",
                                    "REMARKS": "NULL"
                                },
                                {
                                    "TABLE_QUALIFIER": "SQLDBQuery",
                                    "TABLE_OWNER": "sys",
                                    "TABLE_NAME": "dm_db_xtp_index_stats",
                                    "TABLE_TYPE": "VIEW",
                                    "REMARKS": "NULL"
                                },
                                {
                                    "TABLE_QUALIFIER": "SQLDBQuery",
                                    "TABLE_OWNER": "sys",
                                    "TABLE_NAME": "dm_db_xtp_memory_consumers",
                                    "TABLE_TYPE": "VIEW",
                                    "REMARKS": "NULL"
                                },
                                {
                                    "TABLE_QUALIFIER": "SQLDBQuery",
                                    "TABLE_OWNER": "sys",
                                    "TABLE_NAME": "dm_db_xtp_nonclustered_index_stats",
                                    "TABLE_TYPE": "VIEW",
                                    "REMARKS": "NULL"
                                },
                                {
                                    "TABLE_QUALIFIER": "SQLDBQuery",
                                    "TABLE_OWNER": "sys",
                                    "TABLE_NAME": "dm_db_xtp_object_stats",
                                    "TABLE_TYPE": "VIEW",
                                    "REMARKS": "NULL"
                                },
                                {
                                    "TABLE_QUALIFIER": "SQLDBQuery",
                                    "TABLE_OWNER": "sys",
                                    "TABLE_NAME": "dm_db_xtp_table_memory_stats",
                                    "TABLE_TYPE": "VIEW",
                                    "REMARKS": "NULL"
                                },
                                {
                                    "TABLE_QUALIFIER": "SQLDBQuery",
                                    "TABLE_OWNER": "sys",
                                    "TABLE_NAME": "dm_db_xtp_transactions",
                                    "TABLE_TYPE": "VIEW",
                                    "REMARKS": "NULL"
                                },
                                {
                                    "TABLE_QUALIFIER": "SQLDBQuery",
                                    "TABLE_OWNER": "sys",
                                    "TABLE_NAME": "dm_distributed_exchange_stats",
                                    "TABLE_TYPE": "VIEW",
                                    "REMARKS": "NULL"
                                },
                                {
                                    "TABLE_QUALIFIER": "SQLDBQuery",
                                    "TABLE_OWNER": "sys",
                                    "TABLE_NAME": "dm_exec_background_job_queue",
                                    "TABLE_TYPE": "VIEW",
                                    "REMARKS": "NULL"
                                },
                                {
                                    "TABLE_QUALIFIER": "SQLDBQuery",
                                    "TABLE_OWNER": "sys",
                                    "TABLE_NAME": "dm_exec_background_job_queue_stats",
                                    "TABLE_TYPE": "VIEW",
                                    "REMARKS": "NULL"
                                },
                                {
                                    "TABLE_QUALIFIER": "SQLDBQuery",
                                    "TABLE_OWNER": "sys",
                                    "TABLE_NAME": "dm_exec_cached_plans",
                                    "TABLE_TYPE": "VIEW",
                                    "REMARKS": "NULL"
                                },
                                {
                                    "TABLE_QUALIFIER": "SQLDBQuery",
                                    "TABLE_OWNER": "sys",
                                    "TABLE_NAME": "dm_exec_compute_node_errors",
                                    "TABLE_TYPE": "VIEW",
                                    "REMARKS": "NULL"
                                },
                                {
                                    "TABLE_QUALIFIER": "SQLDBQuery",
                                    "TABLE_OWNER": "sys",
                                    "TABLE_NAME": "dm_exec_compute_node_status",
                                    "TABLE_TYPE": "VIEW",
                                    "REMARKS": "NULL"
                                },
                                {
                                    "TABLE_QUALIFIER": "SQLDBQuery",
                                    "TABLE_OWNER": "sys",
                                    "TABLE_NAME": "dm_exec_compute_nodes",
                                    "TABLE_TYPE": "VIEW",
                                    "REMARKS": "NULL"
                                },
                                {
                                    "TABLE_QUALIFIER": "SQLDBQuery",
                                    "TABLE_OWNER": "sys",
                                    "TABLE_NAME": "dm_exec_compute_pools",
                                    "TABLE_TYPE": "VIEW",
                                    "REMARKS": "NULL"
                                },
                                {
                                    "TABLE_QUALIFIER": "SQLDBQuery",
                                    "TABLE_OWNER": "sys",
                                    "TABLE_NAME": "dm_exec_connections",
                                    "TABLE_TYPE": "VIEW",
                                    "REMARKS": "NULL"
                                },
                                {
                                    "TABLE_QUALIFIER": "SQLDBQuery",
                                    "TABLE_OWNER": "sys",
                                    "TABLE_NAME": "dm_exec_distributed_request_steps",
                                    "TABLE_TYPE": "VIEW",
                                    "REMARKS": "NULL"
                                },
                                {
                                    "TABLE_QUALIFIER": "SQLDBQuery",
                                    "TABLE_OWNER": "sys",
                                    "TABLE_NAME": "dm_exec_distributed_requests",
                                    "TABLE_TYPE": "VIEW",
                                    "REMARKS": "NULL"
                                },
                                {
                                    "TABLE_QUALIFIER": "SQLDBQuery",
                                    "TABLE_OWNER": "sys",
                                    "TABLE_NAME": "dm_exec_distributed_sql_requests",
                                    "TABLE_TYPE": "VIEW",
                                    "REMARKS": "NULL"
                                },
                                {
                                    "TABLE_QUALIFIER": "SQLDBQuery",
                                    "TABLE_OWNER": "sys",
                                    "TABLE_NAME": "dm_exec_dms_services",
                                    "TABLE_TYPE": "VIEW",
                                    "REMARKS": "NULL"
                                },
                                {
                                    "TABLE_QUALIFIER": "SQLDBQuery",
                                    "TABLE_OWNER": "sys",
                                    "TABLE_NAME": "dm_exec_dms_workers",
                                    "TABLE_TYPE": "VIEW",
                                    "REMARKS": "NULL"
                                },
                                {
                                    "TABLE_QUALIFIER": "SQLDBQuery",
                                    "TABLE_OWNER": "sys",
                                    "TABLE_NAME": "dm_exec_external_operations",
                                    "TABLE_TYPE": "VIEW",
                                    "REMARKS": "NULL"
                                },
                                {
                                    "TABLE_QUALIFIER": "SQLDBQuery",
                                    "TABLE_OWNER": "sys",
                                    "TABLE_NAME": "dm_exec_external_work",
                                    "TABLE_TYPE": "VIEW",
                                    "REMARKS": "NULL"
                                },
                                {
                                    "TABLE_QUALIFIER": "SQLDBQuery",
                                    "TABLE_OWNER": "sys",
                                    "TABLE_NAME": "dm_exec_function_stats",
                                    "TABLE_TYPE": "VIEW",
                                    "REMARKS": "NULL"
                                },
                                {
                                    "TABLE_QUALIFIER": "SQLDBQuery",
                                    "TABLE_OWNER": "sys",
                                    "TABLE_NAME": "dm_exec_procedure_stats",
                                    "TABLE_TYPE": "VIEW",
                                    "REMARKS": "NULL"
                                },
                                {
                                    "TABLE_QUALIFIER": "SQLDBQuery",
                                    "TABLE_OWNER": "sys",
                                    "TABLE_NAME": "dm_exec_query_memory_grants",
                                    "TABLE_TYPE": "VIEW",
                                    "REMARKS": "NULL"
                                },
                                {
                                    "TABLE_QUALIFIER": "SQLDBQuery",
                                    "TABLE_OWNER": "sys",
                                    "TABLE_NAME": "dm_exec_query_optimizer_info",
                                    "TABLE_TYPE": "VIEW",
                                    "REMARKS": "NULL"
                                },
                                {
                                    "TABLE_QUALIFIER": "SQLDBQuery",
                                    "TABLE_OWNER": "sys",
                                    "TABLE_NAME": "dm_exec_query_optimizer_memory_gateways",
                                    "TABLE_TYPE": "VIEW",
                                    "REMARKS": "NULL"
                                },
                                {
                                    "TABLE_QUALIFIER": "SQLDBQuery",
                                    "TABLE_OWNER": "sys",
                                    "TABLE_NAME": "dm_exec_query_parallel_workers",
                                    "TABLE_TYPE": "VIEW",
                                    "REMARKS": "NULL"
                                },
                                {
                                    "TABLE_QUALIFIER": "SQLDBQuery",
                                    "TABLE_OWNER": "sys",
                                    "TABLE_NAME": "dm_exec_query_profiles",
                                    "TABLE_TYPE": "VIEW",
                                    "REMARKS": "NULL"
                                },
                                {
                                    "TABLE_QUALIFIER": "SQLDBQuery",
                                    "TABLE_OWNER": "sys",
                                    "TABLE_NAME": "dm_exec_query_resource_semaphores",
                                    "TABLE_TYPE": "VIEW",
                                    "REMARKS": "NULL"
                                },
                                {
                                    "TABLE_QUALIFIER": "SQLDBQuery",
                                    "TABLE_OWNER": "sys",
                                    "TABLE_NAME": "dm_exec_query_stats",
                                    "TABLE_TYPE": "VIEW",
                                    "REMARKS": "NULL"
                                },
                                {
                                    "TABLE_QUALIFIER": "SQLDBQuery",
                                    "TABLE_OWNER": "sys",
                                    "TABLE_NAME": "dm_exec_query_transformation_stats",
                                    "TABLE_TYPE": "VIEW",
                                    "REMARKS": "NULL"
                                },
                                {
                                    "TABLE_QUALIFIER": "SQLDBQuery",
                                    "TABLE_OWNER": "sys",
                                    "TABLE_NAME": "dm_exec_requests",
                                    "TABLE_TYPE": "VIEW",
                                    "REMARKS": "NULL"
                                },
                                {
                                    "TABLE_QUALIFIER": "SQLDBQuery",
                                    "TABLE_OWNER": "sys",
                                    "TABLE_NAME": "dm_exec_session_wait_stats",
                                    "TABLE_TYPE": "VIEW",
                                    "REMARKS": "NULL"
                                },
                                {
                                    "TABLE_QUALIFIER": "SQLDBQuery",
                                    "TABLE_OWNER": "sys",
                                    "TABLE_NAME": "dm_exec_sessions",
                                    "TABLE_TYPE": "VIEW",
                                    "REMARKS": "NULL"
                                },
                                {
                                    "TABLE_QUALIFIER": "SQLDBQuery",
                                    "TABLE_OWNER": "sys",
                                    "TABLE_NAME": "dm_exec_trigger_stats",
                                    "TABLE_TYPE": "VIEW",
                                    "REMARKS": "NULL"
                                },
                                {
                                    "TABLE_QUALIFIER": "SQLDBQuery",
                                    "TABLE_OWNER": "sys",
                                    "TABLE_NAME": "dm_exec_valid_use_hints",
                                    "TABLE_TYPE": "VIEW",
                                    "REMARKS": "NULL"
                                },
                                {
                                    "TABLE_QUALIFIER": "SQLDBQuery",
                                    "TABLE_OWNER": "sys",
                                    "TABLE_NAME": "dm_external_authentication",
                                    "TABLE_TYPE": "VIEW",
                                    "REMARKS": "NULL"
                                },
                                {
                                    "TABLE_QUALIFIER": "SQLDBQuery",
                                    "TABLE_OWNER": "sys",
                                    "TABLE_NAME": "dm_external_script_execution_stats",
                                    "TABLE_TYPE": "VIEW",
                                    "REMARKS": "NULL"
                                },
                                {
                                    "TABLE_QUALIFIER": "SQLDBQuery",
                                    "TABLE_OWNER": "sys",
                                    "TABLE_NAME": "dm_external_script_requests",
                                    "TABLE_TYPE": "VIEW",
                                    "REMARKS": "NULL"
                                },
                                {
                                    "TABLE_QUALIFIER": "SQLDBQuery",
                                    "TABLE_OWNER": "sys",
                                    "TABLE_NAME": "dm_external_script_resource_usage_stats",
                                    "TABLE_TYPE": "VIEW",
                                    "REMARKS": "NULL"
                                },
                                {
                                    "TABLE_QUALIFIER": "SQLDBQuery",
                                    "TABLE_OWNER": "sys",
                                    "TABLE_NAME": "dm_filestream_file_io_handles",
                                    "TABLE_TYPE": "VIEW",
                                    "REMARKS": "NULL"
                                },
                                {
                                    "TABLE_QUALIFIER": "SQLDBQuery",
                                    "TABLE_OWNER": "sys",
                                    "TABLE_NAME": "dm_filestream_file_io_requests",
                                    "TABLE_TYPE": "VIEW",
                                    "REMARKS": "NULL"
                                },
                                {
                                    "TABLE_QUALIFIER": "SQLDBQuery",
                                    "TABLE_OWNER": "sys",
                                    "TABLE_NAME": "dm_filestream_non_transacted_handles",
                                    "TABLE_TYPE": "VIEW",
                                    "REMARKS": "NULL"
                                },
                                {
                                    "TABLE_QUALIFIER": "SQLDBQuery",
                                    "TABLE_OWNER": "sys",
                                    "TABLE_NAME": "dm_fts_active_catalogs",
                                    "TABLE_TYPE": "VIEW",
                                    "REMARKS": "NULL"
                                },
                                {
                                    "TABLE_QUALIFIER": "SQLDBQuery",
                                    "TABLE_OWNER": "sys",
                                    "TABLE_NAME": "dm_fts_fdhosts",
                                    "TABLE_TYPE": "VIEW",
                                    "REMARKS": "NULL"
                                },
                                {
                                    "TABLE_QUALIFIER": "SQLDBQuery",
                                    "TABLE_OWNER": "sys",
                                    "TABLE_NAME": "dm_fts_index_population",
                                    "TABLE_TYPE": "VIEW",
                                    "REMARKS": "NULL"
                                },
                                {
                                    "TABLE_QUALIFIER": "SQLDBQuery",
                                    "TABLE_OWNER": "sys",
                                    "TABLE_NAME": "dm_fts_memory_buffers",
                                    "TABLE_TYPE": "VIEW",
                                    "REMARKS": "NULL"
                                },
                                {
                                    "TABLE_QUALIFIER": "SQLDBQuery",
                                    "TABLE_OWNER": "sys",
                                    "TABLE_NAME": "dm_fts_memory_pools",
                                    "TABLE_TYPE": "VIEW",
                                    "REMARKS": "NULL"
                                },
                                {
                                    "TABLE_QUALIFIER": "SQLDBQuery",
                                    "TABLE_OWNER": "sys",
                                    "TABLE_NAME": "dm_fts_outstanding_batches",
                                    "TABLE_TYPE": "VIEW",
                                    "REMARKS": "NULL"
                                },
                                {
                                    "TABLE_QUALIFIER": "SQLDBQuery",
                                    "TABLE_OWNER": "sys",
                                    "TABLE_NAME": "dm_fts_population_ranges",
                                    "TABLE_TYPE": "VIEW",
                                    "REMARKS": "NULL"
                                },
                                {
                                    "TABLE_QUALIFIER": "SQLDBQuery",
                                    "TABLE_OWNER": "sys",
                                    "TABLE_NAME": "dm_fts_semantic_similarity_population",
                                    "TABLE_TYPE": "VIEW",
                                    "REMARKS": "NULL"
                                },
                                {
                                    "TABLE_QUALIFIER": "SQLDBQuery",
                                    "TABLE_OWNER": "sys",
                                    "TABLE_NAME": "dm_hadr_ag_threads",
                                    "TABLE_TYPE": "VIEW",
                                    "REMARKS": "NULL"
                                },
                                {
                                    "TABLE_QUALIFIER": "SQLDBQuery",
                                    "TABLE_OWNER": "sys",
                                    "TABLE_NAME": "dm_hadr_auto_page_repair",
                                    "TABLE_TYPE": "VIEW",
                                    "REMARKS": "NULL"
                                },
                                {
                                    "TABLE_QUALIFIER": "SQLDBQuery",
                                    "TABLE_OWNER": "sys",
                                    "TABLE_NAME": "dm_hadr_automatic_seeding",
                                    "TABLE_TYPE": "VIEW",
                                    "REMARKS": "NULL"
                                },
                                {
                                    "TABLE_QUALIFIER": "SQLDBQuery",
                                    "TABLE_OWNER": "sys",
                                    "TABLE_NAME": "dm_hadr_availability_group_states",
                                    "TABLE_TYPE": "VIEW",
                                    "REMARKS": "NULL"
                                },
                                {
                                    "TABLE_QUALIFIER": "SQLDBQuery",
                                    "TABLE_OWNER": "sys",
                                    "TABLE_NAME": "dm_hadr_availability_replica_cluster_nodes",
                                    "TABLE_TYPE": "VIEW",
                                    "REMARKS": "NULL"
                                },
                                {
                                    "TABLE_QUALIFIER": "SQLDBQuery",
                                    "TABLE_OWNER": "sys",
                                    "TABLE_NAME": "dm_hadr_availability_replica_cluster_states",
                                    "TABLE_TYPE": "VIEW",
                                    "REMARKS": "NULL"
                                },
                                {
                                    "TABLE_QUALIFIER": "SQLDBQuery",
                                    "TABLE_OWNER": "sys",
                                    "TABLE_NAME": "dm_hadr_availability_replica_states",
                                    "TABLE_TYPE": "VIEW",
                                    "REMARKS": "NULL"
                                },
                                {
                                    "TABLE_QUALIFIER": "SQLDBQuery",
                                    "TABLE_OWNER": "sys",
                                    "TABLE_NAME": "dm_hadr_cached_database_replica_states",
                                    "TABLE_TYPE": "VIEW",
                                    "REMARKS": "NULL"
                                },
                                {
                                    "TABLE_QUALIFIER": "SQLDBQuery",
                                    "TABLE_OWNER": "sys",
                                    "TABLE_NAME": "dm_hadr_cached_replica_states",
                                    "TABLE_TYPE": "VIEW",
                                    "REMARKS": "NULL"
                                },
                                {
                                    "TABLE_QUALIFIER": "SQLDBQuery",
                                    "TABLE_OWNER": "sys",
                                    "TABLE_NAME": "dm_hadr_cluster",
                                    "TABLE_TYPE": "VIEW",
                                    "REMARKS": "NULL"
                                },
                                {
                                    "TABLE_QUALIFIER": "SQLDBQuery",
                                    "TABLE_OWNER": "sys",
                                    "TABLE_NAME": "dm_hadr_cluster_members",
                                    "TABLE_TYPE": "VIEW",
                                    "REMARKS": "NULL"
                                },
                                {
                                    "TABLE_QUALIFIER": "SQLDBQuery",
                                    "TABLE_OWNER": "sys",
                                    "TABLE_NAME": "dm_hadr_cluster_networks",
                                    "TABLE_TYPE": "VIEW",
                                    "REMARKS": "NULL"
                                },
                                {
                                    "TABLE_QUALIFIER": "SQLDBQuery",
                                    "TABLE_OWNER": "sys",
                                    "TABLE_NAME": "dm_hadr_database_replica_cluster_states",
                                    "TABLE_TYPE": "VIEW",
                                    "REMARKS": "NULL"
                                },
                                {
                                    "TABLE_QUALIFIER": "SQLDBQuery",
                                    "TABLE_OWNER": "sys",
                                    "TABLE_NAME": "dm_hadr_database_replica_states",
                                    "TABLE_TYPE": "VIEW",
                                    "REMARKS": "NULL"
                                },
                                {
                                    "TABLE_QUALIFIER": "SQLDBQuery",
                                    "TABLE_OWNER": "sys",
                                    "TABLE_NAME": "dm_hadr_db_threads",
                                    "TABLE_TYPE": "VIEW",
                                    "REMARKS": "NULL"
                                },
                                {
                                    "TABLE_QUALIFIER": "SQLDBQuery",
                                    "TABLE_OWNER": "sys",
                                    "TABLE_NAME": "dm_hadr_instance_node_map",
                                    "TABLE_TYPE": "VIEW",
                                    "REMARKS": "NULL"
                                },
                                {
                                    "TABLE_QUALIFIER": "SQLDBQuery",
                                    "TABLE_OWNER": "sys",
                                    "TABLE_NAME": "dm_hadr_name_id_map",
                                    "TABLE_TYPE": "VIEW",
                                    "REMARKS": "NULL"
                                },
                                {
                                    "TABLE_QUALIFIER": "SQLDBQuery",
                                    "TABLE_OWNER": "sys",
                                    "TABLE_NAME": "dm_hadr_physical_seeding_stats",
                                    "TABLE_TYPE": "VIEW",
                                    "REMARKS": "NULL"
                                },
                                {
                                    "TABLE_QUALIFIER": "SQLDBQuery",
                                    "TABLE_OWNER": "sys",
                                    "TABLE_NAME": "dm_hpc_device_stats",
                                    "TABLE_TYPE": "VIEW",
                                    "REMARKS": "NULL"
                                },
                                {
                                    "TABLE_QUALIFIER": "SQLDBQuery",
                                    "TABLE_OWNER": "sys",
                                    "TABLE_NAME": "dm_hpc_thread_proxy_stats",
                                    "TABLE_TYPE": "VIEW",
                                    "REMARKS": "NULL"
                                },
                                {
                                    "TABLE_QUALIFIER": "SQLDBQuery",
                                    "TABLE_OWNER": "sys",
                                    "TABLE_NAME": "dm_io_backup_tapes",
                                    "TABLE_TYPE": "VIEW",
                                    "REMARKS": "NULL"
                                },
                                {
                                    "TABLE_QUALIFIER": "SQLDBQuery",
                                    "TABLE_OWNER": "sys",
                                    "TABLE_NAME": "dm_io_cluster_shared_drives",
                                    "TABLE_TYPE": "VIEW",
                                    "REMARKS": "NULL"
                                },
                                {
                                    "TABLE_QUALIFIER": "SQLDBQuery",
                                    "TABLE_OWNER": "sys",
                                    "TABLE_NAME": "dm_io_cluster_valid_path_names",
                                    "TABLE_TYPE": "VIEW",
                                    "REMARKS": "NULL"
                                },
                                {
                                    "TABLE_QUALIFIER": "SQLDBQuery",
                                    "TABLE_OWNER": "sys",
                                    "TABLE_NAME": "dm_io_pending_io_requests",
                                    "TABLE_TYPE": "VIEW",
                                    "REMARKS": "NULL"
                                },
                                {
                                    "TABLE_QUALIFIER": "SQLDBQuery",
                                    "TABLE_OWNER": "sys",
                                    "TABLE_NAME": "dm_logpool_hashentries",
                                    "TABLE_TYPE": "VIEW",
                                    "REMARKS": "NULL"
                                },
                                {
                                    "TABLE_QUALIFIER": "SQLDBQuery",
                                    "TABLE_OWNER": "sys",
                                    "TABLE_NAME": "dm_logpool_stats",
                                    "TABLE_TYPE": "VIEW",
                                    "REMARKS": "NULL"
                                },
                                {
                                    "TABLE_QUALIFIER": "SQLDBQuery",
                                    "TABLE_OWNER": "sys",
                                    "TABLE_NAME": "dm_os_buffer_descriptors",
                                    "TABLE_TYPE": "VIEW",
                                    "REMARKS": "NULL"
                                },
                                {
                                    "TABLE_QUALIFIER": "SQLDBQuery",
                                    "TABLE_OWNER": "sys",
                                    "TABLE_NAME": "dm_os_buffer_pool_extension_configuration",
                                    "TABLE_TYPE": "VIEW",
                                    "REMARKS": "NULL"
                                },
                                {
                                    "TABLE_QUALIFIER": "SQLDBQuery",
                                    "TABLE_OWNER": "sys",
                                    "TABLE_NAME": "dm_os_child_instances",
                                    "TABLE_TYPE": "VIEW",
                                    "REMARKS": "NULL"
                                },
                                {
                                    "TABLE_QUALIFIER": "SQLDBQuery",
                                    "TABLE_OWNER": "sys",
                                    "TABLE_NAME": "dm_os_cluster_nodes",
                                    "TABLE_TYPE": "VIEW",
                                    "REMARKS": "NULL"
                                },
                                {
                                    "TABLE_QUALIFIER": "SQLDBQuery",
                                    "TABLE_OWNER": "sys",
                                    "TABLE_NAME": "dm_os_cluster_properties",
                                    "TABLE_TYPE": "VIEW",
                                    "REMARKS": "NULL"
                                },
                                {
                                    "TABLE_QUALIFIER": "SQLDBQuery",
                                    "TABLE_OWNER": "sys",
                                    "TABLE_NAME": "dm_os_dispatcher_pools",
                                    "TABLE_TYPE": "VIEW",
                                    "REMARKS": "NULL"
                                },
                                {
                                    "TABLE_QUALIFIER": "SQLDBQuery",
                                    "TABLE_OWNER": "sys",
                                    "TABLE_NAME": "dm_os_dispatchers",
                                    "TABLE_TYPE": "VIEW",
                                    "REMARKS": "NULL"
                                },
                                {
                                    "TABLE_QUALIFIER": "SQLDBQuery",
                                    "TABLE_OWNER": "sys",
                                    "TABLE_NAME": "dm_os_enumerate_fixed_drives",
                                    "TABLE_TYPE": "VIEW",
                                    "REMARKS": "NULL"
                                },
                                {
                                    "TABLE_QUALIFIER": "SQLDBQuery",
                                    "TABLE_OWNER": "sys",
                                    "TABLE_NAME": "dm_os_host_info",
                                    "TABLE_TYPE": "VIEW",
                                    "REMARKS": "NULL"
                                },
                                {
                                    "TABLE_QUALIFIER": "SQLDBQuery",
                                    "TABLE_OWNER": "sys",
                                    "TABLE_NAME": "dm_os_hosts",
                                    "TABLE_TYPE": "VIEW",
                                    "REMARKS": "NULL"
                                },
                                {
                                    "TABLE_QUALIFIER": "SQLDBQuery",
                                    "TABLE_OWNER": "sys",
                                    "TABLE_NAME": "dm_os_job_object",
                                    "TABLE_TYPE": "VIEW",
                                    "REMARKS": "NULL"
                                },
                                {
                                    "TABLE_QUALIFIER": "SQLDBQuery",
                                    "TABLE_OWNER": "sys",
                                    "TABLE_NAME": "dm_os_latch_stats",
                                    "TABLE_TYPE": "VIEW",
                                    "REMARKS": "NULL"
                                },
                                {
                                    "TABLE_QUALIFIER": "SQLDBQuery",
                                    "TABLE_OWNER": "sys",
                                    "TABLE_NAME": "dm_os_loaded_modules",
                                    "TABLE_TYPE": "VIEW",
                                    "REMARKS": "NULL"
                                },
                                {
                                    "TABLE_QUALIFIER": "SQLDBQuery",
                                    "TABLE_OWNER": "sys",
                                    "TABLE_NAME": "dm_os_memory_allocations",
                                    "TABLE_TYPE": "VIEW",
                                    "REMARKS": "NULL"
                                },
                                {
                                    "TABLE_QUALIFIER": "SQLDBQuery",
                                    "TABLE_OWNER": "sys",
                                    "TABLE_NAME": "dm_os_memory_broker_clerks",
                                    "TABLE_TYPE": "VIEW",
                                    "REMARKS": "NULL"
                                },
                                {
                                    "TABLE_QUALIFIER": "SQLDBQuery",
                                    "TABLE_OWNER": "sys",
                                    "TABLE_NAME": "dm_os_memory_brokers",
                                    "TABLE_TYPE": "VIEW",
                                    "REMARKS": "NULL"
                                },
                                {
                                    "TABLE_QUALIFIER": "SQLDBQuery",
                                    "TABLE_OWNER": "sys",
                                    "TABLE_NAME": "dm_os_memory_cache_clock_hands",
                                    "TABLE_TYPE": "VIEW",
                                    "REMARKS": "NULL"
                                },
                                {
                                    "TABLE_QUALIFIER": "SQLDBQuery",
                                    "TABLE_OWNER": "sys",
                                    "TABLE_NAME": "dm_os_memory_cache_counters",
                                    "TABLE_TYPE": "VIEW",
                                    "REMARKS": "NULL"
                                },
                                {
                                    "TABLE_QUALIFIER": "SQLDBQuery",
                                    "TABLE_OWNER": "sys",
                                    "TABLE_NAME": "dm_os_memory_cache_entries",
                                    "TABLE_TYPE": "VIEW",
                                    "REMARKS": "NULL"
                                },
                                {
                                    "TABLE_QUALIFIER": "SQLDBQuery",
                                    "TABLE_OWNER": "sys",
                                    "TABLE_NAME": "dm_os_memory_cache_hash_tables",
                                    "TABLE_TYPE": "VIEW",
                                    "REMARKS": "NULL"
                                },
                                {
                                    "TABLE_QUALIFIER": "SQLDBQuery",
                                    "TABLE_OWNER": "sys",
                                    "TABLE_NAME": "dm_os_memory_clerks",
                                    "TABLE_TYPE": "VIEW",
                                    "REMARKS": "NULL"
                                },
                                {
                                    "TABLE_QUALIFIER": "SQLDBQuery",
                                    "TABLE_OWNER": "sys",
                                    "TABLE_NAME": "dm_os_memory_node_access_stats",
                                    "TABLE_TYPE": "VIEW",
                                    "REMARKS": "NULL"
                                },
                                {
                                    "TABLE_QUALIFIER": "SQLDBQuery",
                                    "TABLE_OWNER": "sys",
                                    "TABLE_NAME": "dm_os_memory_nodes",
                                    "TABLE_TYPE": "VIEW",
                                    "REMARKS": "NULL"
                                },
                                {
                                    "TABLE_QUALIFIER": "SQLDBQuery",
                                    "TABLE_OWNER": "sys",
                                    "TABLE_NAME": "dm_os_memory_objects",
                                    "TABLE_TYPE": "VIEW",
                                    "REMARKS": "NULL"
                                },
                                {
                                    "TABLE_QUALIFIER": "SQLDBQuery",
                                    "TABLE_OWNER": "sys",
                                    "TABLE_NAME": "dm_os_memory_pools",
                                    "TABLE_TYPE": "VIEW",
                                    "REMARKS": "NULL"
                                },
                                {
                                    "TABLE_QUALIFIER": "SQLDBQuery",
                                    "TABLE_OWNER": "sys",
                                    "TABLE_NAME": "dm_os_nodes",
                                    "TABLE_TYPE": "VIEW",
                                    "REMARKS": "NULL"
                                },
                                {
                                    "TABLE_QUALIFIER": "SQLDBQuery",
                                    "TABLE_OWNER": "sys",
                                    "TABLE_NAME": "dm_os_performance_counters",
                                    "TABLE_TYPE": "VIEW",
                                    "REMARKS": "NULL"
                                },
                                {
                                    "TABLE_QUALIFIER": "SQLDBQuery",
                                    "TABLE_OWNER": "sys",
                                    "TABLE_NAME": "dm_os_process_memory",
                                    "TABLE_TYPE": "VIEW",
                                    "REMARKS": "NULL"
                                },
                                {
                                    "TABLE_QUALIFIER": "SQLDBQuery",
                                    "TABLE_OWNER": "sys",
                                    "TABLE_NAME": "dm_os_ring_buffers",
                                    "TABLE_TYPE": "VIEW",
                                    "REMARKS": "NULL"
                                },
                                {
                                    "TABLE_QUALIFIER": "SQLDBQuery",
                                    "TABLE_OWNER": "sys",
                                    "TABLE_NAME": "dm_os_schedulers",
                                    "TABLE_TYPE": "VIEW",
                                    "REMARKS": "NULL"
                                },
                                {
                                    "TABLE_QUALIFIER": "SQLDBQuery",
                                    "TABLE_OWNER": "sys",
                                    "TABLE_NAME": "dm_os_server_diagnostics_log_configurations",
                                    "TABLE_TYPE": "VIEW",
                                    "REMARKS": "NULL"
                                },
                                {
                                    "TABLE_QUALIFIER": "SQLDBQuery",
                                    "TABLE_OWNER": "sys",
                                    "TABLE_NAME": "dm_os_spinlock_stats",
                                    "TABLE_TYPE": "VIEW",
                                    "REMARKS": "NULL"
                                },
                                {
                                    "TABLE_QUALIFIER": "SQLDBQuery",
                                    "TABLE_OWNER": "sys",
                                    "TABLE_NAME": "dm_os_stacks",
                                    "TABLE_TYPE": "VIEW",
                                    "REMARKS": "NULL"
                                },
                                {
                                    "TABLE_QUALIFIER": "SQLDBQuery",
                                    "TABLE_OWNER": "sys",
                                    "TABLE_NAME": "dm_os_sublatches",
                                    "TABLE_TYPE": "VIEW",
                                    "REMARKS": "NULL"
                                },
                                {
                                    "TABLE_QUALIFIER": "SQLDBQuery",
                                    "TABLE_OWNER": "sys",
                                    "TABLE_NAME": "dm_os_sys_info",
                                    "TABLE_TYPE": "VIEW",
                                    "REMARKS": "NULL"
                                },
                                {
                                    "TABLE_QUALIFIER": "SQLDBQuery",
                                    "TABLE_OWNER": "sys",
                                    "TABLE_NAME": "dm_os_sys_memory",
                                    "TABLE_TYPE": "VIEW",
                                    "REMARKS": "NULL"
                                },
                                {
                                    "TABLE_QUALIFIER": "SQLDBQuery",
                                    "TABLE_OWNER": "sys",
                                    "TABLE_NAME": "dm_os_tasks",
                                    "TABLE_TYPE": "VIEW",
                                    "REMARKS": "NULL"
                                },
                                {
                                    "TABLE_QUALIFIER": "SQLDBQuery",
                                    "TABLE_OWNER": "sys",
                                    "TABLE_NAME": "dm_os_threads",
                                    "TABLE_TYPE": "VIEW",
                                    "REMARKS": "NULL"
                                },
                                {
                                    "TABLE_QUALIFIER": "SQLDBQuery",
                                    "TABLE_OWNER": "sys",
                                    "TABLE_NAME": "dm_os_virtual_address_dump",
                                    "TABLE_TYPE": "VIEW",
                                    "REMARKS": "NULL"
                                },
                                {
                                    "TABLE_QUALIFIER": "SQLDBQuery",
                                    "TABLE_OWNER": "sys",
                                    "TABLE_NAME": "dm_os_wait_stats",
                                    "TABLE_TYPE": "VIEW",
                                    "REMARKS": "NULL"
                                },
                                {
                                    "TABLE_QUALIFIER": "SQLDBQuery",
                                    "TABLE_OWNER": "sys",
                                    "TABLE_NAME": "dm_os_waiting_tasks",
                                    "TABLE_TYPE": "VIEW",
                                    "REMARKS": "NULL"
                                },
                                {
                                    "TABLE_QUALIFIER": "SQLDBQuery",
                                    "TABLE_OWNER": "sys",
                                    "TABLE_NAME": "dm_os_windows_info",
                                    "TABLE_TYPE": "VIEW",
                                    "REMARKS": "NULL"
                                },
                                {
                                    "TABLE_QUALIFIER": "SQLDBQuery",
                                    "TABLE_OWNER": "sys",
                                    "TABLE_NAME": "dm_os_worker_local_storage",
                                    "TABLE_TYPE": "VIEW",
                                    "REMARKS": "NULL"
                                },
                                {
                                    "TABLE_QUALIFIER": "SQLDBQuery",
                                    "TABLE_OWNER": "sys",
                                    "TABLE_NAME": "dm_os_workers",
                                    "TABLE_TYPE": "VIEW",
                                    "REMARKS": "NULL"
                                },
                                {
                                    "TABLE_QUALIFIER": "SQLDBQuery",
                                    "TABLE_OWNER": "sys",
                                    "TABLE_NAME": "dm_pal_cpu_stats",
                                    "TABLE_TYPE": "VIEW",
                                    "REMARKS": "NULL"
                                },
                                {
                                    "TABLE_QUALIFIER": "SQLDBQuery",
                                    "TABLE_OWNER": "sys",
                                    "TABLE_NAME": "dm_pal_disk_stats",
                                    "TABLE_TYPE": "VIEW",
                                    "REMARKS": "NULL"
                                },
                                {
                                    "TABLE_QUALIFIER": "SQLDBQuery",
                                    "TABLE_OWNER": "sys",
                                    "TABLE_NAME": "dm_pal_net_stats",
                                    "TABLE_TYPE": "VIEW",
                                    "REMARKS": "NULL"
                                },
                                {
                                    "TABLE_QUALIFIER": "SQLDBQuery",
                                    "TABLE_OWNER": "sys",
                                    "TABLE_NAME": "dm_pal_processes",
                                    "TABLE_TYPE": "VIEW",
                                    "REMARKS": "NULL"
                                },
                                {
                                    "TABLE_QUALIFIER": "SQLDBQuery",
                                    "TABLE_OWNER": "sys",
                                    "TABLE_NAME": "dm_pal_spinlock_stats",
                                    "TABLE_TYPE": "VIEW",
                                    "REMARKS": "NULL"
                                },
                                {
                                    "TABLE_QUALIFIER": "SQLDBQuery",
                                    "TABLE_OWNER": "sys",
                                    "TABLE_NAME": "dm_pal_vm_stats",
                                    "TABLE_TYPE": "VIEW",
                                    "REMARKS": "NULL"
                                },
                                {
                                    "TABLE_QUALIFIER": "SQLDBQuery",
                                    "TABLE_OWNER": "sys",
                                    "TABLE_NAME": "dm_pal_wait_stats",
                                    "TABLE_TYPE": "VIEW",
                                    "REMARKS": "NULL"
                                },
                                {
                                    "TABLE_QUALIFIER": "SQLDBQuery",
                                    "TABLE_OWNER": "sys",
                                    "TABLE_NAME": "dm_qn_subscriptions",
                                    "TABLE_TYPE": "VIEW",
                                    "REMARKS": "NULL"
                                },
                                {
                                    "TABLE_QUALIFIER": "SQLDBQuery",
                                    "TABLE_OWNER": "sys",
                                    "TABLE_NAME": "dm_repl_articles",
                                    "TABLE_TYPE": "VIEW",
                                    "REMARKS": "NULL"
                                },
                                {
                                    "TABLE_QUALIFIER": "SQLDBQuery",
                                    "TABLE_OWNER": "sys",
                                    "TABLE_NAME": "dm_repl_schemas",
                                    "TABLE_TYPE": "VIEW",
                                    "REMARKS": "NULL"
                                },
                                {
                                    "TABLE_QUALIFIER": "SQLDBQuery",
                                    "TABLE_OWNER": "sys",
                                    "TABLE_NAME": "dm_repl_tranhash",
                                    "TABLE_TYPE": "VIEW",
                                    "REMARKS": "NULL"
                                },
                                {
                                    "TABLE_QUALIFIER": "SQLDBQuery",
                                    "TABLE_OWNER": "sys",
                                    "TABLE_NAME": "dm_repl_traninfo",
                                    "TABLE_TYPE": "VIEW",
                                    "REMARKS": "NULL"
                                },
                                {
                                    "TABLE_QUALIFIER": "SQLDBQuery",
                                    "TABLE_OWNER": "sys",
                                    "TABLE_NAME": "dm_resource_governor_configuration",
                                    "TABLE_TYPE": "VIEW",
                                    "REMARKS": "NULL"
                                },
                                {
                                    "TABLE_QUALIFIER": "SQLDBQuery",
                                    "TABLE_OWNER": "sys",
                                    "TABLE_NAME": "dm_resource_governor_external_resource_pool_affinity",
                                    "TABLE_TYPE": "VIEW",
                                    "REMARKS": "NULL"
                                },
                                {
                                    "TABLE_QUALIFIER": "SQLDBQuery",
                                    "TABLE_OWNER": "sys",
                                    "TABLE_NAME": "dm_resource_governor_external_resource_pools",
                                    "TABLE_TYPE": "VIEW",
                                    "REMARKS": "NULL"
                                },
                                {
                                    "TABLE_QUALIFIER": "SQLDBQuery",
                                    "TABLE_OWNER": "sys",
                                    "TABLE_NAME": "dm_resource_governor_resource_pool_affinity",
                                    "TABLE_TYPE": "VIEW",
                                    "REMARKS": "NULL"
                                },
                                {
                                    "TABLE_QUALIFIER": "SQLDBQuery",
                                    "TABLE_OWNER": "sys",
                                    "TABLE_NAME": "dm_resource_governor_resource_pool_volumes",
                                    "TABLE_TYPE": "VIEW",
                                    "REMARKS": "NULL"
                                },
                                {
                                    "TABLE_QUALIFIER": "SQLDBQuery",
                                    "TABLE_OWNER": "sys",
                                    "TABLE_NAME": "dm_resource_governor_resource_pools",
                                    "TABLE_TYPE": "VIEW",
                                    "REMARKS": "NULL"
                                },
                                {
                                    "TABLE_QUALIFIER": "SQLDBQuery",
                                    "TABLE_OWNER": "sys",
                                    "TABLE_NAME": "dm_resource_governor_workload_groups",
                                    "TABLE_TYPE": "VIEW",
                                    "REMARKS": "NULL"
                                },
                                {
                                    "TABLE_QUALIFIER": "SQLDBQuery",
                                    "TABLE_OWNER": "sys",
                                    "TABLE_NAME": "dm_server_audit_status",
                                    "TABLE_TYPE": "VIEW",
                                    "REMARKS": "NULL"
                                },
                                {
                                    "TABLE_QUALIFIER": "SQLDBQuery",
                                    "TABLE_OWNER": "sys",
                                    "TABLE_NAME": "dm_server_memory_dumps",
                                    "TABLE_TYPE": "VIEW",
                                    "REMARKS": "NULL"
                                },
                                {
                                    "TABLE_QUALIFIER": "SQLDBQuery",
                                    "TABLE_OWNER": "sys",
                                    "TABLE_NAME": "dm_server_registry",
                                    "TABLE_TYPE": "VIEW",
                                    "REMARKS": "NULL"
                                },
                                {
                                    "TABLE_QUALIFIER": "SQLDBQuery",
                                    "TABLE_OWNER": "sys",
                                    "TABLE_NAME": "dm_server_services",
                                    "TABLE_TYPE": "VIEW",
                                    "REMARKS": "NULL"
                                },
                                {
                                    "TABLE_QUALIFIER": "SQLDBQuery",
                                    "TABLE_OWNER": "sys",
                                    "TABLE_NAME": "dm_tcp_listener_states",
                                    "TABLE_TYPE": "VIEW",
                                    "REMARKS": "NULL"
                                },
                                {
                                    "TABLE_QUALIFIER": "SQLDBQuery",
                                    "TABLE_OWNER": "sys",
                                    "TABLE_NAME": "dm_tran_aborted_transactions",
                                    "TABLE_TYPE": "VIEW",
                                    "REMARKS": "NULL"
                                },
                                {
                                    "TABLE_QUALIFIER": "SQLDBQuery",
                                    "TABLE_OWNER": "sys",
                                    "TABLE_NAME": "dm_tran_active_snapshot_database_transactions",
                                    "TABLE_TYPE": "VIEW",
                                    "REMARKS": "NULL"
                                },
                                {
                                    "TABLE_QUALIFIER": "SQLDBQuery",
                                    "TABLE_OWNER": "sys",
                                    "TABLE_NAME": "dm_tran_active_transactions",
                                    "TABLE_TYPE": "VIEW",
                                    "REMARKS": "NULL"
                                },
                                {
                                    "TABLE_QUALIFIER": "SQLDBQuery",
                                    "TABLE_OWNER": "sys",
                                    "TABLE_NAME": "dm_tran_commit_table",
                                    "TABLE_TYPE": "VIEW",
                                    "REMARKS": "NULL"
                                },
                                {
                                    "TABLE_QUALIFIER": "SQLDBQuery",
                                    "TABLE_OWNER": "sys",
                                    "TABLE_NAME": "dm_tran_current_snapshot",
                                    "TABLE_TYPE": "VIEW",
                                    "REMARKS": "NULL"
                                },
                                {
                                    "TABLE_QUALIFIER": "SQLDBQuery",
                                    "TABLE_OWNER": "sys",
                                    "TABLE_NAME": "dm_tran_current_transaction",
                                    "TABLE_TYPE": "VIEW",
                                    "REMARKS": "NULL"
                                },
                                {
                                    "TABLE_QUALIFIER": "SQLDBQuery",
                                    "TABLE_OWNER": "sys",
                                    "TABLE_NAME": "dm_tran_database_transactions",
                                    "TABLE_TYPE": "VIEW",
                                    "REMARKS": "NULL"
                                },
                                {
                                    "TABLE_QUALIFIER": "SQLDBQuery",
                                    "TABLE_OWNER": "sys",
                                    "TABLE_NAME": "dm_tran_global_recovery_transactions",
                                    "TABLE_TYPE": "VIEW",
                                    "REMARKS": "NULL"
                                },
                                {
                                    "TABLE_QUALIFIER": "SQLDBQuery",
                                    "TABLE_OWNER": "sys",
                                    "TABLE_NAME": "dm_tran_global_transactions",
                                    "TABLE_TYPE": "VIEW",
                                    "REMARKS": "NULL"
                                },
                                {
                                    "TABLE_QUALIFIER": "SQLDBQuery",
                                    "TABLE_OWNER": "sys",
                                    "TABLE_NAME": "dm_tran_global_transactions_enlistments",
                                    "TABLE_TYPE": "VIEW",
                                    "REMARKS": "NULL"
                                },
                                {
                                    "TABLE_QUALIFIER": "SQLDBQuery",
                                    "TABLE_OWNER": "sys",
                                    "TABLE_NAME": "dm_tran_global_transactions_log",
                                    "TABLE_TYPE": "VIEW",
                                    "REMARKS": "NULL"
                                },
                                {
                                    "TABLE_QUALIFIER": "SQLDBQuery",
                                    "TABLE_OWNER": "sys",
                                    "TABLE_NAME": "dm_tran_locks",
                                    "TABLE_TYPE": "VIEW",
                                    "REMARKS": "NULL"
                                },
                                {
                                    "TABLE_QUALIFIER": "SQLDBQuery",
                                    "TABLE_OWNER": "sys",
                                    "TABLE_NAME": "dm_tran_persistent_version_store",
                                    "TABLE_TYPE": "VIEW",
                                    "REMARKS": "NULL"
                                },
                                {
                                    "TABLE_QUALIFIER": "SQLDBQuery",
                                    "TABLE_OWNER": "sys",
                                    "TABLE_NAME": "dm_tran_persistent_version_store_stats",
                                    "TABLE_TYPE": "VIEW",
                                    "REMARKS": "NULL"
                                },
                                {
                                    "TABLE_QUALIFIER": "SQLDBQuery",
                                    "TABLE_OWNER": "sys",
                                    "TABLE_NAME": "dm_tran_session_transactions",
                                    "TABLE_TYPE": "VIEW",
                                    "REMARKS": "NULL"
                                },
                                {
                                    "TABLE_QUALIFIER": "SQLDBQuery",
                                    "TABLE_OWNER": "sys",
                                    "TABLE_NAME": "dm_tran_top_version_generators",
                                    "TABLE_TYPE": "VIEW",
                                    "REMARKS": "NULL"
                                },
                                {
                                    "TABLE_QUALIFIER": "SQLDBQuery",
                                    "TABLE_OWNER": "sys",
                                    "TABLE_NAME": "dm_tran_transactions_snapshot",
                                    "TABLE_TYPE": "VIEW",
                                    "REMARKS": "NULL"
                                },
                                {
                                    "TABLE_QUALIFIER": "SQLDBQuery",
                                    "TABLE_OWNER": "sys",
                                    "TABLE_NAME": "dm_tran_version_store",
                                    "TABLE_TYPE": "VIEW",
                                    "REMARKS": "NULL"
                                },
                                {
                                    "TABLE_QUALIFIER": "SQLDBQuery",
                                    "TABLE_OWNER": "sys",
                                    "TABLE_NAME": "dm_tran_version_store_space_usage",
                                    "TABLE_TYPE": "VIEW",
                                    "REMARKS": "NULL"
                                },
                                {
                                    "TABLE_QUALIFIER": "SQLDBQuery",
                                    "TABLE_OWNER": "sys",
                                    "TABLE_NAME": "dm_xe_map_values",
                                    "TABLE_TYPE": "VIEW",
                                    "REMARKS": "NULL"
                                },
                                {
                                    "TABLE_QUALIFIER": "SQLDBQuery",
                                    "TABLE_OWNER": "sys",
                                    "TABLE_NAME": "dm_xe_object_columns",
                                    "TABLE_TYPE": "VIEW",
                                    "REMARKS": "NULL"
                                },
                                {
                                    "TABLE_QUALIFIER": "SQLDBQuery",
                                    "TABLE_OWNER": "sys",
                                    "TABLE_NAME": "dm_xe_objects",
                                    "TABLE_TYPE": "VIEW",
                                    "REMARKS": "NULL"
                                },
                                {
                                    "TABLE_QUALIFIER": "SQLDBQuery",
                                    "TABLE_OWNER": "sys",
                                    "TABLE_NAME": "dm_xe_packages",
                                    "TABLE_TYPE": "VIEW",
                                    "REMARKS": "NULL"
                                },
                                {
                                    "TABLE_QUALIFIER": "SQLDBQuery",
                                    "TABLE_OWNER": "sys",
                                    "TABLE_NAME": "dm_xe_session_event_actions",
                                    "TABLE_TYPE": "VIEW",
                                    "REMARKS": "NULL"
                                },
                                {
                                    "TABLE_QUALIFIER": "SQLDBQuery",
                                    "TABLE_OWNER": "sys",
                                    "TABLE_NAME": "dm_xe_session_events",
                                    "TABLE_TYPE": "VIEW",
                                    "REMARKS": "NULL"
                                },
                                {
                                    "TABLE_QUALIFIER": "SQLDBQuery",
                                    "TABLE_OWNER": "sys",
                                    "TABLE_NAME": "dm_xe_session_object_columns",
                                    "TABLE_TYPE": "VIEW",
                                    "REMARKS": "NULL"
                                },
                                {
                                    "TABLE_QUALIFIER": "SQLDBQuery",
                                    "TABLE_OWNER": "sys",
                                    "TABLE_NAME": "dm_xe_session_targets",
                                    "TABLE_TYPE": "VIEW",
                                    "REMARKS": "NULL"
                                },
                                {
                                    "TABLE_QUALIFIER": "SQLDBQuery",
                                    "TABLE_OWNER": "sys",
                                    "TABLE_NAME": "dm_xe_sessions",
                                    "TABLE_TYPE": "VIEW",
                                    "REMARKS": "NULL"
                                },
                                {
                                    "TABLE_QUALIFIER": "SQLDBQuery",
                                    "TABLE_OWNER": "sys",
                                    "TABLE_NAME": "dm_xtp_gc_queue_stats",
                                    "TABLE_TYPE": "VIEW",
                                    "REMARKS": "NULL"
                                },
                                {
                                    "TABLE_QUALIFIER": "SQLDBQuery",
                                    "TABLE_OWNER": "sys",
                                    "TABLE_NAME": "dm_xtp_gc_stats",
                                    "TABLE_TYPE": "VIEW",
                                    "REMARKS": "NULL"
                                },
                                {
                                    "TABLE_QUALIFIER": "SQLDBQuery",
                                    "TABLE_OWNER": "sys",
                                    "TABLE_NAME": "dm_xtp_system_memory_consumers",
                                    "TABLE_TYPE": "VIEW",
                                    "REMARKS": "NULL"
                                },
                                {
                                    "TABLE_QUALIFIER": "SQLDBQuery",
                                    "TABLE_OWNER": "sys",
                                    "TABLE_NAME": "dm_xtp_threads",
                                    "TABLE_TYPE": "VIEW",
                                    "REMARKS": "NULL"
                                },
                                {
                                    "TABLE_QUALIFIER": "SQLDBQuery",
                                    "TABLE_OWNER": "sys",
                                    "TABLE_NAME": "dm_xtp_transaction_recent_rows",
                                    "TABLE_TYPE": "VIEW",
                                    "REMARKS": "NULL"
                                },
                                {
                                    "TABLE_QUALIFIER": "SQLDBQuery",
                                    "TABLE_OWNER": "sys",
                                    "TABLE_NAME": "dm_xtp_transaction_stats",
                                    "TABLE_TYPE": "VIEW",
                                    "REMARKS": "NULL"
                                },
                                {
                                    "TABLE_QUALIFIER": "SQLDBQuery",
                                    "TABLE_OWNER": "sys",
                                    "TABLE_NAME": "edge_constraint_clauses",
                                    "TABLE_TYPE": "VIEW",
                                    "REMARKS": "NULL"
                                },
                                {
                                    "TABLE_QUALIFIER": "SQLDBQuery",
                                    "TABLE_OWNER": "sys",
                                    "TABLE_NAME": "edge_constraints",
                                    "TABLE_TYPE": "VIEW",
                                    "REMARKS": "NULL"
                                },
                                {
                                    "TABLE_QUALIFIER": "SQLDBQuery",
                                    "TABLE_OWNER": "sys",
                                    "TABLE_NAME": "endpoint_webmethods",
                                    "TABLE_TYPE": "VIEW",
                                    "REMARKS": "NULL"
                                },
                                {
                                    "TABLE_QUALIFIER": "SQLDBQuery",
                                    "TABLE_OWNER": "sys",
                                    "TABLE_NAME": "endpoints",
                                    "TABLE_TYPE": "VIEW",
                                    "REMARKS": "NULL"
                                },
                                {
                                    "TABLE_QUALIFIER": "SQLDBQuery",
                                    "TABLE_OWNER": "sys",
                                    "TABLE_NAME": "event_notification_event_types",
                                    "TABLE_TYPE": "VIEW",
                                    "REMARKS": "NULL"
                                },
                                {
                                    "TABLE_QUALIFIER": "SQLDBQuery",
                                    "TABLE_OWNER": "sys",
                                    "TABLE_NAME": "event_notifications",
                                    "TABLE_TYPE": "VIEW",
                                    "REMARKS": "NULL"
                                },
                                {
                                    "TABLE_QUALIFIER": "SQLDBQuery",
                                    "TABLE_OWNER": "sys",
                                    "TABLE_NAME": "events",
                                    "TABLE_TYPE": "VIEW",
                                    "REMARKS": "NULL"
                                },
                                {
                                    "TABLE_QUALIFIER": "SQLDBQuery",
                                    "TABLE_OWNER": "sys",
                                    "TABLE_NAME": "extended_procedures",
                                    "TABLE_TYPE": "VIEW",
                                    "REMARKS": "NULL"
                                },
                                {
                                    "TABLE_QUALIFIER": "SQLDBQuery",
                                    "TABLE_OWNER": "sys",
                                    "TABLE_NAME": "extended_properties",
                                    "TABLE_TYPE": "VIEW",
                                    "REMARKS": "NULL"
                                },
                                {
                                    "TABLE_QUALIFIER": "SQLDBQuery",
                                    "TABLE_OWNER": "sys",
                                    "TABLE_NAME": "external_data_sources",
                                    "TABLE_TYPE": "VIEW",
                                    "REMARKS": "NULL"
                                },
                                {
                                    "TABLE_QUALIFIER": "SQLDBQuery",
                                    "TABLE_OWNER": "sys",
                                    "TABLE_NAME": "external_file_formats",
                                    "TABLE_TYPE": "VIEW",
                                    "REMARKS": "NULL"
                                },
                                {
                                    "TABLE_QUALIFIER": "SQLDBQuery",
                                    "TABLE_OWNER": "sys",
                                    "TABLE_NAME": "external_language_files",
                                    "TABLE_TYPE": "VIEW",
                                    "REMARKS": "NULL"
                                },
                                {
                                    "TABLE_QUALIFIER": "SQLDBQuery",
                                    "TABLE_OWNER": "sys",
                                    "TABLE_NAME": "external_languages",
                                    "TABLE_TYPE": "VIEW",
                                    "REMARKS": "NULL"
                                },
                                {
                                    "TABLE_QUALIFIER": "SQLDBQuery",
                                    "TABLE_OWNER": "sys",
                                    "TABLE_NAME": "external_libraries",
                                    "TABLE_TYPE": "VIEW",
                                    "REMARKS": "NULL"
                                },
                                {
                                    "TABLE_QUALIFIER": "SQLDBQuery",
                                    "TABLE_OWNER": "sys",
                                    "TABLE_NAME": "external_libraries_installed",
                                    "TABLE_TYPE": "VIEW",
                                    "REMARKS": "NULL"
                                },
                                {
                                    "TABLE_QUALIFIER": "SQLDBQuery",
                                    "TABLE_OWNER": "sys",
                                    "TABLE_NAME": "external_library_files",
                                    "TABLE_TYPE": "VIEW",
                                    "REMARKS": "NULL"
                                },
                                {
                                    "TABLE_QUALIFIER": "SQLDBQuery",
                                    "TABLE_OWNER": "sys",
                                    "TABLE_NAME": "external_library_setup_errors",
                                    "TABLE_TYPE": "VIEW",
                                    "REMARKS": "NULL"
                                },
                                {
                                    "TABLE_QUALIFIER": "SQLDBQuery",
                                    "TABLE_OWNER": "sys",
                                    "TABLE_NAME": "external_table_columns",
                                    "TABLE_TYPE": "VIEW",
                                    "REMARKS": "NULL"
                                },
                                {
                                    "TABLE_QUALIFIER": "SQLDBQuery",
                                    "TABLE_OWNER": "sys",
                                    "TABLE_NAME": "external_tables",
                                    "TABLE_TYPE": "VIEW",
                                    "REMARKS": "NULL"
                                },
                                {
                                    "TABLE_QUALIFIER": "SQLDBQuery",
                                    "TABLE_OWNER": "sys",
                                    "TABLE_NAME": "filegroups",
                                    "TABLE_TYPE": "VIEW",
                                    "REMARKS": "NULL"
                                },
                                {
                                    "TABLE_QUALIFIER": "SQLDBQuery",
                                    "TABLE_OWNER": "sys",
                                    "TABLE_NAME": "filetable_system_defined_objects",
                                    "TABLE_TYPE": "VIEW",
                                    "REMARKS": "NULL"
                                },
                                {
                                    "TABLE_QUALIFIER": "SQLDBQuery",
                                    "TABLE_OWNER": "sys",
                                    "TABLE_NAME": "filetables",
                                    "TABLE_TYPE": "VIEW",
                                    "REMARKS": "NULL"
                                },
                                {
                                    "TABLE_QUALIFIER": "SQLDBQuery",
                                    "TABLE_OWNER": "sys",
                                    "TABLE_NAME": "foreign_key_columns",
                                    "TABLE_TYPE": "VIEW",
                                    "REMARKS": "NULL"
                                },
                                {
                                    "TABLE_QUALIFIER": "SQLDBQuery",
                                    "TABLE_OWNER": "sys",
                                    "TABLE_NAME": "foreign_keys",
                                    "TABLE_TYPE": "VIEW",
                                    "REMARKS": "NULL"
                                },
                                {
                                    "TABLE_QUALIFIER": "SQLDBQuery",
                                    "TABLE_OWNER": "sys",
                                    "TABLE_NAME": "fulltext_catalogs",
                                    "TABLE_TYPE": "VIEW",
                                    "REMARKS": "NULL"
                                },
                                {
                                    "TABLE_QUALIFIER": "SQLDBQuery",
                                    "TABLE_OWNER": "sys",
                                    "TABLE_NAME": "fulltext_document_types",
                                    "TABLE_TYPE": "VIEW",
                                    "REMARKS": "NULL"
                                },
                                {
                                    "TABLE_QUALIFIER": "SQLDBQuery",
                                    "TABLE_OWNER": "sys",
                                    "TABLE_NAME": "fulltext_index_catalog_usages",
                                    "TABLE_TYPE": "VIEW",
                                    "REMARKS": "NULL"
                                },
                                {
                                    "TABLE_QUALIFIER": "SQLDBQuery",
                                    "TABLE_OWNER": "sys",
                                    "TABLE_NAME": "fulltext_index_columns",
                                    "TABLE_TYPE": "VIEW",
                                    "REMARKS": "NULL"
                                },
                                {
                                    "TABLE_QUALIFIER": "SQLDBQuery",
                                    "TABLE_OWNER": "sys",
                                    "TABLE_NAME": "fulltext_index_fragments",
                                    "TABLE_TYPE": "VIEW",
                                    "REMARKS": "NULL"
                                },
                                {
                                    "TABLE_QUALIFIER": "SQLDBQuery",
                                    "TABLE_OWNER": "sys",
                                    "TABLE_NAME": "fulltext_indexes",
                                    "TABLE_TYPE": "VIEW",
                                    "REMARKS": "NULL"
                                },
                                {
                                    "TABLE_QUALIFIER": "SQLDBQuery",
                                    "TABLE_OWNER": "sys",
                                    "TABLE_NAME": "fulltext_languages",
                                    "TABLE_TYPE": "VIEW",
                                    "REMARKS": "NULL"
                                },
                                {
                                    "TABLE_QUALIFIER": "SQLDBQuery",
                                    "TABLE_OWNER": "sys",
                                    "TABLE_NAME": "fulltext_semantic_language_statistics_database",
                                    "TABLE_TYPE": "VIEW",
                                    "REMARKS": "NULL"
                                },
                                {
                                    "TABLE_QUALIFIER": "SQLDBQuery",
                                    "TABLE_OWNER": "sys",
                                    "TABLE_NAME": "fulltext_semantic_languages",
                                    "TABLE_TYPE": "VIEW",
                                    "REMARKS": "NULL"
                                },
                                {
                                    "TABLE_QUALIFIER": "SQLDBQuery",
                                    "TABLE_OWNER": "sys",
                                    "TABLE_NAME": "fulltext_stoplists",
                                    "TABLE_TYPE": "VIEW",
                                    "REMARKS": "NULL"
                                },
                                {
                                    "TABLE_QUALIFIER": "SQLDBQuery",
                                    "TABLE_OWNER": "sys",
                                    "TABLE_NAME": "fulltext_stopwords",
                                    "TABLE_TYPE": "VIEW",
                                    "REMARKS": "NULL"
                                },
                                {
                                    "TABLE_QUALIFIER": "SQLDBQuery",
                                    "TABLE_OWNER": "sys",
                                    "TABLE_NAME": "fulltext_system_stopwords",
                                    "TABLE_TYPE": "VIEW",
                                    "REMARKS": "NULL"
                                },
                                {
                                    "TABLE_QUALIFIER": "SQLDBQuery",
                                    "TABLE_OWNER": "sys",
                                    "TABLE_NAME": "function_order_columns",
                                    "TABLE_TYPE": "VIEW",
                                    "REMARKS": "NULL"
                                },
                                {
                                    "TABLE_QUALIFIER": "SQLDBQuery",
                                    "TABLE_OWNER": "sys",
                                    "TABLE_NAME": "hash_indexes",
                                    "TABLE_TYPE": "VIEW",
                                    "REMARKS": "NULL"
                                },
                                {
                                    "TABLE_QUALIFIER": "SQLDBQuery",
                                    "TABLE_OWNER": "sys",
                                    "TABLE_NAME": "http_endpoints",
                                    "TABLE_TYPE": "VIEW",
                                    "REMARKS": "NULL"
                                },
                                {
                                    "TABLE_QUALIFIER": "SQLDBQuery",
                                    "TABLE_OWNER": "sys",
                                    "TABLE_NAME": "identity_columns",
                                    "TABLE_TYPE": "VIEW",
                                    "REMARKS": "NULL"
                                },
                                {
                                    "TABLE_QUALIFIER": "SQLDBQuery",
                                    "TABLE_OWNER": "sys",
                                    "TABLE_NAME": "index_columns",
                                    "TABLE_TYPE": "VIEW",
                                    "REMARKS": "NULL"
                                },
                                {
                                    "TABLE_QUALIFIER": "SQLDBQuery",
                                    "TABLE_OWNER": "sys",
                                    "TABLE_NAME": "index_resumable_operations",
                                    "TABLE_TYPE": "VIEW",
                                    "REMARKS": "NULL"
                                },
                                {
                                    "TABLE_QUALIFIER": "SQLDBQuery",
                                    "TABLE_OWNER": "sys",
                                    "TABLE_NAME": "indexes",
                                    "TABLE_TYPE": "VIEW",
                                    "REMARKS": "NULL"
                                },
                                {
                                    "TABLE_QUALIFIER": "SQLDBQuery",
                                    "TABLE_OWNER": "sys",
                                    "TABLE_NAME": "internal_partitions",
                                    "TABLE_TYPE": "VIEW",
                                    "REMARKS": "NULL"
                                },
                                {
                                    "TABLE_QUALIFIER": "SQLDBQuery",
                                    "TABLE_OWNER": "sys",
                                    "TABLE_NAME": "internal_tables",
                                    "TABLE_TYPE": "VIEW",
                                    "REMARKS": "NULL"
                                },
                                {
                                    "TABLE_QUALIFIER": "SQLDBQuery",
                                    "TABLE_OWNER": "sys",
                                    "TABLE_NAME": "key_constraints",
                                    "TABLE_TYPE": "VIEW",
                                    "REMARKS": "NULL"
                                },
                                {
                                    "TABLE_QUALIFIER": "SQLDBQuery",
                                    "TABLE_OWNER": "sys",
                                    "TABLE_NAME": "key_encryptions",
                                    "TABLE_TYPE": "VIEW",
                                    "REMARKS": "NULL"
                                },
                                {
                                    "TABLE_QUALIFIER": "SQLDBQuery",
                                    "TABLE_OWNER": "sys",
                                    "TABLE_NAME": "linked_logins",
                                    "TABLE_TYPE": "VIEW",
                                    "REMARKS": "NULL"
                                },
                                {
                                    "TABLE_QUALIFIER": "SQLDBQuery",
                                    "TABLE_OWNER": "sys",
                                    "TABLE_NAME": "login_token",
                                    "TABLE_TYPE": "VIEW",
                                    "REMARKS": "NULL"
                                },
                                {
                                    "TABLE_QUALIFIER": "SQLDBQuery",
                                    "TABLE_OWNER": "sys",
                                    "TABLE_NAME": "masked_columns",
                                    "TABLE_TYPE": "VIEW",
                                    "REMARKS": "NULL"
                                },
                                {
                                    "TABLE_QUALIFIER": "SQLDBQuery",
                                    "TABLE_OWNER": "sys",
                                    "TABLE_NAME": "master_files",
                                    "TABLE_TYPE": "VIEW",
                                    "REMARKS": "NULL"
                                },
                                {
                                    "TABLE_QUALIFIER": "SQLDBQuery",
                                    "TABLE_OWNER": "sys",
                                    "TABLE_NAME": "master_key_passwords",
                                    "TABLE_TYPE": "VIEW",
                                    "REMARKS": "NULL"
                                },
                                {
                                    "TABLE_QUALIFIER": "SQLDBQuery",
                                    "TABLE_OWNER": "sys",
                                    "TABLE_NAME": "memory_optimized_tables_internal_attributes",
                                    "TABLE_TYPE": "VIEW",
                                    "REMARKS": "NULL"
                                },
                                {
                                    "TABLE_QUALIFIER": "SQLDBQuery",
                                    "TABLE_OWNER": "sys",
                                    "TABLE_NAME": "message_type_xml_schema_collection_usages",
                                    "TABLE_TYPE": "VIEW",
                                    "REMARKS": "NULL"
                                },
                                {
                                    "TABLE_QUALIFIER": "SQLDBQuery",
                                    "TABLE_OWNER": "sys",
                                    "TABLE_NAME": "messages",
                                    "TABLE_TYPE": "VIEW",
                                    "REMARKS": "NULL"
                                },
                                {
                                    "TABLE_QUALIFIER": "SQLDBQuery",
                                    "TABLE_OWNER": "sys",
                                    "TABLE_NAME": "module_assembly_usages",
                                    "TABLE_TYPE": "VIEW",
                                    "REMARKS": "NULL"
                                },
                                {
                                    "TABLE_QUALIFIER": "SQLDBQuery",
                                    "TABLE_OWNER": "sys",
                                    "TABLE_NAME": "numbered_procedure_parameters",
                                    "TABLE_TYPE": "VIEW",
                                    "REMARKS": "NULL"
                                },
                                {
                                    "TABLE_QUALIFIER": "SQLDBQuery",
                                    "TABLE_OWNER": "sys",
                                    "TABLE_NAME": "numbered_procedures",
                                    "TABLE_TYPE": "VIEW",
                                    "REMARKS": "NULL"
                                },
                                {
                                    "TABLE_QUALIFIER": "SQLDBQuery",
                                    "TABLE_OWNER": "sys",
                                    "TABLE_NAME": "objects",
                                    "TABLE_TYPE": "VIEW",
                                    "REMARKS": "NULL"
                                },
                                {
                                    "TABLE_QUALIFIER": "SQLDBQuery",
                                    "TABLE_OWNER": "sys",
                                    "TABLE_NAME": "openkeys",
                                    "TABLE_TYPE": "VIEW",
                                    "REMARKS": "NULL"
                                },
                                {
                                    "TABLE_QUALIFIER": "SQLDBQuery",
                                    "TABLE_OWNER": "sys",
                                    "TABLE_NAME": "parameter_type_usages",
                                    "TABLE_TYPE": "VIEW",
                                    "REMARKS": "NULL"
                                },
                                {
                                    "TABLE_QUALIFIER": "SQLDBQuery",
                                    "TABLE_OWNER": "sys",
                                    "TABLE_NAME": "parameter_xml_schema_collection_usages",
                                    "TABLE_TYPE": "VIEW",
                                    "REMARKS": "NULL"
                                },
                                {
                                    "TABLE_QUALIFIER": "SQLDBQuery",
                                    "TABLE_OWNER": "sys",
                                    "TABLE_NAME": "parameters",
                                    "TABLE_TYPE": "VIEW",
                                    "REMARKS": "NULL"
                                },
                                {
                                    "TABLE_QUALIFIER": "SQLDBQuery",
                                    "TABLE_OWNER": "sys",
                                    "TABLE_NAME": "partition_functions",
                                    "TABLE_TYPE": "VIEW",
                                    "REMARKS": "NULL"
                                },
                                {
                                    "TABLE_QUALIFIER": "SQLDBQuery",
                                    "TABLE_OWNER": "sys",
                                    "TABLE_NAME": "partition_parameters",
                                    "TABLE_TYPE": "VIEW",
                                    "REMARKS": "NULL"
                                },
                                {
                                    "TABLE_QUALIFIER": "SQLDBQuery",
                                    "TABLE_OWNER": "sys",
                                    "TABLE_NAME": "partition_range_values",
                                    "TABLE_TYPE": "VIEW",
                                    "REMARKS": "NULL"
                                },
                                {
                                    "TABLE_QUALIFIER": "SQLDBQuery",
                                    "TABLE_OWNER": "sys",
                                    "TABLE_NAME": "partition_schemes",
                                    "TABLE_TYPE": "VIEW",
                                    "REMARKS": "NULL"
                                },
                                {
                                    "TABLE_QUALIFIER": "SQLDBQuery",
                                    "TABLE_OWNER": "sys",
                                    "TABLE_NAME": "partitions",
                                    "TABLE_TYPE": "VIEW",
                                    "REMARKS": "NULL"
                                },
                                {
                                    "TABLE_QUALIFIER": "SQLDBQuery",
                                    "TABLE_OWNER": "sys",
                                    "TABLE_NAME": "periods",
                                    "TABLE_TYPE": "VIEW",
                                    "REMARKS": "NULL"
                                },
                                {
                                    "TABLE_QUALIFIER": "SQLDBQuery",
                                    "TABLE_OWNER": "sys",
                                    "TABLE_NAME": "plan_guides",
                                    "TABLE_TYPE": "VIEW",
                                    "REMARKS": "NULL"
                                },
                                {
                                    "TABLE_QUALIFIER": "SQLDBQuery",
                                    "TABLE_OWNER": "sys",
                                    "TABLE_NAME": "procedures",
                                    "TABLE_TYPE": "VIEW",
                                    "REMARKS": "NULL"
                                },
                                {
                                    "TABLE_QUALIFIER": "SQLDBQuery",
                                    "TABLE_OWNER": "sys",
                                    "TABLE_NAME": "query_context_settings",
                                    "TABLE_TYPE": "VIEW",
                                    "REMARKS": "NULL"
                                },
                                {
                                    "TABLE_QUALIFIER": "SQLDBQuery",
                                    "TABLE_OWNER": "sys",
                                    "TABLE_NAME": "query_store_plan",
                                    "TABLE_TYPE": "VIEW",
                                    "REMARKS": "NULL"
                                },
                                {
                                    "TABLE_QUALIFIER": "SQLDBQuery",
                                    "TABLE_OWNER": "sys",
                                    "TABLE_NAME": "query_store_query",
                                    "TABLE_TYPE": "VIEW",
                                    "REMARKS": "NULL"
                                },
                                {
                                    "TABLE_QUALIFIER": "SQLDBQuery",
                                    "TABLE_OWNER": "sys",
                                    "TABLE_NAME": "query_store_query_text",
                                    "TABLE_TYPE": "VIEW",
                                    "REMARKS": "NULL"
                                },
                                {
                                    "TABLE_QUALIFIER": "SQLDBQuery",
                                    "TABLE_OWNER": "sys",
                                    "TABLE_NAME": "query_store_runtime_stats",
                                    "TABLE_TYPE": "VIEW",
                                    "REMARKS": "NULL"
                                },
                                {
                                    "TABLE_QUALIFIER": "SQLDBQuery",
                                    "TABLE_OWNER": "sys",
                                    "TABLE_NAME": "query_store_runtime_stats_interval",
                                    "TABLE_TYPE": "VIEW",
                                    "REMARKS": "NULL"
                                },
                                {
                                    "TABLE_QUALIFIER": "SQLDBQuery",
                                    "TABLE_OWNER": "sys",
                                    "TABLE_NAME": "query_store_wait_stats",
                                    "TABLE_TYPE": "VIEW",
                                    "REMARKS": "NULL"
                                },
                                {
                                    "TABLE_QUALIFIER": "SQLDBQuery",
                                    "TABLE_OWNER": "sys",
                                    "TABLE_NAME": "registered_search_properties",
                                    "TABLE_TYPE": "VIEW",
                                    "REMARKS": "NULL"
                                },
                                {
                                    "TABLE_QUALIFIER": "SQLDBQuery",
                                    "TABLE_OWNER": "sys",
                                    "TABLE_NAME": "registered_search_property_lists",
                                    "TABLE_TYPE": "VIEW",
                                    "REMARKS": "NULL"
                                },
                                {
                                    "TABLE_QUALIFIER": "SQLDBQuery",
                                    "TABLE_OWNER": "sys",
                                    "TABLE_NAME": "remote_data_archive_databases",
                                    "TABLE_TYPE": "VIEW",
                                    "REMARKS": "NULL"
                                },
                                {
                                    "TABLE_QUALIFIER": "SQLDBQuery",
                                    "TABLE_OWNER": "sys",
                                    "TABLE_NAME": "remote_data_archive_tables",
                                    "TABLE_TYPE": "VIEW",
                                    "REMARKS": "NULL"
                                },
                                {
                                    "TABLE_QUALIFIER": "SQLDBQuery",
                                    "TABLE_OWNER": "sys",
                                    "TABLE_NAME": "remote_logins",
                                    "TABLE_TYPE": "VIEW",
                                    "REMARKS": "NULL"
                                },
                                {
                                    "TABLE_QUALIFIER": "SQLDBQuery",
                                    "TABLE_OWNER": "sys",
                                    "TABLE_NAME": "remote_service_bindings",
                                    "TABLE_TYPE": "VIEW",
                                    "REMARKS": "NULL"
                                },
                                {
                                    "TABLE_QUALIFIER": "SQLDBQuery",
                                    "TABLE_OWNER": "sys",
                                    "TABLE_NAME": "resource_governor_configuration",
                                    "TABLE_TYPE": "VIEW",
                                    "REMARKS": "NULL"
                                },
                                {
                                    "TABLE_QUALIFIER": "SQLDBQuery",
                                    "TABLE_OWNER": "sys",
                                    "TABLE_NAME": "resource_governor_external_resource_pool_affinity",
                                    "TABLE_TYPE": "VIEW",
                                    "REMARKS": "NULL"
                                },
                                {
                                    "TABLE_QUALIFIER": "SQLDBQuery",
                                    "TABLE_OWNER": "sys",
                                    "TABLE_NAME": "resource_governor_external_resource_pools",
                                    "TABLE_TYPE": "VIEW",
                                    "REMARKS": "NULL"
                                },
                                {
                                    "TABLE_QUALIFIER": "SQLDBQuery",
                                    "TABLE_OWNER": "sys",
                                    "TABLE_NAME": "resource_governor_resource_pool_affinity",
                                    "TABLE_TYPE": "VIEW",
                                    "REMARKS": "NULL"
                                },
                                {
                                    "TABLE_QUALIFIER": "SQLDBQuery",
                                    "TABLE_OWNER": "sys",
                                    "TABLE_NAME": "resource_governor_resource_pools",
                                    "TABLE_TYPE": "VIEW",
                                    "REMARKS": "NULL"
                                },
                                {
                                    "TABLE_QUALIFIER": "SQLDBQuery",
                                    "TABLE_OWNER": "sys",
                                    "TABLE_NAME": "resource_governor_workload_groups",
                                    "TABLE_TYPE": "VIEW",
                                    "REMARKS": "NULL"
                                },
                                {
                                    "TABLE_QUALIFIER": "SQLDBQuery",
                                    "TABLE_OWNER": "sys",
                                    "TABLE_NAME": "routes",
                                    "TABLE_TYPE": "VIEW",
                                    "REMARKS": "NULL"
                                },
                                {
                                    "TABLE_QUALIFIER": "SQLDBQuery",
                                    "TABLE_OWNER": "sys",
                                    "TABLE_NAME": "schemas",
                                    "TABLE_TYPE": "VIEW",
                                    "REMARKS": "NULL"
                                },
                                {
                                    "TABLE_QUALIFIER": "SQLDBQuery",
                                    "TABLE_OWNER": "sys",
                                    "TABLE_NAME": "securable_classes",
                                    "TABLE_TYPE": "VIEW",
                                    "REMARKS": "NULL"
                                },
                                {
                                    "TABLE_QUALIFIER": "SQLDBQuery",
                                    "TABLE_OWNER": "sys",
                                    "TABLE_NAME": "security_policies",
                                    "TABLE_TYPE": "VIEW",
                                    "REMARKS": "NULL"
                                },
                                {
                                    "TABLE_QUALIFIER": "SQLDBQuery",
                                    "TABLE_OWNER": "sys",
                                    "TABLE_NAME": "security_predicates",
                                    "TABLE_TYPE": "VIEW",
                                    "REMARKS": "NULL"
                                },
                                {
                                    "TABLE_QUALIFIER": "SQLDBQuery",
                                    "TABLE_OWNER": "sys",
                                    "TABLE_NAME": "selective_xml_index_namespaces",
                                    "TABLE_TYPE": "VIEW",
                                    "REMARKS": "NULL"
                                },
                                {
                                    "TABLE_QUALIFIER": "SQLDBQuery",
                                    "TABLE_OWNER": "sys",
                                    "TABLE_NAME": "selective_xml_index_paths",
                                    "TABLE_TYPE": "VIEW",
                                    "REMARKS": "NULL"
                                },
                                {
                                    "TABLE_QUALIFIER": "SQLDBQuery",
                                    "TABLE_OWNER": "sys",
                                    "TABLE_NAME": "sensitivity_classifications",
                                    "TABLE_TYPE": "VIEW",
                                    "REMARKS": "NULL"
                                },
                                {
                                    "TABLE_QUALIFIER": "SQLDBQuery",
                                    "TABLE_OWNER": "sys",
                                    "TABLE_NAME": "sequences",
                                    "TABLE_TYPE": "VIEW",
                                    "REMARKS": "NULL"
                                },
                                {
                                    "TABLE_QUALIFIER": "SQLDBQuery",
                                    "TABLE_OWNER": "sys",
                                    "TABLE_NAME": "server_assembly_modules",
                                    "TABLE_TYPE": "VIEW",
                                    "REMARKS": "NULL"
                                },
                                {
                                    "TABLE_QUALIFIER": "SQLDBQuery",
                                    "TABLE_OWNER": "sys",
                                    "TABLE_NAME": "server_audit_specification_details",
                                    "TABLE_TYPE": "VIEW",
                                    "REMARKS": "NULL"
                                },
                                {
                                    "TABLE_QUALIFIER": "SQLDBQuery",
                                    "TABLE_OWNER": "sys",
                                    "TABLE_NAME": "server_audit_specifications",
                                    "TABLE_TYPE": "VIEW",
                                    "REMARKS": "NULL"
                                },
                                {
                                    "TABLE_QUALIFIER": "SQLDBQuery",
                                    "TABLE_OWNER": "sys",
                                    "TABLE_NAME": "server_audits",
                                    "TABLE_TYPE": "VIEW",
                                    "REMARKS": "NULL"
                                },
                                {
                                    "TABLE_QUALIFIER": "SQLDBQuery",
                                    "TABLE_OWNER": "sys",
                                    "TABLE_NAME": "server_event_notifications",
                                    "TABLE_TYPE": "VIEW",
                                    "REMARKS": "NULL"
                                },
                                {
                                    "TABLE_QUALIFIER": "SQLDBQuery",
                                    "TABLE_OWNER": "sys",
                                    "TABLE_NAME": "server_event_session_actions",
                                    "TABLE_TYPE": "VIEW",
                                    "REMARKS": "NULL"
                                },
                                {
                                    "TABLE_QUALIFIER": "SQLDBQuery",
                                    "TABLE_OWNER": "sys",
                                    "TABLE_NAME": "server_event_session_events",
                                    "TABLE_TYPE": "VIEW",
                                    "REMARKS": "NULL"
                                },
                                {
                                    "TABLE_QUALIFIER": "SQLDBQuery",
                                    "TABLE_OWNER": "sys",
                                    "TABLE_NAME": "server_event_session_fields",
                                    "TABLE_TYPE": "VIEW",
                                    "REMARKS": "NULL"
                                },
                                {
                                    "TABLE_QUALIFIER": "SQLDBQuery",
                                    "TABLE_OWNER": "sys",
                                    "TABLE_NAME": "server_event_session_targets",
                                    "TABLE_TYPE": "VIEW",
                                    "REMARKS": "NULL"
                                },
                                {
                                    "TABLE_QUALIFIER": "SQLDBQuery",
                                    "TABLE_OWNER": "sys",
                                    "TABLE_NAME": "server_event_sessions",
                                    "TABLE_TYPE": "VIEW",
                                    "REMARKS": "NULL"
                                },
                                {
                                    "TABLE_QUALIFIER": "SQLDBQuery",
                                    "TABLE_OWNER": "sys",
                                    "TABLE_NAME": "server_events",
                                    "TABLE_TYPE": "VIEW",
                                    "REMARKS": "NULL"
                                },
                                {
                                    "TABLE_QUALIFIER": "SQLDBQuery",
                                    "TABLE_OWNER": "sys",
                                    "TABLE_NAME": "server_file_audits",
                                    "TABLE_TYPE": "VIEW",
                                    "REMARKS": "NULL"
                                },
                                {
                                    "TABLE_QUALIFIER": "SQLDBQuery",
                                    "TABLE_OWNER": "sys",
                                    "TABLE_NAME": "server_memory_optimized_hybrid_buffer_pool_configuration",
                                    "TABLE_TYPE": "VIEW",
                                    "REMARKS": "NULL"
                                },
                                {
                                    "TABLE_QUALIFIER": "SQLDBQuery",
                                    "TABLE_OWNER": "sys",
                                    "TABLE_NAME": "server_permissions",
                                    "TABLE_TYPE": "VIEW",
                                    "REMARKS": "NULL"
                                },
                                {
                                    "TABLE_QUALIFIER": "SQLDBQuery",
                                    "TABLE_OWNER": "sys",
                                    "TABLE_NAME": "server_principal_credentials",
                                    "TABLE_TYPE": "VIEW",
                                    "REMARKS": "NULL"
                                },
                                {
                                    "TABLE_QUALIFIER": "SQLDBQuery",
                                    "TABLE_OWNER": "sys",
                                    "TABLE_NAME": "server_principals",
                                    "TABLE_TYPE": "VIEW",
                                    "REMARKS": "NULL"
                                },
                                {
                                    "TABLE_QUALIFIER": "SQLDBQuery",
                                    "TABLE_OWNER": "sys",
                                    "TABLE_NAME": "server_role_members",
                                    "TABLE_TYPE": "VIEW",
                                    "REMARKS": "NULL"
                                },
                                {
                                    "TABLE_QUALIFIER": "SQLDBQuery",
                                    "TABLE_OWNER": "sys",
                                    "TABLE_NAME": "server_sql_modules",
                                    "TABLE_TYPE": "VIEW",
                                    "REMARKS": "NULL"
                                },
                                {
                                    "TABLE_QUALIFIER": "SQLDBQuery",
                                    "TABLE_OWNER": "sys",
                                    "TABLE_NAME": "server_trigger_events",
                                    "TABLE_TYPE": "VIEW",
                                    "REMARKS": "NULL"
                                },
                                {
                                    "TABLE_QUALIFIER": "SQLDBQuery",
                                    "TABLE_OWNER": "sys",
                                    "TABLE_NAME": "server_triggers",
                                    "TABLE_TYPE": "VIEW",
                                    "REMARKS": "NULL"
                                },
                                {
                                    "TABLE_QUALIFIER": "SQLDBQuery",
                                    "TABLE_OWNER": "sys",
                                    "TABLE_NAME": "servers",
                                    "TABLE_TYPE": "VIEW",
                                    "REMARKS": "NULL"
                                },
                                {
                                    "TABLE_QUALIFIER": "SQLDBQuery",
                                    "TABLE_OWNER": "sys",
                                    "TABLE_NAME": "service_broker_endpoints",
                                    "TABLE_TYPE": "VIEW",
                                    "REMARKS": "NULL"
                                },
                                {
                                    "TABLE_QUALIFIER": "SQLDBQuery",
                                    "TABLE_OWNER": "sys",
                                    "TABLE_NAME": "service_contract_message_usages",
                                    "TABLE_TYPE": "VIEW",
                                    "REMARKS": "NULL"
                                },
                                {
                                    "TABLE_QUALIFIER": "SQLDBQuery",
                                    "TABLE_OWNER": "sys",
                                    "TABLE_NAME": "service_contract_usages",
                                    "TABLE_TYPE": "VIEW",
                                    "REMARKS": "NULL"
                                },
                                {
                                    "TABLE_QUALIFIER": "SQLDBQuery",
                                    "TABLE_OWNER": "sys",
                                    "TABLE_NAME": "service_contracts",
                                    "TABLE_TYPE": "VIEW",
                                    "REMARKS": "NULL"
                                },
                                {
                                    "TABLE_QUALIFIER": "SQLDBQuery",
                                    "TABLE_OWNER": "sys",
                                    "TABLE_NAME": "service_message_types",
                                    "TABLE_TYPE": "VIEW",
                                    "REMARKS": "NULL"
                                },
                                {
                                    "TABLE_QUALIFIER": "SQLDBQuery",
                                    "TABLE_OWNER": "sys",
                                    "TABLE_NAME": "service_queue_usages",
                                    "TABLE_TYPE": "VIEW",
                                    "REMARKS": "NULL"
                                },
                                {
                                    "TABLE_QUALIFIER": "SQLDBQuery",
                                    "TABLE_OWNER": "sys",
                                    "TABLE_NAME": "service_queues",
                                    "TABLE_TYPE": "VIEW",
                                    "REMARKS": "NULL"
                                },
                                {
                                    "TABLE_QUALIFIER": "SQLDBQuery",
                                    "TABLE_OWNER": "sys",
                                    "TABLE_NAME": "services",
                                    "TABLE_TYPE": "VIEW",
                                    "REMARKS": "NULL"
                                },
                                {
                                    "TABLE_QUALIFIER": "SQLDBQuery",
                                    "TABLE_OWNER": "sys",
                                    "TABLE_NAME": "soap_endpoints",
                                    "TABLE_TYPE": "VIEW",
                                    "REMARKS": "NULL"
                                },
                                {
                                    "TABLE_QUALIFIER": "SQLDBQuery",
                                    "TABLE_OWNER": "sys",
                                    "TABLE_NAME": "spatial_index_tessellations",
                                    "TABLE_TYPE": "VIEW",
                                    "REMARKS": "NULL"
                                },
                                {
                                    "TABLE_QUALIFIER": "SQLDBQuery",
                                    "TABLE_OWNER": "sys",
                                    "TABLE_NAME": "spatial_indexes",
                                    "TABLE_TYPE": "VIEW",
                                    "REMARKS": "NULL"
                                },
                                {
                                    "TABLE_QUALIFIER": "SQLDBQuery",
                                    "TABLE_OWNER": "sys",
                                    "TABLE_NAME": "spatial_reference_systems",
                                    "TABLE_TYPE": "VIEW",
                                    "REMARKS": "NULL"
                                },
                                {
                                    "TABLE_QUALIFIER": "SQLDBQuery",
                                    "TABLE_OWNER": "sys",
                                    "TABLE_NAME": "sql_dependencies",
                                    "TABLE_TYPE": "VIEW",
                                    "REMARKS": "NULL"
                                },
                                {
                                    "TABLE_QUALIFIER": "SQLDBQuery",
                                    "TABLE_OWNER": "sys",
                                    "TABLE_NAME": "sql_expression_dependencies",
                                    "TABLE_TYPE": "VIEW",
                                    "REMARKS": "NULL"
                                },
                                {
                                    "TABLE_QUALIFIER": "SQLDBQuery",
                                    "TABLE_OWNER": "sys",
                                    "TABLE_NAME": "sql_logins",
                                    "TABLE_TYPE": "VIEW",
                                    "REMARKS": "NULL"
                                },
                                {
                                    "TABLE_QUALIFIER": "SQLDBQuery",
                                    "TABLE_OWNER": "sys",
                                    "TABLE_NAME": "sql_modules",
                                    "TABLE_TYPE": "VIEW",
                                    "REMARKS": "NULL"
                                },
                                {
                                    "TABLE_QUALIFIER": "SQLDBQuery",
                                    "TABLE_OWNER": "sys",
                                    "TABLE_NAME": "stats",
                                    "TABLE_TYPE": "VIEW",
                                    "REMARKS": "NULL"
                                },
                                {
                                    "TABLE_QUALIFIER": "SQLDBQuery",
                                    "TABLE_OWNER": "sys",
                                    "TABLE_NAME": "stats_columns",
                                    "TABLE_TYPE": "VIEW",
                                    "REMARKS": "NULL"
                                },
                                {
                                    "TABLE_QUALIFIER": "SQLDBQuery",
                                    "TABLE_OWNER": "sys",
                                    "TABLE_NAME": "symmetric_keys",
                                    "TABLE_TYPE": "VIEW",
                                    "REMARKS": "NULL"
                                },
                                {
                                    "TABLE_QUALIFIER": "SQLDBQuery",
                                    "TABLE_OWNER": "sys",
                                    "TABLE_NAME": "synonyms",
                                    "TABLE_TYPE": "VIEW",
                                    "REMARKS": "NULL"
                                },
                                {
                                    "TABLE_QUALIFIER": "SQLDBQuery",
                                    "TABLE_OWNER": "sys",
                                    "TABLE_NAME": "sysaltfiles",
                                    "TABLE_TYPE": "VIEW",
                                    "REMARKS": "NULL"
                                },
                                {
                                    "TABLE_QUALIFIER": "SQLDBQuery",
                                    "TABLE_OWNER": "sys",
                                    "TABLE_NAME": "syscacheobjects",
                                    "TABLE_TYPE": "VIEW",
                                    "REMARKS": "NULL"
                                },
                                {
                                    "TABLE_QUALIFIER": "SQLDBQuery",
                                    "TABLE_OWNER": "sys",
                                    "TABLE_NAME": "syscharsets",
                                    "TABLE_TYPE": "VIEW",
                                    "REMARKS": "NULL"
                                },
                                {
                                    "TABLE_QUALIFIER": "SQLDBQuery",
                                    "TABLE_OWNER": "sys",
                                    "TABLE_NAME": "syscolumns",
                                    "TABLE_TYPE": "VIEW",
                                    "REMARKS": "NULL"
                                },
                                {
                                    "TABLE_QUALIFIER": "SQLDBQuery",
                                    "TABLE_OWNER": "sys",
                                    "TABLE_NAME": "syscomments",
                                    "TABLE_TYPE": "VIEW",
                                    "REMARKS": "NULL"
                                },
                                {
                                    "TABLE_QUALIFIER": "SQLDBQuery",
                                    "TABLE_OWNER": "sys",
                                    "TABLE_NAME": "sysconfigures",
                                    "TABLE_TYPE": "VIEW",
                                    "REMARKS": "NULL"
                                },
                                {
                                    "TABLE_QUALIFIER": "SQLDBQuery",
                                    "TABLE_OWNER": "sys",
                                    "TABLE_NAME": "sysconstraints",
                                    "TABLE_TYPE": "VIEW",
                                    "REMARKS": "NULL"
                                },
                                {
                                    "TABLE_QUALIFIER": "SQLDBQuery",
                                    "TABLE_OWNER": "sys",
                                    "TABLE_NAME": "syscscontainers",
                                    "TABLE_TYPE": "VIEW",
                                    "REMARKS": "NULL"
                                },
                                {
                                    "TABLE_QUALIFIER": "SQLDBQuery",
                                    "TABLE_OWNER": "sys",
                                    "TABLE_NAME": "syscurconfigs",
                                    "TABLE_TYPE": "VIEW",
                                    "REMARKS": "NULL"
                                },
                                {
                                    "TABLE_QUALIFIER": "SQLDBQuery",
                                    "TABLE_OWNER": "sys",
                                    "TABLE_NAME": "syscursorcolumns",
                                    "TABLE_TYPE": "VIEW",
                                    "REMARKS": "NULL"
                                },
                                {
                                    "TABLE_QUALIFIER": "SQLDBQuery",
                                    "TABLE_OWNER": "sys",
                                    "TABLE_NAME": "syscursorrefs",
                                    "TABLE_TYPE": "VIEW",
                                    "REMARKS": "NULL"
                                },
                                {
                                    "TABLE_QUALIFIER": "SQLDBQuery",
                                    "TABLE_OWNER": "sys",
                                    "TABLE_NAME": "syscursors",
                                    "TABLE_TYPE": "VIEW",
                                    "REMARKS": "NULL"
                                },
                                {
                                    "TABLE_QUALIFIER": "SQLDBQuery",
                                    "TABLE_OWNER": "sys",
                                    "TABLE_NAME": "syscursortables",
                                    "TABLE_TYPE": "VIEW",
                                    "REMARKS": "NULL"
                                },
                                {
                                    "TABLE_QUALIFIER": "SQLDBQuery",
                                    "TABLE_OWNER": "sys",
                                    "TABLE_NAME": "sysdatabases",
                                    "TABLE_TYPE": "VIEW",
                                    "REMARKS": "NULL"
                                },
                                {
                                    "TABLE_QUALIFIER": "SQLDBQuery",
                                    "TABLE_OWNER": "sys",
                                    "TABLE_NAME": "sysdepends",
                                    "TABLE_TYPE": "VIEW",
                                    "REMARKS": "NULL"
                                },
                                {
                                    "TABLE_QUALIFIER": "SQLDBQuery",
                                    "TABLE_OWNER": "sys",
                                    "TABLE_NAME": "sysdevices",
                                    "TABLE_TYPE": "VIEW",
                                    "REMARKS": "NULL"
                                },
                                {
                                    "TABLE_QUALIFIER": "SQLDBQuery",
                                    "TABLE_OWNER": "sys",
                                    "TABLE_NAME": "sysfilegroups",
                                    "TABLE_TYPE": "VIEW",
                                    "REMARKS": "NULL"
                                },
                                {
                                    "TABLE_QUALIFIER": "SQLDBQuery",
                                    "TABLE_OWNER": "sys",
                                    "TABLE_NAME": "sysfiles",
                                    "TABLE_TYPE": "VIEW",
                                    "REMARKS": "NULL"
                                },
                                {
                                    "TABLE_QUALIFIER": "SQLDBQuery",
                                    "TABLE_OWNER": "sys",
                                    "TABLE_NAME": "sysforeignkeys",
                                    "TABLE_TYPE": "VIEW",
                                    "REMARKS": "NULL"
                                },
                                {
                                    "TABLE_QUALIFIER": "SQLDBQuery",
                                    "TABLE_OWNER": "sys",
                                    "TABLE_NAME": "sysfulltextcatalogs",
                                    "TABLE_TYPE": "VIEW",
                                    "REMARKS": "NULL"
                                },
                                {
                                    "TABLE_QUALIFIER": "SQLDBQuery",
                                    "TABLE_OWNER": "sys",
                                    "TABLE_NAME": "sysindexes",
                                    "TABLE_TYPE": "VIEW",
                                    "REMARKS": "NULL"
                                },
                                {
                                    "TABLE_QUALIFIER": "SQLDBQuery",
                                    "TABLE_OWNER": "sys",
                                    "TABLE_NAME": "sysindexkeys",
                                    "TABLE_TYPE": "VIEW",
                                    "REMARKS": "NULL"
                                },
                                {
                                    "TABLE_QUALIFIER": "SQLDBQuery",
                                    "TABLE_OWNER": "sys",
                                    "TABLE_NAME": "syslanguages",
                                    "TABLE_TYPE": "VIEW",
                                    "REMARKS": "NULL"
                                },
                                {
                                    "TABLE_QUALIFIER": "SQLDBQuery",
                                    "TABLE_OWNER": "sys",
                                    "TABLE_NAME": "syslockinfo",
                                    "TABLE_TYPE": "VIEW",
                                    "REMARKS": "NULL"
                                },
                                {
                                    "TABLE_QUALIFIER": "SQLDBQuery",
                                    "TABLE_OWNER": "sys",
                                    "TABLE_NAME": "syslogins",
                                    "TABLE_TYPE": "VIEW",
                                    "REMARKS": "NULL"
                                },
                                {
                                    "TABLE_QUALIFIER": "SQLDBQuery",
                                    "TABLE_OWNER": "sys",
                                    "TABLE_NAME": "sysmembers",
                                    "TABLE_TYPE": "VIEW",
                                    "REMARKS": "NULL"
                                },
                                {
                                    "TABLE_QUALIFIER": "SQLDBQuery",
                                    "TABLE_OWNER": "sys",
                                    "TABLE_NAME": "sysmessages",
                                    "TABLE_TYPE": "VIEW",
                                    "REMARKS": "NULL"
                                },
                                {
                                    "TABLE_QUALIFIER": "SQLDBQuery",
                                    "TABLE_OWNER": "sys",
                                    "TABLE_NAME": "sysobjects",
                                    "TABLE_TYPE": "VIEW",
                                    "REMARKS": "NULL"
                                },
                                {
                                    "TABLE_QUALIFIER": "SQLDBQuery",
                                    "TABLE_OWNER": "sys",
                                    "TABLE_NAME": "sysoledbusers",
                                    "TABLE_TYPE": "VIEW",
                                    "REMARKS": "NULL"
                                },
                                {
                                    "TABLE_QUALIFIER": "SQLDBQuery",
                                    "TABLE_OWNER": "sys",
                                    "TABLE_NAME": "sysopentapes",
                                    "TABLE_TYPE": "VIEW",
                                    "REMARKS": "NULL"
                                },
                                {
                                    "TABLE_QUALIFIER": "SQLDBQuery",
                                    "TABLE_OWNER": "sys",
                                    "TABLE_NAME": "sysperfinfo",
                                    "TABLE_TYPE": "VIEW",
                                    "REMARKS": "NULL"
                                },
                                {
                                    "TABLE_QUALIFIER": "SQLDBQuery",
                                    "TABLE_OWNER": "sys",
                                    "TABLE_NAME": "syspermissions",
                                    "TABLE_TYPE": "VIEW",
                                    "REMARKS": "NULL"
                                },
                                {
                                    "TABLE_QUALIFIER": "SQLDBQuery",
                                    "TABLE_OWNER": "sys",
                                    "TABLE_NAME": "sysprocesses",
                                    "TABLE_TYPE": "VIEW",
                                    "REMARKS": "NULL"
                                },
                                {
                                    "TABLE_QUALIFIER": "SQLDBQuery",
                                    "TABLE_OWNER": "sys",
                                    "TABLE_NAME": "sysprotects",
                                    "TABLE_TYPE": "VIEW",
                                    "REMARKS": "NULL"
                                },
                                {
                                    "TABLE_QUALIFIER": "SQLDBQuery",
                                    "TABLE_OWNER": "sys",
                                    "TABLE_NAME": "sysreferences",
                                    "TABLE_TYPE": "VIEW",
                                    "REMARKS": "NULL"
                                },
                                {
                                    "TABLE_QUALIFIER": "SQLDBQuery",
                                    "TABLE_OWNER": "sys",
                                    "TABLE_NAME": "sysremotelogins",
                                    "TABLE_TYPE": "VIEW",
                                    "REMARKS": "NULL"
                                },
                                {
                                    "TABLE_QUALIFIER": "SQLDBQuery",
                                    "TABLE_OWNER": "sys",
                                    "TABLE_NAME": "sysservers",
                                    "TABLE_TYPE": "VIEW",
                                    "REMARKS": "NULL"
                                },
                                {
                                    "TABLE_QUALIFIER": "SQLDBQuery",
                                    "TABLE_OWNER": "sys",
                                    "TABLE_NAME": "system_columns",
                                    "TABLE_TYPE": "VIEW",
                                    "REMARKS": "NULL"
                                },
                                {
                                    "TABLE_QUALIFIER": "SQLDBQuery",
                                    "TABLE_OWNER": "sys",
                                    "TABLE_NAME": "system_components_surface_area_configuration",
                                    "TABLE_TYPE": "VIEW",
                                    "REMARKS": "NULL"
                                },
                                {
                                    "TABLE_QUALIFIER": "SQLDBQuery",
                                    "TABLE_OWNER": "sys",
                                    "TABLE_NAME": "system_internals_allocation_units",
                                    "TABLE_TYPE": "VIEW",
                                    "REMARKS": "NULL"
                                },
                                {
                                    "TABLE_QUALIFIER": "SQLDBQuery",
                                    "TABLE_OWNER": "sys",
                                    "TABLE_NAME": "system_internals_partition_columns",
                                    "TABLE_TYPE": "VIEW",
                                    "REMARKS": "NULL"
                                },
                                {
                                    "TABLE_QUALIFIER": "SQLDBQuery",
                                    "TABLE_OWNER": "sys",
                                    "TABLE_NAME": "system_internals_partitions",
                                    "TABLE_TYPE": "VIEW",
                                    "REMARKS": "NULL"
                                },
                                {
                                    "TABLE_QUALIFIER": "SQLDBQuery",
                                    "TABLE_OWNER": "sys",
                                    "TABLE_NAME": "system_objects",
                                    "TABLE_TYPE": "VIEW",
                                    "REMARKS": "NULL"
                                },
                                {
                                    "TABLE_QUALIFIER": "SQLDBQuery",
                                    "TABLE_OWNER": "sys",
                                    "TABLE_NAME": "system_parameters",
                                    "TABLE_TYPE": "VIEW",
                                    "REMARKS": "NULL"
                                },
                                {
                                    "TABLE_QUALIFIER": "SQLDBQuery",
                                    "TABLE_OWNER": "sys",
                                    "TABLE_NAME": "system_sql_modules",
                                    "TABLE_TYPE": "VIEW",
                                    "REMARKS": "NULL"
                                },
                                {
                                    "TABLE_QUALIFIER": "SQLDBQuery",
                                    "TABLE_OWNER": "sys",
                                    "TABLE_NAME": "system_views",
                                    "TABLE_TYPE": "VIEW",
                                    "REMARKS": "NULL"
                                },
                                {
                                    "TABLE_QUALIFIER": "SQLDBQuery",
                                    "TABLE_OWNER": "sys",
                                    "TABLE_NAME": "systypes",
                                    "TABLE_TYPE": "VIEW",
                                    "REMARKS": "NULL"
                                },
                                {
                                    "TABLE_QUALIFIER": "SQLDBQuery",
                                    "TABLE_OWNER": "sys",
                                    "TABLE_NAME": "sysusers",
                                    "TABLE_TYPE": "VIEW",
                                    "REMARKS": "NULL"
                                },
                                {
                                    "TABLE_QUALIFIER": "SQLDBQuery",
                                    "TABLE_OWNER": "sys",
                                    "TABLE_NAME": "table_types",
                                    "TABLE_TYPE": "VIEW",
                                    "REMARKS": "NULL"
                                },
                                {
                                    "TABLE_QUALIFIER": "SQLDBQuery",
                                    "TABLE_OWNER": "sys",
                                    "TABLE_NAME": "tables",
                                    "TABLE_TYPE": "VIEW",
                                    "REMARKS": "NULL"
                                },
                                {
                                    "TABLE_QUALIFIER": "SQLDBQuery",
                                    "TABLE_OWNER": "sys",
                                    "TABLE_NAME": "tcp_endpoints",
                                    "TABLE_TYPE": "VIEW",
                                    "REMARKS": "NULL"
                                },
                                {
                                    "TABLE_QUALIFIER": "SQLDBQuery",
                                    "TABLE_OWNER": "sys",
                                    "TABLE_NAME": "time_zone_info",
                                    "TABLE_TYPE": "VIEW",
                                    "REMARKS": "NULL"
                                },
                                {
                                    "TABLE_QUALIFIER": "SQLDBQuery",
                                    "TABLE_OWNER": "sys",
                                    "TABLE_NAME": "trace_categories",
                                    "TABLE_TYPE": "VIEW",
                                    "REMARKS": "NULL"
                                },
                                {
                                    "TABLE_QUALIFIER": "SQLDBQuery",
                                    "TABLE_OWNER": "sys",
                                    "TABLE_NAME": "trace_columns",
                                    "TABLE_TYPE": "VIEW",
                                    "REMARKS": "NULL"
                                },
                                {
                                    "TABLE_QUALIFIER": "SQLDBQuery",
                                    "TABLE_OWNER": "sys",
                                    "TABLE_NAME": "trace_event_bindings",
                                    "TABLE_TYPE": "VIEW",
                                    "REMARKS": "NULL"
                                },
                                {
                                    "TABLE_QUALIFIER": "SQLDBQuery",
                                    "TABLE_OWNER": "sys",
                                    "TABLE_NAME": "trace_events",
                                    "TABLE_TYPE": "VIEW",
                                    "REMARKS": "NULL"
                                },
                                {
                                    "TABLE_QUALIFIER": "SQLDBQuery",
                                    "TABLE_OWNER": "sys",
                                    "TABLE_NAME": "trace_subclass_values",
                                    "TABLE_TYPE": "VIEW",
                                    "REMARKS": "NULL"
                                },
                                {
                                    "TABLE_QUALIFIER": "SQLDBQuery",
                                    "TABLE_OWNER": "sys",
                                    "TABLE_NAME": "traces",
                                    "TABLE_TYPE": "VIEW",
                                    "REMARKS": "NULL"
                                },
                                {
                                    "TABLE_QUALIFIER": "SQLDBQuery",
                                    "TABLE_OWNER": "sys",
                                    "TABLE_NAME": "transmission_queue",
                                    "TABLE_TYPE": "VIEW",
                                    "REMARKS": "NULL"
                                },
                                {
                                    "TABLE_QUALIFIER": "SQLDBQuery",
                                    "TABLE_OWNER": "sys",
                                    "TABLE_NAME": "trigger_event_types",
                                    "TABLE_TYPE": "VIEW",
                                    "REMARKS": "NULL"
                                },
                                {
                                    "TABLE_QUALIFIER": "SQLDBQuery",
                                    "TABLE_OWNER": "sys",
                                    "TABLE_NAME": "trigger_events",
                                    "TABLE_TYPE": "VIEW",
                                    "REMARKS": "NULL"
                                },
                                {
                                    "TABLE_QUALIFIER": "SQLDBQuery",
                                    "TABLE_OWNER": "sys",
                                    "TABLE_NAME": "triggers",
                                    "TABLE_TYPE": "VIEW",
                                    "REMARKS": "NULL"
                                },
                                {
                                    "TABLE_QUALIFIER": "SQLDBQuery",
                                    "TABLE_OWNER": "sys",
                                    "TABLE_NAME": "trusted_assemblies",
                                    "TABLE_TYPE": "VIEW",
                                    "REMARKS": "NULL"
                                },
                                {
                                    "TABLE_QUALIFIER": "SQLDBQuery",
                                    "TABLE_OWNER": "sys",
                                    "TABLE_NAME": "type_assembly_usages",
                                    "TABLE_TYPE": "VIEW",
                                    "REMARKS": "NULL"
                                },
                                {
                                    "TABLE_QUALIFIER": "SQLDBQuery",
                                    "TABLE_OWNER": "sys",
                                    "TABLE_NAME": "types",
                                    "TABLE_TYPE": "VIEW",
                                    "REMARKS": "NULL"
                                },
                                {
                                    "TABLE_QUALIFIER": "SQLDBQuery",
                                    "TABLE_OWNER": "sys",
                                    "TABLE_NAME": "user_token",
                                    "TABLE_TYPE": "VIEW",
                                    "REMARKS": "NULL"
                                },
                                {
                                    "TABLE_QUALIFIER": "SQLDBQuery",
                                    "TABLE_OWNER": "sys",
                                    "TABLE_NAME": "via_endpoints",
                                    "TABLE_TYPE": "VIEW",
                                    "REMARKS": "NULL"
                                },
                                {
                                    "TABLE_QUALIFIER": "SQLDBQuery",
                                    "TABLE_OWNER": "sys",
                                    "TABLE_NAME": "views",
                                    "TABLE_TYPE": "VIEW",
                                    "REMARKS": "NULL"
                                },
                                {
                                    "TABLE_QUALIFIER": "SQLDBQuery",
                                    "TABLE_OWNER": "sys",
                                    "TABLE_NAME": "xml_indexes",
                                    "TABLE_TYPE": "VIEW",
                                    "REMARKS": "NULL"
                                },
                                {
                                    "TABLE_QUALIFIER": "SQLDBQuery",
                                    "TABLE_OWNER": "sys",
                                    "TABLE_NAME": "xml_schema_attributes",
                                    "TABLE_TYPE": "VIEW",
                                    "REMARKS": "NULL"
                                },
                                {
                                    "TABLE_QUALIFIER": "SQLDBQuery",
                                    "TABLE_OWNER": "sys",
                                    "TABLE_NAME": "xml_schema_collections",
                                    "TABLE_TYPE": "VIEW",
                                    "REMARKS": "NULL"
                                },
                                {
                                    "TABLE_QUALIFIER": "SQLDBQuery",
                                    "TABLE_OWNER": "sys",
                                    "TABLE_NAME": "xml_schema_component_placements",
                                    "TABLE_TYPE": "VIEW",
                                    "REMARKS": "NULL"
                                },
                                {
                                    "TABLE_QUALIFIER": "SQLDBQuery",
                                    "TABLE_OWNER": "sys",
                                    "TABLE_NAME": "xml_schema_components",
                                    "TABLE_TYPE": "VIEW",
                                    "REMARKS": "NULL"
                                },
                                {
                                    "TABLE_QUALIFIER": "SQLDBQuery",
                                    "TABLE_OWNER": "sys",
                                    "TABLE_NAME": "xml_schema_elements",
                                    "TABLE_TYPE": "VIEW",
                                    "REMARKS": "NULL"
                                },
                                {
                                    "TABLE_QUALIFIER": "SQLDBQuery",
                                    "TABLE_OWNER": "sys",
                                    "TABLE_NAME": "xml_schema_facets",
                                    "TABLE_TYPE": "VIEW",
                                    "REMARKS": "NULL"
                                },
                                {
                                    "TABLE_QUALIFIER": "SQLDBQuery",
                                    "TABLE_OWNER": "sys",
                                    "TABLE_NAME": "xml_schema_model_groups",
                                    "TABLE_TYPE": "VIEW",
                                    "REMARKS": "NULL"
                                },
                                {
                                    "TABLE_QUALIFIER": "SQLDBQuery",
                                    "TABLE_OWNER": "sys",
                                    "TABLE_NAME": "xml_schema_namespaces",
                                    "TABLE_TYPE": "VIEW",
                                    "REMARKS": "NULL"
                                },
                                {
                                    "TABLE_QUALIFIER": "SQLDBQuery",
                                    "TABLE_OWNER": "sys",
                                    "TABLE_NAME": "xml_schema_types",
                                    "TABLE_TYPE": "VIEW",
                                    "REMARKS": "NULL"
                                },
                                {
                                    "TABLE_QUALIFIER": "SQLDBQuery",
                                    "TABLE_OWNER": "sys",
                                    "TABLE_NAME": "xml_schema_wildcard_namespaces",
                                    "TABLE_TYPE": "VIEW",
                                    "REMARKS": "NULL"
                                },
                                {
                                    "TABLE_QUALIFIER": "SQLDBQuery",
                                    "TABLE_OWNER": "sys",
                                    "TABLE_NAME": "xml_schema_wildcards",
                                    "TABLE_TYPE": "VIEW",
                                    "REMARKS": "NULL"
                                }
                            ]
                        },
                        "text/html": "<table><tr><th>TABLE_QUALIFIER</th><th>TABLE_OWNER</th><th>TABLE_NAME</th><th>TABLE_TYPE</th><th>REMARKS</th></tr><tr><td>SQLDBQuery</td><td>dbo</td><td>GiaoVien</td><td>TABLE</td><td>NULL</td></tr><tr><td>SQLDBQuery</td><td>dbo</td><td>HocSinh</td><td>TABLE</td><td>NULL</td></tr><tr><td>SQLDBQuery</td><td>sys</td><td>trace_xe_action_map</td><td>TABLE</td><td>NULL</td></tr><tr><td>SQLDBQuery</td><td>sys</td><td>trace_xe_event_map</td><td>TABLE</td><td>NULL</td></tr><tr><td>SQLDBQuery</td><td>INFORMATION_SCHEMA</td><td>CHECK_CONSTRAINTS</td><td>VIEW</td><td>NULL</td></tr><tr><td>SQLDBQuery</td><td>INFORMATION_SCHEMA</td><td>COLUMN_DOMAIN_USAGE</td><td>VIEW</td><td>NULL</td></tr><tr><td>SQLDBQuery</td><td>INFORMATION_SCHEMA</td><td>COLUMN_PRIVILEGES</td><td>VIEW</td><td>NULL</td></tr><tr><td>SQLDBQuery</td><td>INFORMATION_SCHEMA</td><td>COLUMNS</td><td>VIEW</td><td>NULL</td></tr><tr><td>SQLDBQuery</td><td>INFORMATION_SCHEMA</td><td>CONSTRAINT_COLUMN_USAGE</td><td>VIEW</td><td>NULL</td></tr><tr><td>SQLDBQuery</td><td>INFORMATION_SCHEMA</td><td>CONSTRAINT_TABLE_USAGE</td><td>VIEW</td><td>NULL</td></tr><tr><td>SQLDBQuery</td><td>INFORMATION_SCHEMA</td><td>DOMAIN_CONSTRAINTS</td><td>VIEW</td><td>NULL</td></tr><tr><td>SQLDBQuery</td><td>INFORMATION_SCHEMA</td><td>DOMAINS</td><td>VIEW</td><td>NULL</td></tr><tr><td>SQLDBQuery</td><td>INFORMATION_SCHEMA</td><td>KEY_COLUMN_USAGE</td><td>VIEW</td><td>NULL</td></tr><tr><td>SQLDBQuery</td><td>INFORMATION_SCHEMA</td><td>PARAMETERS</td><td>VIEW</td><td>NULL</td></tr><tr><td>SQLDBQuery</td><td>INFORMATION_SCHEMA</td><td>REFERENTIAL_CONSTRAINTS</td><td>VIEW</td><td>NULL</td></tr><tr><td>SQLDBQuery</td><td>INFORMATION_SCHEMA</td><td>ROUTINE_COLUMNS</td><td>VIEW</td><td>NULL</td></tr><tr><td>SQLDBQuery</td><td>INFORMATION_SCHEMA</td><td>ROUTINES</td><td>VIEW</td><td>NULL</td></tr><tr><td>SQLDBQuery</td><td>INFORMATION_SCHEMA</td><td>SCHEMATA</td><td>VIEW</td><td>NULL</td></tr><tr><td>SQLDBQuery</td><td>INFORMATION_SCHEMA</td><td>SEQUENCES</td><td>VIEW</td><td>NULL</td></tr><tr><td>SQLDBQuery</td><td>INFORMATION_SCHEMA</td><td>TABLE_CONSTRAINTS</td><td>VIEW</td><td>NULL</td></tr><tr><td>SQLDBQuery</td><td>INFORMATION_SCHEMA</td><td>TABLE_PRIVILEGES</td><td>VIEW</td><td>NULL</td></tr><tr><td>SQLDBQuery</td><td>INFORMATION_SCHEMA</td><td>TABLES</td><td>VIEW</td><td>NULL</td></tr><tr><td>SQLDBQuery</td><td>INFORMATION_SCHEMA</td><td>VIEW_COLUMN_USAGE</td><td>VIEW</td><td>NULL</td></tr><tr><td>SQLDBQuery</td><td>INFORMATION_SCHEMA</td><td>VIEW_TABLE_USAGE</td><td>VIEW</td><td>NULL</td></tr><tr><td>SQLDBQuery</td><td>INFORMATION_SCHEMA</td><td>VIEWS</td><td>VIEW</td><td>NULL</td></tr><tr><td>SQLDBQuery</td><td>sys</td><td>all_columns</td><td>VIEW</td><td>NULL</td></tr><tr><td>SQLDBQuery</td><td>sys</td><td>all_objects</td><td>VIEW</td><td>NULL</td></tr><tr><td>SQLDBQuery</td><td>sys</td><td>all_parameters</td><td>VIEW</td><td>NULL</td></tr><tr><td>SQLDBQuery</td><td>sys</td><td>all_sql_modules</td><td>VIEW</td><td>NULL</td></tr><tr><td>SQLDBQuery</td><td>sys</td><td>all_views</td><td>VIEW</td><td>NULL</td></tr><tr><td>SQLDBQuery</td><td>sys</td><td>allocation_units</td><td>VIEW</td><td>NULL</td></tr><tr><td>SQLDBQuery</td><td>sys</td><td>assemblies</td><td>VIEW</td><td>NULL</td></tr><tr><td>SQLDBQuery</td><td>sys</td><td>assembly_files</td><td>VIEW</td><td>NULL</td></tr><tr><td>SQLDBQuery</td><td>sys</td><td>assembly_modules</td><td>VIEW</td><td>NULL</td></tr><tr><td>SQLDBQuery</td><td>sys</td><td>assembly_references</td><td>VIEW</td><td>NULL</td></tr><tr><td>SQLDBQuery</td><td>sys</td><td>assembly_types</td><td>VIEW</td><td>NULL</td></tr><tr><td>SQLDBQuery</td><td>sys</td><td>asymmetric_keys</td><td>VIEW</td><td>NULL</td></tr><tr><td>SQLDBQuery</td><td>sys</td><td>availability_databases_cluster</td><td>VIEW</td><td>NULL</td></tr><tr><td>SQLDBQuery</td><td>sys</td><td>availability_group_listener_ip_addresses</td><td>VIEW</td><td>NULL</td></tr><tr><td>SQLDBQuery</td><td>sys</td><td>availability_group_listeners</td><td>VIEW</td><td>NULL</td></tr><tr><td>SQLDBQuery</td><td>sys</td><td>availability_groups</td><td>VIEW</td><td>NULL</td></tr><tr><td>SQLDBQuery</td><td>sys</td><td>availability_groups_cluster</td><td>VIEW</td><td>NULL</td></tr><tr><td>SQLDBQuery</td><td>sys</td><td>availability_read_only_routing_lists</td><td>VIEW</td><td>NULL</td></tr><tr><td>SQLDBQuery</td><td>sys</td><td>availability_replicas</td><td>VIEW</td><td>NULL</td></tr><tr><td>SQLDBQuery</td><td>sys</td><td>backup_devices</td><td>VIEW</td><td>NULL</td></tr><tr><td>SQLDBQuery</td><td>sys</td><td>certificates</td><td>VIEW</td><td>NULL</td></tr><tr><td>SQLDBQuery</td><td>sys</td><td>change_tracking_databases</td><td>VIEW</td><td>NULL</td></tr><tr><td>SQLDBQuery</td><td>sys</td><td>change_tracking_tables</td><td>VIEW</td><td>NULL</td></tr><tr><td>SQLDBQuery</td><td>sys</td><td>check_constraints</td><td>VIEW</td><td>NULL</td></tr><tr><td>SQLDBQuery</td><td>sys</td><td>column_encryption_key_values</td><td>VIEW</td><td>NULL</td></tr><tr><td>SQLDBQuery</td><td>sys</td><td>column_encryption_keys</td><td>VIEW</td><td>NULL</td></tr><tr><td>SQLDBQuery</td><td>sys</td><td>column_master_keys</td><td>VIEW</td><td>NULL</td></tr><tr><td>SQLDBQuery</td><td>sys</td><td>column_store_dictionaries</td><td>VIEW</td><td>NULL</td></tr><tr><td>SQLDBQuery</td><td>sys</td><td>column_store_row_groups</td><td>VIEW</td><td>NULL</td></tr><tr><td>SQLDBQuery</td><td>sys</td><td>column_store_segments</td><td>VIEW</td><td>NULL</td></tr><tr><td>SQLDBQuery</td><td>sys</td><td>column_type_usages</td><td>VIEW</td><td>NULL</td></tr><tr><td>SQLDBQuery</td><td>sys</td><td>column_xml_schema_collection_usages</td><td>VIEW</td><td>NULL</td></tr><tr><td>SQLDBQuery</td><td>sys</td><td>columns</td><td>VIEW</td><td>NULL</td></tr><tr><td>SQLDBQuery</td><td>sys</td><td>computed_columns</td><td>VIEW</td><td>NULL</td></tr><tr><td>SQLDBQuery</td><td>sys</td><td>configurations</td><td>VIEW</td><td>NULL</td></tr><tr><td>SQLDBQuery</td><td>sys</td><td>conversation_endpoints</td><td>VIEW</td><td>NULL</td></tr><tr><td>SQLDBQuery</td><td>sys</td><td>conversation_groups</td><td>VIEW</td><td>NULL</td></tr><tr><td>SQLDBQuery</td><td>sys</td><td>conversation_priorities</td><td>VIEW</td><td>NULL</td></tr><tr><td>SQLDBQuery</td><td>sys</td><td>credentials</td><td>VIEW</td><td>NULL</td></tr><tr><td>SQLDBQuery</td><td>sys</td><td>crypt_properties</td><td>VIEW</td><td>NULL</td></tr><tr><td>SQLDBQuery</td><td>sys</td><td>cryptographic_providers</td><td>VIEW</td><td>NULL</td></tr><tr><td>SQLDBQuery</td><td>sys</td><td>data_spaces</td><td>VIEW</td><td>NULL</td></tr><tr><td>SQLDBQuery</td><td>sys</td><td>database_audit_specification_details</td><td>VIEW</td><td>NULL</td></tr><tr><td>SQLDBQuery</td><td>sys</td><td>database_audit_specifications</td><td>VIEW</td><td>NULL</td></tr><tr><td>SQLDBQuery</td><td>sys</td><td>database_automatic_tuning_mode</td><td>VIEW</td><td>NULL</td></tr><tr><td>SQLDBQuery</td><td>sys</td><td>database_automatic_tuning_options</td><td>VIEW</td><td>NULL</td></tr><tr><td>SQLDBQuery</td><td>sys</td><td>database_credentials</td><td>VIEW</td><td>NULL</td></tr><tr><td>SQLDBQuery</td><td>sys</td><td>database_files</td><td>VIEW</td><td>NULL</td></tr><tr><td>SQLDBQuery</td><td>sys</td><td>database_filestream_options</td><td>VIEW</td><td>NULL</td></tr><tr><td>SQLDBQuery</td><td>sys</td><td>database_mirroring</td><td>VIEW</td><td>NULL</td></tr><tr><td>SQLDBQuery</td><td>sys</td><td>database_mirroring_endpoints</td><td>VIEW</td><td>NULL</td></tr><tr><td>SQLDBQuery</td><td>sys</td><td>database_mirroring_witnesses</td><td>VIEW</td><td>NULL</td></tr><tr><td>SQLDBQuery</td><td>sys</td><td>database_permissions</td><td>VIEW</td><td>NULL</td></tr><tr><td>SQLDBQuery</td><td>sys</td><td>database_principals</td><td>VIEW</td><td>NULL</td></tr><tr><td>SQLDBQuery</td><td>sys</td><td>database_query_store_options</td><td>VIEW</td><td>NULL</td></tr><tr><td>SQLDBQuery</td><td>sys</td><td>database_recovery_status</td><td>VIEW</td><td>NULL</td></tr><tr><td>SQLDBQuery</td><td>sys</td><td>database_role_members</td><td>VIEW</td><td>NULL</td></tr><tr><td>SQLDBQuery</td><td>sys</td><td>database_scoped_configurations</td><td>VIEW</td><td>NULL</td></tr><tr><td>SQLDBQuery</td><td>sys</td><td>database_scoped_credentials</td><td>VIEW</td><td>NULL</td></tr><tr><td>SQLDBQuery</td><td>sys</td><td>databases</td><td>VIEW</td><td>NULL</td></tr><tr><td>SQLDBQuery</td><td>sys</td><td>default_constraints</td><td>VIEW</td><td>NULL</td></tr><tr><td>SQLDBQuery</td><td>sys</td><td>destination_data_spaces</td><td>VIEW</td><td>NULL</td></tr><tr><td>SQLDBQuery</td><td>sys</td><td>dm_audit_actions</td><td>VIEW</td><td>NULL</td></tr><tr><td>SQLDBQuery</td><td>sys</td><td>dm_audit_class_type_map</td><td>VIEW</td><td>NULL</td></tr><tr><td>SQLDBQuery</td><td>sys</td><td>dm_broker_activated_tasks</td><td>VIEW</td><td>NULL</td></tr><tr><td>SQLDBQuery</td><td>sys</td><td>dm_broker_connections</td><td>VIEW</td><td>NULL</td></tr><tr><td>SQLDBQuery</td><td>sys</td><td>dm_broker_forwarded_messages</td><td>VIEW</td><td>NULL</td></tr><tr><td>SQLDBQuery</td><td>sys</td><td>dm_broker_queue_monitors</td><td>VIEW</td><td>NULL</td></tr><tr><td>SQLDBQuery</td><td>sys</td><td>dm_cache_hit_stats</td><td>VIEW</td><td>NULL</td></tr><tr><td>SQLDBQuery</td><td>sys</td><td>dm_cache_size</td><td>VIEW</td><td>NULL</td></tr><tr><td>SQLDBQuery</td><td>sys</td><td>dm_cache_stats</td><td>VIEW</td><td>NULL</td></tr><tr><td>SQLDBQuery</td><td>sys</td><td>dm_cdc_errors</td><td>VIEW</td><td>NULL</td></tr><tr><td>SQLDBQuery</td><td>sys</td><td>dm_cdc_log_scan_sessions</td><td>VIEW</td><td>NULL</td></tr><tr><td>SQLDBQuery</td><td>sys</td><td>dm_clr_appdomains</td><td>VIEW</td><td>NULL</td></tr><tr><td>SQLDBQuery</td><td>sys</td><td>dm_clr_loaded_assemblies</td><td>VIEW</td><td>NULL</td></tr><tr><td>SQLDBQuery</td><td>sys</td><td>dm_clr_properties</td><td>VIEW</td><td>NULL</td></tr><tr><td>SQLDBQuery</td><td>sys</td><td>dm_clr_tasks</td><td>VIEW</td><td>NULL</td></tr><tr><td>SQLDBQuery</td><td>sys</td><td>dm_cluster_endpoints</td><td>VIEW</td><td>NULL</td></tr><tr><td>SQLDBQuery</td><td>sys</td><td>dm_column_encryption_enclave</td><td>VIEW</td><td>NULL</td></tr><tr><td>SQLDBQuery</td><td>sys</td><td>dm_column_encryption_enclave_operation_stats</td><td>VIEW</td><td>NULL</td></tr><tr><td>SQLDBQuery</td><td>sys</td><td>dm_column_store_object_pool</td><td>VIEW</td><td>NULL</td></tr><tr><td>SQLDBQuery</td><td>sys</td><td>dm_cryptographic_provider_properties</td><td>VIEW</td><td>NULL</td></tr><tr><td>SQLDBQuery</td><td>sys</td><td>dm_database_encryption_keys</td><td>VIEW</td><td>NULL</td></tr><tr><td>SQLDBQuery</td><td>sys</td><td>dm_db_column_store_row_group_operational_stats</td><td>VIEW</td><td>NULL</td></tr><tr><td>SQLDBQuery</td><td>sys</td><td>dm_db_column_store_row_group_physical_stats</td><td>VIEW</td><td>NULL</td></tr><tr><td>SQLDBQuery</td><td>sys</td><td>dm_db_data_pool_nodes</td><td>VIEW</td><td>NULL</td></tr><tr><td>SQLDBQuery</td><td>sys</td><td>dm_db_data_pools</td><td>VIEW</td><td>NULL</td></tr><tr><td>SQLDBQuery</td><td>sys</td><td>dm_db_external_language_stats</td><td>VIEW</td><td>NULL</td></tr><tr><td>SQLDBQuery</td><td>sys</td><td>dm_db_external_script_execution_stats</td><td>VIEW</td><td>NULL</td></tr><tr><td>SQLDBQuery</td><td>sys</td><td>dm_db_file_space_usage</td><td>VIEW</td><td>NULL</td></tr><tr><td>SQLDBQuery</td><td>sys</td><td>dm_db_fts_index_physical_stats</td><td>VIEW</td><td>NULL</td></tr><tr><td>SQLDBQuery</td><td>sys</td><td>dm_db_index_usage_stats</td><td>VIEW</td><td>NULL</td></tr><tr><td>SQLDBQuery</td><td>sys</td><td>dm_db_log_space_usage</td><td>VIEW</td><td>NULL</td></tr><tr><td>SQLDBQuery</td><td>sys</td><td>dm_db_mirroring_auto_page_repair</td><td>VIEW</td><td>NULL</td></tr><tr><td>SQLDBQuery</td><td>sys</td><td>dm_db_mirroring_connections</td><td>VIEW</td><td>NULL</td></tr><tr><td>SQLDBQuery</td><td>sys</td><td>dm_db_mirroring_past_actions</td><td>VIEW</td><td>NULL</td></tr><tr><td>SQLDBQuery</td><td>sys</td><td>dm_db_missing_index_details</td><td>VIEW</td><td>NULL</td></tr><tr><td>SQLDBQuery</td><td>sys</td><td>dm_db_missing_index_group_stats</td><td>VIEW</td><td>NULL</td></tr><tr><td>SQLDBQuery</td><td>sys</td><td>dm_db_missing_index_group_stats_query</td><td>VIEW</td><td>NULL</td></tr><tr><td>SQLDBQuery</td><td>sys</td><td>dm_db_missing_index_groups</td><td>VIEW</td><td>NULL</td></tr><tr><td>SQLDBQuery</td><td>sys</td><td>dm_db_partition_stats</td><td>VIEW</td><td>NULL</td></tr><tr><td>SQLDBQuery</td><td>sys</td><td>dm_db_persisted_sku_features</td><td>VIEW</td><td>NULL</td></tr><tr><td>SQLDBQuery</td><td>sys</td><td>dm_db_rda_migration_status</td><td>VIEW</td><td>NULL</td></tr><tr><td>SQLDBQuery</td><td>sys</td><td>dm_db_rda_schema_update_status</td><td>VIEW</td><td>NULL</td></tr><tr><td>SQLDBQuery</td><td>sys</td><td>dm_db_script_level</td><td>VIEW</td><td>NULL</td></tr><tr><td>SQLDBQuery</td><td>sys</td><td>dm_db_session_space_usage</td><td>VIEW</td><td>NULL</td></tr><tr><td>SQLDBQuery</td><td>sys</td><td>dm_db_storage_pool_nodes</td><td>VIEW</td><td>NULL</td></tr><tr><td>SQLDBQuery</td><td>sys</td><td>dm_db_storage_pools</td><td>VIEW</td><td>NULL</td></tr><tr><td>SQLDBQuery</td><td>sys</td><td>dm_db_task_space_usage</td><td>VIEW</td><td>NULL</td></tr><tr><td>SQLDBQuery</td><td>sys</td><td>dm_db_tuning_recommendations</td><td>VIEW</td><td>NULL</td></tr><tr><td>SQLDBQuery</td><td>sys</td><td>dm_db_uncontained_entities</td><td>VIEW</td><td>NULL</td></tr><tr><td>SQLDBQuery</td><td>sys</td><td>dm_db_xtp_checkpoint_files</td><td>VIEW</td><td>NULL</td></tr><tr><td>SQLDBQuery</td><td>sys</td><td>dm_db_xtp_checkpoint_internals</td><td>VIEW</td><td>NULL</td></tr><tr><td>SQLDBQuery</td><td>sys</td><td>dm_db_xtp_checkpoint_stats</td><td>VIEW</td><td>NULL</td></tr><tr><td>SQLDBQuery</td><td>sys</td><td>dm_db_xtp_gc_cycle_stats</td><td>VIEW</td><td>NULL</td></tr><tr><td>SQLDBQuery</td><td>sys</td><td>dm_db_xtp_hash_index_stats</td><td>VIEW</td><td>NULL</td></tr><tr><td>SQLDBQuery</td><td>sys</td><td>dm_db_xtp_index_stats</td><td>VIEW</td><td>NULL</td></tr><tr><td>SQLDBQuery</td><td>sys</td><td>dm_db_xtp_memory_consumers</td><td>VIEW</td><td>NULL</td></tr><tr><td>SQLDBQuery</td><td>sys</td><td>dm_db_xtp_nonclustered_index_stats</td><td>VIEW</td><td>NULL</td></tr><tr><td>SQLDBQuery</td><td>sys</td><td>dm_db_xtp_object_stats</td><td>VIEW</td><td>NULL</td></tr><tr><td>SQLDBQuery</td><td>sys</td><td>dm_db_xtp_table_memory_stats</td><td>VIEW</td><td>NULL</td></tr><tr><td>SQLDBQuery</td><td>sys</td><td>dm_db_xtp_transactions</td><td>VIEW</td><td>NULL</td></tr><tr><td>SQLDBQuery</td><td>sys</td><td>dm_distributed_exchange_stats</td><td>VIEW</td><td>NULL</td></tr><tr><td>SQLDBQuery</td><td>sys</td><td>dm_exec_background_job_queue</td><td>VIEW</td><td>NULL</td></tr><tr><td>SQLDBQuery</td><td>sys</td><td>dm_exec_background_job_queue_stats</td><td>VIEW</td><td>NULL</td></tr><tr><td>SQLDBQuery</td><td>sys</td><td>dm_exec_cached_plans</td><td>VIEW</td><td>NULL</td></tr><tr><td>SQLDBQuery</td><td>sys</td><td>dm_exec_compute_node_errors</td><td>VIEW</td><td>NULL</td></tr><tr><td>SQLDBQuery</td><td>sys</td><td>dm_exec_compute_node_status</td><td>VIEW</td><td>NULL</td></tr><tr><td>SQLDBQuery</td><td>sys</td><td>dm_exec_compute_nodes</td><td>VIEW</td><td>NULL</td></tr><tr><td>SQLDBQuery</td><td>sys</td><td>dm_exec_compute_pools</td><td>VIEW</td><td>NULL</td></tr><tr><td>SQLDBQuery</td><td>sys</td><td>dm_exec_connections</td><td>VIEW</td><td>NULL</td></tr><tr><td>SQLDBQuery</td><td>sys</td><td>dm_exec_distributed_request_steps</td><td>VIEW</td><td>NULL</td></tr><tr><td>SQLDBQuery</td><td>sys</td><td>dm_exec_distributed_requests</td><td>VIEW</td><td>NULL</td></tr><tr><td>SQLDBQuery</td><td>sys</td><td>dm_exec_distributed_sql_requests</td><td>VIEW</td><td>NULL</td></tr><tr><td>SQLDBQuery</td><td>sys</td><td>dm_exec_dms_services</td><td>VIEW</td><td>NULL</td></tr><tr><td>SQLDBQuery</td><td>sys</td><td>dm_exec_dms_workers</td><td>VIEW</td><td>NULL</td></tr><tr><td>SQLDBQuery</td><td>sys</td><td>dm_exec_external_operations</td><td>VIEW</td><td>NULL</td></tr><tr><td>SQLDBQuery</td><td>sys</td><td>dm_exec_external_work</td><td>VIEW</td><td>NULL</td></tr><tr><td>SQLDBQuery</td><td>sys</td><td>dm_exec_function_stats</td><td>VIEW</td><td>NULL</td></tr><tr><td>SQLDBQuery</td><td>sys</td><td>dm_exec_procedure_stats</td><td>VIEW</td><td>NULL</td></tr><tr><td>SQLDBQuery</td><td>sys</td><td>dm_exec_query_memory_grants</td><td>VIEW</td><td>NULL</td></tr><tr><td>SQLDBQuery</td><td>sys</td><td>dm_exec_query_optimizer_info</td><td>VIEW</td><td>NULL</td></tr><tr><td>SQLDBQuery</td><td>sys</td><td>dm_exec_query_optimizer_memory_gateways</td><td>VIEW</td><td>NULL</td></tr><tr><td>SQLDBQuery</td><td>sys</td><td>dm_exec_query_parallel_workers</td><td>VIEW</td><td>NULL</td></tr><tr><td>SQLDBQuery</td><td>sys</td><td>dm_exec_query_profiles</td><td>VIEW</td><td>NULL</td></tr><tr><td>SQLDBQuery</td><td>sys</td><td>dm_exec_query_resource_semaphores</td><td>VIEW</td><td>NULL</td></tr><tr><td>SQLDBQuery</td><td>sys</td><td>dm_exec_query_stats</td><td>VIEW</td><td>NULL</td></tr><tr><td>SQLDBQuery</td><td>sys</td><td>dm_exec_query_transformation_stats</td><td>VIEW</td><td>NULL</td></tr><tr><td>SQLDBQuery</td><td>sys</td><td>dm_exec_requests</td><td>VIEW</td><td>NULL</td></tr><tr><td>SQLDBQuery</td><td>sys</td><td>dm_exec_session_wait_stats</td><td>VIEW</td><td>NULL</td></tr><tr><td>SQLDBQuery</td><td>sys</td><td>dm_exec_sessions</td><td>VIEW</td><td>NULL</td></tr><tr><td>SQLDBQuery</td><td>sys</td><td>dm_exec_trigger_stats</td><td>VIEW</td><td>NULL</td></tr><tr><td>SQLDBQuery</td><td>sys</td><td>dm_exec_valid_use_hints</td><td>VIEW</td><td>NULL</td></tr><tr><td>SQLDBQuery</td><td>sys</td><td>dm_external_authentication</td><td>VIEW</td><td>NULL</td></tr><tr><td>SQLDBQuery</td><td>sys</td><td>dm_external_script_execution_stats</td><td>VIEW</td><td>NULL</td></tr><tr><td>SQLDBQuery</td><td>sys</td><td>dm_external_script_requests</td><td>VIEW</td><td>NULL</td></tr><tr><td>SQLDBQuery</td><td>sys</td><td>dm_external_script_resource_usage_stats</td><td>VIEW</td><td>NULL</td></tr><tr><td>SQLDBQuery</td><td>sys</td><td>dm_filestream_file_io_handles</td><td>VIEW</td><td>NULL</td></tr><tr><td>SQLDBQuery</td><td>sys</td><td>dm_filestream_file_io_requests</td><td>VIEW</td><td>NULL</td></tr><tr><td>SQLDBQuery</td><td>sys</td><td>dm_filestream_non_transacted_handles</td><td>VIEW</td><td>NULL</td></tr><tr><td>SQLDBQuery</td><td>sys</td><td>dm_fts_active_catalogs</td><td>VIEW</td><td>NULL</td></tr><tr><td>SQLDBQuery</td><td>sys</td><td>dm_fts_fdhosts</td><td>VIEW</td><td>NULL</td></tr><tr><td>SQLDBQuery</td><td>sys</td><td>dm_fts_index_population</td><td>VIEW</td><td>NULL</td></tr><tr><td>SQLDBQuery</td><td>sys</td><td>dm_fts_memory_buffers</td><td>VIEW</td><td>NULL</td></tr><tr><td>SQLDBQuery</td><td>sys</td><td>dm_fts_memory_pools</td><td>VIEW</td><td>NULL</td></tr><tr><td>SQLDBQuery</td><td>sys</td><td>dm_fts_outstanding_batches</td><td>VIEW</td><td>NULL</td></tr><tr><td>SQLDBQuery</td><td>sys</td><td>dm_fts_population_ranges</td><td>VIEW</td><td>NULL</td></tr><tr><td>SQLDBQuery</td><td>sys</td><td>dm_fts_semantic_similarity_population</td><td>VIEW</td><td>NULL</td></tr><tr><td>SQLDBQuery</td><td>sys</td><td>dm_hadr_ag_threads</td><td>VIEW</td><td>NULL</td></tr><tr><td>SQLDBQuery</td><td>sys</td><td>dm_hadr_auto_page_repair</td><td>VIEW</td><td>NULL</td></tr><tr><td>SQLDBQuery</td><td>sys</td><td>dm_hadr_automatic_seeding</td><td>VIEW</td><td>NULL</td></tr><tr><td>SQLDBQuery</td><td>sys</td><td>dm_hadr_availability_group_states</td><td>VIEW</td><td>NULL</td></tr><tr><td>SQLDBQuery</td><td>sys</td><td>dm_hadr_availability_replica_cluster_nodes</td><td>VIEW</td><td>NULL</td></tr><tr><td>SQLDBQuery</td><td>sys</td><td>dm_hadr_availability_replica_cluster_states</td><td>VIEW</td><td>NULL</td></tr><tr><td>SQLDBQuery</td><td>sys</td><td>dm_hadr_availability_replica_states</td><td>VIEW</td><td>NULL</td></tr><tr><td>SQLDBQuery</td><td>sys</td><td>dm_hadr_cached_database_replica_states</td><td>VIEW</td><td>NULL</td></tr><tr><td>SQLDBQuery</td><td>sys</td><td>dm_hadr_cached_replica_states</td><td>VIEW</td><td>NULL</td></tr><tr><td>SQLDBQuery</td><td>sys</td><td>dm_hadr_cluster</td><td>VIEW</td><td>NULL</td></tr><tr><td>SQLDBQuery</td><td>sys</td><td>dm_hadr_cluster_members</td><td>VIEW</td><td>NULL</td></tr><tr><td>SQLDBQuery</td><td>sys</td><td>dm_hadr_cluster_networks</td><td>VIEW</td><td>NULL</td></tr><tr><td>SQLDBQuery</td><td>sys</td><td>dm_hadr_database_replica_cluster_states</td><td>VIEW</td><td>NULL</td></tr><tr><td>SQLDBQuery</td><td>sys</td><td>dm_hadr_database_replica_states</td><td>VIEW</td><td>NULL</td></tr><tr><td>SQLDBQuery</td><td>sys</td><td>dm_hadr_db_threads</td><td>VIEW</td><td>NULL</td></tr><tr><td>SQLDBQuery</td><td>sys</td><td>dm_hadr_instance_node_map</td><td>VIEW</td><td>NULL</td></tr><tr><td>SQLDBQuery</td><td>sys</td><td>dm_hadr_name_id_map</td><td>VIEW</td><td>NULL</td></tr><tr><td>SQLDBQuery</td><td>sys</td><td>dm_hadr_physical_seeding_stats</td><td>VIEW</td><td>NULL</td></tr><tr><td>SQLDBQuery</td><td>sys</td><td>dm_hpc_device_stats</td><td>VIEW</td><td>NULL</td></tr><tr><td>SQLDBQuery</td><td>sys</td><td>dm_hpc_thread_proxy_stats</td><td>VIEW</td><td>NULL</td></tr><tr><td>SQLDBQuery</td><td>sys</td><td>dm_io_backup_tapes</td><td>VIEW</td><td>NULL</td></tr><tr><td>SQLDBQuery</td><td>sys</td><td>dm_io_cluster_shared_drives</td><td>VIEW</td><td>NULL</td></tr><tr><td>SQLDBQuery</td><td>sys</td><td>dm_io_cluster_valid_path_names</td><td>VIEW</td><td>NULL</td></tr><tr><td>SQLDBQuery</td><td>sys</td><td>dm_io_pending_io_requests</td><td>VIEW</td><td>NULL</td></tr><tr><td>SQLDBQuery</td><td>sys</td><td>dm_logpool_hashentries</td><td>VIEW</td><td>NULL</td></tr><tr><td>SQLDBQuery</td><td>sys</td><td>dm_logpool_stats</td><td>VIEW</td><td>NULL</td></tr><tr><td>SQLDBQuery</td><td>sys</td><td>dm_os_buffer_descriptors</td><td>VIEW</td><td>NULL</td></tr><tr><td>SQLDBQuery</td><td>sys</td><td>dm_os_buffer_pool_extension_configuration</td><td>VIEW</td><td>NULL</td></tr><tr><td>SQLDBQuery</td><td>sys</td><td>dm_os_child_instances</td><td>VIEW</td><td>NULL</td></tr><tr><td>SQLDBQuery</td><td>sys</td><td>dm_os_cluster_nodes</td><td>VIEW</td><td>NULL</td></tr><tr><td>SQLDBQuery</td><td>sys</td><td>dm_os_cluster_properties</td><td>VIEW</td><td>NULL</td></tr><tr><td>SQLDBQuery</td><td>sys</td><td>dm_os_dispatcher_pools</td><td>VIEW</td><td>NULL</td></tr><tr><td>SQLDBQuery</td><td>sys</td><td>dm_os_dispatchers</td><td>VIEW</td><td>NULL</td></tr><tr><td>SQLDBQuery</td><td>sys</td><td>dm_os_enumerate_fixed_drives</td><td>VIEW</td><td>NULL</td></tr><tr><td>SQLDBQuery</td><td>sys</td><td>dm_os_host_info</td><td>VIEW</td><td>NULL</td></tr><tr><td>SQLDBQuery</td><td>sys</td><td>dm_os_hosts</td><td>VIEW</td><td>NULL</td></tr><tr><td>SQLDBQuery</td><td>sys</td><td>dm_os_job_object</td><td>VIEW</td><td>NULL</td></tr><tr><td>SQLDBQuery</td><td>sys</td><td>dm_os_latch_stats</td><td>VIEW</td><td>NULL</td></tr><tr><td>SQLDBQuery</td><td>sys</td><td>dm_os_loaded_modules</td><td>VIEW</td><td>NULL</td></tr><tr><td>SQLDBQuery</td><td>sys</td><td>dm_os_memory_allocations</td><td>VIEW</td><td>NULL</td></tr><tr><td>SQLDBQuery</td><td>sys</td><td>dm_os_memory_broker_clerks</td><td>VIEW</td><td>NULL</td></tr><tr><td>SQLDBQuery</td><td>sys</td><td>dm_os_memory_brokers</td><td>VIEW</td><td>NULL</td></tr><tr><td>SQLDBQuery</td><td>sys</td><td>dm_os_memory_cache_clock_hands</td><td>VIEW</td><td>NULL</td></tr><tr><td>SQLDBQuery</td><td>sys</td><td>dm_os_memory_cache_counters</td><td>VIEW</td><td>NULL</td></tr><tr><td>SQLDBQuery</td><td>sys</td><td>dm_os_memory_cache_entries</td><td>VIEW</td><td>NULL</td></tr><tr><td>SQLDBQuery</td><td>sys</td><td>dm_os_memory_cache_hash_tables</td><td>VIEW</td><td>NULL</td></tr><tr><td>SQLDBQuery</td><td>sys</td><td>dm_os_memory_clerks</td><td>VIEW</td><td>NULL</td></tr><tr><td>SQLDBQuery</td><td>sys</td><td>dm_os_memory_node_access_stats</td><td>VIEW</td><td>NULL</td></tr><tr><td>SQLDBQuery</td><td>sys</td><td>dm_os_memory_nodes</td><td>VIEW</td><td>NULL</td></tr><tr><td>SQLDBQuery</td><td>sys</td><td>dm_os_memory_objects</td><td>VIEW</td><td>NULL</td></tr><tr><td>SQLDBQuery</td><td>sys</td><td>dm_os_memory_pools</td><td>VIEW</td><td>NULL</td></tr><tr><td>SQLDBQuery</td><td>sys</td><td>dm_os_nodes</td><td>VIEW</td><td>NULL</td></tr><tr><td>SQLDBQuery</td><td>sys</td><td>dm_os_performance_counters</td><td>VIEW</td><td>NULL</td></tr><tr><td>SQLDBQuery</td><td>sys</td><td>dm_os_process_memory</td><td>VIEW</td><td>NULL</td></tr><tr><td>SQLDBQuery</td><td>sys</td><td>dm_os_ring_buffers</td><td>VIEW</td><td>NULL</td></tr><tr><td>SQLDBQuery</td><td>sys</td><td>dm_os_schedulers</td><td>VIEW</td><td>NULL</td></tr><tr><td>SQLDBQuery</td><td>sys</td><td>dm_os_server_diagnostics_log_configurations</td><td>VIEW</td><td>NULL</td></tr><tr><td>SQLDBQuery</td><td>sys</td><td>dm_os_spinlock_stats</td><td>VIEW</td><td>NULL</td></tr><tr><td>SQLDBQuery</td><td>sys</td><td>dm_os_stacks</td><td>VIEW</td><td>NULL</td></tr><tr><td>SQLDBQuery</td><td>sys</td><td>dm_os_sublatches</td><td>VIEW</td><td>NULL</td></tr><tr><td>SQLDBQuery</td><td>sys</td><td>dm_os_sys_info</td><td>VIEW</td><td>NULL</td></tr><tr><td>SQLDBQuery</td><td>sys</td><td>dm_os_sys_memory</td><td>VIEW</td><td>NULL</td></tr><tr><td>SQLDBQuery</td><td>sys</td><td>dm_os_tasks</td><td>VIEW</td><td>NULL</td></tr><tr><td>SQLDBQuery</td><td>sys</td><td>dm_os_threads</td><td>VIEW</td><td>NULL</td></tr><tr><td>SQLDBQuery</td><td>sys</td><td>dm_os_virtual_address_dump</td><td>VIEW</td><td>NULL</td></tr><tr><td>SQLDBQuery</td><td>sys</td><td>dm_os_wait_stats</td><td>VIEW</td><td>NULL</td></tr><tr><td>SQLDBQuery</td><td>sys</td><td>dm_os_waiting_tasks</td><td>VIEW</td><td>NULL</td></tr><tr><td>SQLDBQuery</td><td>sys</td><td>dm_os_windows_info</td><td>VIEW</td><td>NULL</td></tr><tr><td>SQLDBQuery</td><td>sys</td><td>dm_os_worker_local_storage</td><td>VIEW</td><td>NULL</td></tr><tr><td>SQLDBQuery</td><td>sys</td><td>dm_os_workers</td><td>VIEW</td><td>NULL</td></tr><tr><td>SQLDBQuery</td><td>sys</td><td>dm_pal_cpu_stats</td><td>VIEW</td><td>NULL</td></tr><tr><td>SQLDBQuery</td><td>sys</td><td>dm_pal_disk_stats</td><td>VIEW</td><td>NULL</td></tr><tr><td>SQLDBQuery</td><td>sys</td><td>dm_pal_net_stats</td><td>VIEW</td><td>NULL</td></tr><tr><td>SQLDBQuery</td><td>sys</td><td>dm_pal_processes</td><td>VIEW</td><td>NULL</td></tr><tr><td>SQLDBQuery</td><td>sys</td><td>dm_pal_spinlock_stats</td><td>VIEW</td><td>NULL</td></tr><tr><td>SQLDBQuery</td><td>sys</td><td>dm_pal_vm_stats</td><td>VIEW</td><td>NULL</td></tr><tr><td>SQLDBQuery</td><td>sys</td><td>dm_pal_wait_stats</td><td>VIEW</td><td>NULL</td></tr><tr><td>SQLDBQuery</td><td>sys</td><td>dm_qn_subscriptions</td><td>VIEW</td><td>NULL</td></tr><tr><td>SQLDBQuery</td><td>sys</td><td>dm_repl_articles</td><td>VIEW</td><td>NULL</td></tr><tr><td>SQLDBQuery</td><td>sys</td><td>dm_repl_schemas</td><td>VIEW</td><td>NULL</td></tr><tr><td>SQLDBQuery</td><td>sys</td><td>dm_repl_tranhash</td><td>VIEW</td><td>NULL</td></tr><tr><td>SQLDBQuery</td><td>sys</td><td>dm_repl_traninfo</td><td>VIEW</td><td>NULL</td></tr><tr><td>SQLDBQuery</td><td>sys</td><td>dm_resource_governor_configuration</td><td>VIEW</td><td>NULL</td></tr><tr><td>SQLDBQuery</td><td>sys</td><td>dm_resource_governor_external_resource_pool_affinity</td><td>VIEW</td><td>NULL</td></tr><tr><td>SQLDBQuery</td><td>sys</td><td>dm_resource_governor_external_resource_pools</td><td>VIEW</td><td>NULL</td></tr><tr><td>SQLDBQuery</td><td>sys</td><td>dm_resource_governor_resource_pool_affinity</td><td>VIEW</td><td>NULL</td></tr><tr><td>SQLDBQuery</td><td>sys</td><td>dm_resource_governor_resource_pool_volumes</td><td>VIEW</td><td>NULL</td></tr><tr><td>SQLDBQuery</td><td>sys</td><td>dm_resource_governor_resource_pools</td><td>VIEW</td><td>NULL</td></tr><tr><td>SQLDBQuery</td><td>sys</td><td>dm_resource_governor_workload_groups</td><td>VIEW</td><td>NULL</td></tr><tr><td>SQLDBQuery</td><td>sys</td><td>dm_server_audit_status</td><td>VIEW</td><td>NULL</td></tr><tr><td>SQLDBQuery</td><td>sys</td><td>dm_server_memory_dumps</td><td>VIEW</td><td>NULL</td></tr><tr><td>SQLDBQuery</td><td>sys</td><td>dm_server_registry</td><td>VIEW</td><td>NULL</td></tr><tr><td>SQLDBQuery</td><td>sys</td><td>dm_server_services</td><td>VIEW</td><td>NULL</td></tr><tr><td>SQLDBQuery</td><td>sys</td><td>dm_tcp_listener_states</td><td>VIEW</td><td>NULL</td></tr><tr><td>SQLDBQuery</td><td>sys</td><td>dm_tran_aborted_transactions</td><td>VIEW</td><td>NULL</td></tr><tr><td>SQLDBQuery</td><td>sys</td><td>dm_tran_active_snapshot_database_transactions</td><td>VIEW</td><td>NULL</td></tr><tr><td>SQLDBQuery</td><td>sys</td><td>dm_tran_active_transactions</td><td>VIEW</td><td>NULL</td></tr><tr><td>SQLDBQuery</td><td>sys</td><td>dm_tran_commit_table</td><td>VIEW</td><td>NULL</td></tr><tr><td>SQLDBQuery</td><td>sys</td><td>dm_tran_current_snapshot</td><td>VIEW</td><td>NULL</td></tr><tr><td>SQLDBQuery</td><td>sys</td><td>dm_tran_current_transaction</td><td>VIEW</td><td>NULL</td></tr><tr><td>SQLDBQuery</td><td>sys</td><td>dm_tran_database_transactions</td><td>VIEW</td><td>NULL</td></tr><tr><td>SQLDBQuery</td><td>sys</td><td>dm_tran_global_recovery_transactions</td><td>VIEW</td><td>NULL</td></tr><tr><td>SQLDBQuery</td><td>sys</td><td>dm_tran_global_transactions</td><td>VIEW</td><td>NULL</td></tr><tr><td>SQLDBQuery</td><td>sys</td><td>dm_tran_global_transactions_enlistments</td><td>VIEW</td><td>NULL</td></tr><tr><td>SQLDBQuery</td><td>sys</td><td>dm_tran_global_transactions_log</td><td>VIEW</td><td>NULL</td></tr><tr><td>SQLDBQuery</td><td>sys</td><td>dm_tran_locks</td><td>VIEW</td><td>NULL</td></tr><tr><td>SQLDBQuery</td><td>sys</td><td>dm_tran_persistent_version_store</td><td>VIEW</td><td>NULL</td></tr><tr><td>SQLDBQuery</td><td>sys</td><td>dm_tran_persistent_version_store_stats</td><td>VIEW</td><td>NULL</td></tr><tr><td>SQLDBQuery</td><td>sys</td><td>dm_tran_session_transactions</td><td>VIEW</td><td>NULL</td></tr><tr><td>SQLDBQuery</td><td>sys</td><td>dm_tran_top_version_generators</td><td>VIEW</td><td>NULL</td></tr><tr><td>SQLDBQuery</td><td>sys</td><td>dm_tran_transactions_snapshot</td><td>VIEW</td><td>NULL</td></tr><tr><td>SQLDBQuery</td><td>sys</td><td>dm_tran_version_store</td><td>VIEW</td><td>NULL</td></tr><tr><td>SQLDBQuery</td><td>sys</td><td>dm_tran_version_store_space_usage</td><td>VIEW</td><td>NULL</td></tr><tr><td>SQLDBQuery</td><td>sys</td><td>dm_xe_map_values</td><td>VIEW</td><td>NULL</td></tr><tr><td>SQLDBQuery</td><td>sys</td><td>dm_xe_object_columns</td><td>VIEW</td><td>NULL</td></tr><tr><td>SQLDBQuery</td><td>sys</td><td>dm_xe_objects</td><td>VIEW</td><td>NULL</td></tr><tr><td>SQLDBQuery</td><td>sys</td><td>dm_xe_packages</td><td>VIEW</td><td>NULL</td></tr><tr><td>SQLDBQuery</td><td>sys</td><td>dm_xe_session_event_actions</td><td>VIEW</td><td>NULL</td></tr><tr><td>SQLDBQuery</td><td>sys</td><td>dm_xe_session_events</td><td>VIEW</td><td>NULL</td></tr><tr><td>SQLDBQuery</td><td>sys</td><td>dm_xe_session_object_columns</td><td>VIEW</td><td>NULL</td></tr><tr><td>SQLDBQuery</td><td>sys</td><td>dm_xe_session_targets</td><td>VIEW</td><td>NULL</td></tr><tr><td>SQLDBQuery</td><td>sys</td><td>dm_xe_sessions</td><td>VIEW</td><td>NULL</td></tr><tr><td>SQLDBQuery</td><td>sys</td><td>dm_xtp_gc_queue_stats</td><td>VIEW</td><td>NULL</td></tr><tr><td>SQLDBQuery</td><td>sys</td><td>dm_xtp_gc_stats</td><td>VIEW</td><td>NULL</td></tr><tr><td>SQLDBQuery</td><td>sys</td><td>dm_xtp_system_memory_consumers</td><td>VIEW</td><td>NULL</td></tr><tr><td>SQLDBQuery</td><td>sys</td><td>dm_xtp_threads</td><td>VIEW</td><td>NULL</td></tr><tr><td>SQLDBQuery</td><td>sys</td><td>dm_xtp_transaction_recent_rows</td><td>VIEW</td><td>NULL</td></tr><tr><td>SQLDBQuery</td><td>sys</td><td>dm_xtp_transaction_stats</td><td>VIEW</td><td>NULL</td></tr><tr><td>SQLDBQuery</td><td>sys</td><td>edge_constraint_clauses</td><td>VIEW</td><td>NULL</td></tr><tr><td>SQLDBQuery</td><td>sys</td><td>edge_constraints</td><td>VIEW</td><td>NULL</td></tr><tr><td>SQLDBQuery</td><td>sys</td><td>endpoint_webmethods</td><td>VIEW</td><td>NULL</td></tr><tr><td>SQLDBQuery</td><td>sys</td><td>endpoints</td><td>VIEW</td><td>NULL</td></tr><tr><td>SQLDBQuery</td><td>sys</td><td>event_notification_event_types</td><td>VIEW</td><td>NULL</td></tr><tr><td>SQLDBQuery</td><td>sys</td><td>event_notifications</td><td>VIEW</td><td>NULL</td></tr><tr><td>SQLDBQuery</td><td>sys</td><td>events</td><td>VIEW</td><td>NULL</td></tr><tr><td>SQLDBQuery</td><td>sys</td><td>extended_procedures</td><td>VIEW</td><td>NULL</td></tr><tr><td>SQLDBQuery</td><td>sys</td><td>extended_properties</td><td>VIEW</td><td>NULL</td></tr><tr><td>SQLDBQuery</td><td>sys</td><td>external_data_sources</td><td>VIEW</td><td>NULL</td></tr><tr><td>SQLDBQuery</td><td>sys</td><td>external_file_formats</td><td>VIEW</td><td>NULL</td></tr><tr><td>SQLDBQuery</td><td>sys</td><td>external_language_files</td><td>VIEW</td><td>NULL</td></tr><tr><td>SQLDBQuery</td><td>sys</td><td>external_languages</td><td>VIEW</td><td>NULL</td></tr><tr><td>SQLDBQuery</td><td>sys</td><td>external_libraries</td><td>VIEW</td><td>NULL</td></tr><tr><td>SQLDBQuery</td><td>sys</td><td>external_libraries_installed</td><td>VIEW</td><td>NULL</td></tr><tr><td>SQLDBQuery</td><td>sys</td><td>external_library_files</td><td>VIEW</td><td>NULL</td></tr><tr><td>SQLDBQuery</td><td>sys</td><td>external_library_setup_errors</td><td>VIEW</td><td>NULL</td></tr><tr><td>SQLDBQuery</td><td>sys</td><td>external_table_columns</td><td>VIEW</td><td>NULL</td></tr><tr><td>SQLDBQuery</td><td>sys</td><td>external_tables</td><td>VIEW</td><td>NULL</td></tr><tr><td>SQLDBQuery</td><td>sys</td><td>filegroups</td><td>VIEW</td><td>NULL</td></tr><tr><td>SQLDBQuery</td><td>sys</td><td>filetable_system_defined_objects</td><td>VIEW</td><td>NULL</td></tr><tr><td>SQLDBQuery</td><td>sys</td><td>filetables</td><td>VIEW</td><td>NULL</td></tr><tr><td>SQLDBQuery</td><td>sys</td><td>foreign_key_columns</td><td>VIEW</td><td>NULL</td></tr><tr><td>SQLDBQuery</td><td>sys</td><td>foreign_keys</td><td>VIEW</td><td>NULL</td></tr><tr><td>SQLDBQuery</td><td>sys</td><td>fulltext_catalogs</td><td>VIEW</td><td>NULL</td></tr><tr><td>SQLDBQuery</td><td>sys</td><td>fulltext_document_types</td><td>VIEW</td><td>NULL</td></tr><tr><td>SQLDBQuery</td><td>sys</td><td>fulltext_index_catalog_usages</td><td>VIEW</td><td>NULL</td></tr><tr><td>SQLDBQuery</td><td>sys</td><td>fulltext_index_columns</td><td>VIEW</td><td>NULL</td></tr><tr><td>SQLDBQuery</td><td>sys</td><td>fulltext_index_fragments</td><td>VIEW</td><td>NULL</td></tr><tr><td>SQLDBQuery</td><td>sys</td><td>fulltext_indexes</td><td>VIEW</td><td>NULL</td></tr><tr><td>SQLDBQuery</td><td>sys</td><td>fulltext_languages</td><td>VIEW</td><td>NULL</td></tr><tr><td>SQLDBQuery</td><td>sys</td><td>fulltext_semantic_language_statistics_database</td><td>VIEW</td><td>NULL</td></tr><tr><td>SQLDBQuery</td><td>sys</td><td>fulltext_semantic_languages</td><td>VIEW</td><td>NULL</td></tr><tr><td>SQLDBQuery</td><td>sys</td><td>fulltext_stoplists</td><td>VIEW</td><td>NULL</td></tr><tr><td>SQLDBQuery</td><td>sys</td><td>fulltext_stopwords</td><td>VIEW</td><td>NULL</td></tr><tr><td>SQLDBQuery</td><td>sys</td><td>fulltext_system_stopwords</td><td>VIEW</td><td>NULL</td></tr><tr><td>SQLDBQuery</td><td>sys</td><td>function_order_columns</td><td>VIEW</td><td>NULL</td></tr><tr><td>SQLDBQuery</td><td>sys</td><td>hash_indexes</td><td>VIEW</td><td>NULL</td></tr><tr><td>SQLDBQuery</td><td>sys</td><td>http_endpoints</td><td>VIEW</td><td>NULL</td></tr><tr><td>SQLDBQuery</td><td>sys</td><td>identity_columns</td><td>VIEW</td><td>NULL</td></tr><tr><td>SQLDBQuery</td><td>sys</td><td>index_columns</td><td>VIEW</td><td>NULL</td></tr><tr><td>SQLDBQuery</td><td>sys</td><td>index_resumable_operations</td><td>VIEW</td><td>NULL</td></tr><tr><td>SQLDBQuery</td><td>sys</td><td>indexes</td><td>VIEW</td><td>NULL</td></tr><tr><td>SQLDBQuery</td><td>sys</td><td>internal_partitions</td><td>VIEW</td><td>NULL</td></tr><tr><td>SQLDBQuery</td><td>sys</td><td>internal_tables</td><td>VIEW</td><td>NULL</td></tr><tr><td>SQLDBQuery</td><td>sys</td><td>key_constraints</td><td>VIEW</td><td>NULL</td></tr><tr><td>SQLDBQuery</td><td>sys</td><td>key_encryptions</td><td>VIEW</td><td>NULL</td></tr><tr><td>SQLDBQuery</td><td>sys</td><td>linked_logins</td><td>VIEW</td><td>NULL</td></tr><tr><td>SQLDBQuery</td><td>sys</td><td>login_token</td><td>VIEW</td><td>NULL</td></tr><tr><td>SQLDBQuery</td><td>sys</td><td>masked_columns</td><td>VIEW</td><td>NULL</td></tr><tr><td>SQLDBQuery</td><td>sys</td><td>master_files</td><td>VIEW</td><td>NULL</td></tr><tr><td>SQLDBQuery</td><td>sys</td><td>master_key_passwords</td><td>VIEW</td><td>NULL</td></tr><tr><td>SQLDBQuery</td><td>sys</td><td>memory_optimized_tables_internal_attributes</td><td>VIEW</td><td>NULL</td></tr><tr><td>SQLDBQuery</td><td>sys</td><td>message_type_xml_schema_collection_usages</td><td>VIEW</td><td>NULL</td></tr><tr><td>SQLDBQuery</td><td>sys</td><td>messages</td><td>VIEW</td><td>NULL</td></tr><tr><td>SQLDBQuery</td><td>sys</td><td>module_assembly_usages</td><td>VIEW</td><td>NULL</td></tr><tr><td>SQLDBQuery</td><td>sys</td><td>numbered_procedure_parameters</td><td>VIEW</td><td>NULL</td></tr><tr><td>SQLDBQuery</td><td>sys</td><td>numbered_procedures</td><td>VIEW</td><td>NULL</td></tr><tr><td>SQLDBQuery</td><td>sys</td><td>objects</td><td>VIEW</td><td>NULL</td></tr><tr><td>SQLDBQuery</td><td>sys</td><td>openkeys</td><td>VIEW</td><td>NULL</td></tr><tr><td>SQLDBQuery</td><td>sys</td><td>parameter_type_usages</td><td>VIEW</td><td>NULL</td></tr><tr><td>SQLDBQuery</td><td>sys</td><td>parameter_xml_schema_collection_usages</td><td>VIEW</td><td>NULL</td></tr><tr><td>SQLDBQuery</td><td>sys</td><td>parameters</td><td>VIEW</td><td>NULL</td></tr><tr><td>SQLDBQuery</td><td>sys</td><td>partition_functions</td><td>VIEW</td><td>NULL</td></tr><tr><td>SQLDBQuery</td><td>sys</td><td>partition_parameters</td><td>VIEW</td><td>NULL</td></tr><tr><td>SQLDBQuery</td><td>sys</td><td>partition_range_values</td><td>VIEW</td><td>NULL</td></tr><tr><td>SQLDBQuery</td><td>sys</td><td>partition_schemes</td><td>VIEW</td><td>NULL</td></tr><tr><td>SQLDBQuery</td><td>sys</td><td>partitions</td><td>VIEW</td><td>NULL</td></tr><tr><td>SQLDBQuery</td><td>sys</td><td>periods</td><td>VIEW</td><td>NULL</td></tr><tr><td>SQLDBQuery</td><td>sys</td><td>plan_guides</td><td>VIEW</td><td>NULL</td></tr><tr><td>SQLDBQuery</td><td>sys</td><td>procedures</td><td>VIEW</td><td>NULL</td></tr><tr><td>SQLDBQuery</td><td>sys</td><td>query_context_settings</td><td>VIEW</td><td>NULL</td></tr><tr><td>SQLDBQuery</td><td>sys</td><td>query_store_plan</td><td>VIEW</td><td>NULL</td></tr><tr><td>SQLDBQuery</td><td>sys</td><td>query_store_query</td><td>VIEW</td><td>NULL</td></tr><tr><td>SQLDBQuery</td><td>sys</td><td>query_store_query_text</td><td>VIEW</td><td>NULL</td></tr><tr><td>SQLDBQuery</td><td>sys</td><td>query_store_runtime_stats</td><td>VIEW</td><td>NULL</td></tr><tr><td>SQLDBQuery</td><td>sys</td><td>query_store_runtime_stats_interval</td><td>VIEW</td><td>NULL</td></tr><tr><td>SQLDBQuery</td><td>sys</td><td>query_store_wait_stats</td><td>VIEW</td><td>NULL</td></tr><tr><td>SQLDBQuery</td><td>sys</td><td>registered_search_properties</td><td>VIEW</td><td>NULL</td></tr><tr><td>SQLDBQuery</td><td>sys</td><td>registered_search_property_lists</td><td>VIEW</td><td>NULL</td></tr><tr><td>SQLDBQuery</td><td>sys</td><td>remote_data_archive_databases</td><td>VIEW</td><td>NULL</td></tr><tr><td>SQLDBQuery</td><td>sys</td><td>remote_data_archive_tables</td><td>VIEW</td><td>NULL</td></tr><tr><td>SQLDBQuery</td><td>sys</td><td>remote_logins</td><td>VIEW</td><td>NULL</td></tr><tr><td>SQLDBQuery</td><td>sys</td><td>remote_service_bindings</td><td>VIEW</td><td>NULL</td></tr><tr><td>SQLDBQuery</td><td>sys</td><td>resource_governor_configuration</td><td>VIEW</td><td>NULL</td></tr><tr><td>SQLDBQuery</td><td>sys</td><td>resource_governor_external_resource_pool_affinity</td><td>VIEW</td><td>NULL</td></tr><tr><td>SQLDBQuery</td><td>sys</td><td>resource_governor_external_resource_pools</td><td>VIEW</td><td>NULL</td></tr><tr><td>SQLDBQuery</td><td>sys</td><td>resource_governor_resource_pool_affinity</td><td>VIEW</td><td>NULL</td></tr><tr><td>SQLDBQuery</td><td>sys</td><td>resource_governor_resource_pools</td><td>VIEW</td><td>NULL</td></tr><tr><td>SQLDBQuery</td><td>sys</td><td>resource_governor_workload_groups</td><td>VIEW</td><td>NULL</td></tr><tr><td>SQLDBQuery</td><td>sys</td><td>routes</td><td>VIEW</td><td>NULL</td></tr><tr><td>SQLDBQuery</td><td>sys</td><td>schemas</td><td>VIEW</td><td>NULL</td></tr><tr><td>SQLDBQuery</td><td>sys</td><td>securable_classes</td><td>VIEW</td><td>NULL</td></tr><tr><td>SQLDBQuery</td><td>sys</td><td>security_policies</td><td>VIEW</td><td>NULL</td></tr><tr><td>SQLDBQuery</td><td>sys</td><td>security_predicates</td><td>VIEW</td><td>NULL</td></tr><tr><td>SQLDBQuery</td><td>sys</td><td>selective_xml_index_namespaces</td><td>VIEW</td><td>NULL</td></tr><tr><td>SQLDBQuery</td><td>sys</td><td>selective_xml_index_paths</td><td>VIEW</td><td>NULL</td></tr><tr><td>SQLDBQuery</td><td>sys</td><td>sensitivity_classifications</td><td>VIEW</td><td>NULL</td></tr><tr><td>SQLDBQuery</td><td>sys</td><td>sequences</td><td>VIEW</td><td>NULL</td></tr><tr><td>SQLDBQuery</td><td>sys</td><td>server_assembly_modules</td><td>VIEW</td><td>NULL</td></tr><tr><td>SQLDBQuery</td><td>sys</td><td>server_audit_specification_details</td><td>VIEW</td><td>NULL</td></tr><tr><td>SQLDBQuery</td><td>sys</td><td>server_audit_specifications</td><td>VIEW</td><td>NULL</td></tr><tr><td>SQLDBQuery</td><td>sys</td><td>server_audits</td><td>VIEW</td><td>NULL</td></tr><tr><td>SQLDBQuery</td><td>sys</td><td>server_event_notifications</td><td>VIEW</td><td>NULL</td></tr><tr><td>SQLDBQuery</td><td>sys</td><td>server_event_session_actions</td><td>VIEW</td><td>NULL</td></tr><tr><td>SQLDBQuery</td><td>sys</td><td>server_event_session_events</td><td>VIEW</td><td>NULL</td></tr><tr><td>SQLDBQuery</td><td>sys</td><td>server_event_session_fields</td><td>VIEW</td><td>NULL</td></tr><tr><td>SQLDBQuery</td><td>sys</td><td>server_event_session_targets</td><td>VIEW</td><td>NULL</td></tr><tr><td>SQLDBQuery</td><td>sys</td><td>server_event_sessions</td><td>VIEW</td><td>NULL</td></tr><tr><td>SQLDBQuery</td><td>sys</td><td>server_events</td><td>VIEW</td><td>NULL</td></tr><tr><td>SQLDBQuery</td><td>sys</td><td>server_file_audits</td><td>VIEW</td><td>NULL</td></tr><tr><td>SQLDBQuery</td><td>sys</td><td>server_memory_optimized_hybrid_buffer_pool_configuration</td><td>VIEW</td><td>NULL</td></tr><tr><td>SQLDBQuery</td><td>sys</td><td>server_permissions</td><td>VIEW</td><td>NULL</td></tr><tr><td>SQLDBQuery</td><td>sys</td><td>server_principal_credentials</td><td>VIEW</td><td>NULL</td></tr><tr><td>SQLDBQuery</td><td>sys</td><td>server_principals</td><td>VIEW</td><td>NULL</td></tr><tr><td>SQLDBQuery</td><td>sys</td><td>server_role_members</td><td>VIEW</td><td>NULL</td></tr><tr><td>SQLDBQuery</td><td>sys</td><td>server_sql_modules</td><td>VIEW</td><td>NULL</td></tr><tr><td>SQLDBQuery</td><td>sys</td><td>server_trigger_events</td><td>VIEW</td><td>NULL</td></tr><tr><td>SQLDBQuery</td><td>sys</td><td>server_triggers</td><td>VIEW</td><td>NULL</td></tr><tr><td>SQLDBQuery</td><td>sys</td><td>servers</td><td>VIEW</td><td>NULL</td></tr><tr><td>SQLDBQuery</td><td>sys</td><td>service_broker_endpoints</td><td>VIEW</td><td>NULL</td></tr><tr><td>SQLDBQuery</td><td>sys</td><td>service_contract_message_usages</td><td>VIEW</td><td>NULL</td></tr><tr><td>SQLDBQuery</td><td>sys</td><td>service_contract_usages</td><td>VIEW</td><td>NULL</td></tr><tr><td>SQLDBQuery</td><td>sys</td><td>service_contracts</td><td>VIEW</td><td>NULL</td></tr><tr><td>SQLDBQuery</td><td>sys</td><td>service_message_types</td><td>VIEW</td><td>NULL</td></tr><tr><td>SQLDBQuery</td><td>sys</td><td>service_queue_usages</td><td>VIEW</td><td>NULL</td></tr><tr><td>SQLDBQuery</td><td>sys</td><td>service_queues</td><td>VIEW</td><td>NULL</td></tr><tr><td>SQLDBQuery</td><td>sys</td><td>services</td><td>VIEW</td><td>NULL</td></tr><tr><td>SQLDBQuery</td><td>sys</td><td>soap_endpoints</td><td>VIEW</td><td>NULL</td></tr><tr><td>SQLDBQuery</td><td>sys</td><td>spatial_index_tessellations</td><td>VIEW</td><td>NULL</td></tr><tr><td>SQLDBQuery</td><td>sys</td><td>spatial_indexes</td><td>VIEW</td><td>NULL</td></tr><tr><td>SQLDBQuery</td><td>sys</td><td>spatial_reference_systems</td><td>VIEW</td><td>NULL</td></tr><tr><td>SQLDBQuery</td><td>sys</td><td>sql_dependencies</td><td>VIEW</td><td>NULL</td></tr><tr><td>SQLDBQuery</td><td>sys</td><td>sql_expression_dependencies</td><td>VIEW</td><td>NULL</td></tr><tr><td>SQLDBQuery</td><td>sys</td><td>sql_logins</td><td>VIEW</td><td>NULL</td></tr><tr><td>SQLDBQuery</td><td>sys</td><td>sql_modules</td><td>VIEW</td><td>NULL</td></tr><tr><td>SQLDBQuery</td><td>sys</td><td>stats</td><td>VIEW</td><td>NULL</td></tr><tr><td>SQLDBQuery</td><td>sys</td><td>stats_columns</td><td>VIEW</td><td>NULL</td></tr><tr><td>SQLDBQuery</td><td>sys</td><td>symmetric_keys</td><td>VIEW</td><td>NULL</td></tr><tr><td>SQLDBQuery</td><td>sys</td><td>synonyms</td><td>VIEW</td><td>NULL</td></tr><tr><td>SQLDBQuery</td><td>sys</td><td>sysaltfiles</td><td>VIEW</td><td>NULL</td></tr><tr><td>SQLDBQuery</td><td>sys</td><td>syscacheobjects</td><td>VIEW</td><td>NULL</td></tr><tr><td>SQLDBQuery</td><td>sys</td><td>syscharsets</td><td>VIEW</td><td>NULL</td></tr><tr><td>SQLDBQuery</td><td>sys</td><td>syscolumns</td><td>VIEW</td><td>NULL</td></tr><tr><td>SQLDBQuery</td><td>sys</td><td>syscomments</td><td>VIEW</td><td>NULL</td></tr><tr><td>SQLDBQuery</td><td>sys</td><td>sysconfigures</td><td>VIEW</td><td>NULL</td></tr><tr><td>SQLDBQuery</td><td>sys</td><td>sysconstraints</td><td>VIEW</td><td>NULL</td></tr><tr><td>SQLDBQuery</td><td>sys</td><td>syscscontainers</td><td>VIEW</td><td>NULL</td></tr><tr><td>SQLDBQuery</td><td>sys</td><td>syscurconfigs</td><td>VIEW</td><td>NULL</td></tr><tr><td>SQLDBQuery</td><td>sys</td><td>syscursorcolumns</td><td>VIEW</td><td>NULL</td></tr><tr><td>SQLDBQuery</td><td>sys</td><td>syscursorrefs</td><td>VIEW</td><td>NULL</td></tr><tr><td>SQLDBQuery</td><td>sys</td><td>syscursors</td><td>VIEW</td><td>NULL</td></tr><tr><td>SQLDBQuery</td><td>sys</td><td>syscursortables</td><td>VIEW</td><td>NULL</td></tr><tr><td>SQLDBQuery</td><td>sys</td><td>sysdatabases</td><td>VIEW</td><td>NULL</td></tr><tr><td>SQLDBQuery</td><td>sys</td><td>sysdepends</td><td>VIEW</td><td>NULL</td></tr><tr><td>SQLDBQuery</td><td>sys</td><td>sysdevices</td><td>VIEW</td><td>NULL</td></tr><tr><td>SQLDBQuery</td><td>sys</td><td>sysfilegroups</td><td>VIEW</td><td>NULL</td></tr><tr><td>SQLDBQuery</td><td>sys</td><td>sysfiles</td><td>VIEW</td><td>NULL</td></tr><tr><td>SQLDBQuery</td><td>sys</td><td>sysforeignkeys</td><td>VIEW</td><td>NULL</td></tr><tr><td>SQLDBQuery</td><td>sys</td><td>sysfulltextcatalogs</td><td>VIEW</td><td>NULL</td></tr><tr><td>SQLDBQuery</td><td>sys</td><td>sysindexes</td><td>VIEW</td><td>NULL</td></tr><tr><td>SQLDBQuery</td><td>sys</td><td>sysindexkeys</td><td>VIEW</td><td>NULL</td></tr><tr><td>SQLDBQuery</td><td>sys</td><td>syslanguages</td><td>VIEW</td><td>NULL</td></tr><tr><td>SQLDBQuery</td><td>sys</td><td>syslockinfo</td><td>VIEW</td><td>NULL</td></tr><tr><td>SQLDBQuery</td><td>sys</td><td>syslogins</td><td>VIEW</td><td>NULL</td></tr><tr><td>SQLDBQuery</td><td>sys</td><td>sysmembers</td><td>VIEW</td><td>NULL</td></tr><tr><td>SQLDBQuery</td><td>sys</td><td>sysmessages</td><td>VIEW</td><td>NULL</td></tr><tr><td>SQLDBQuery</td><td>sys</td><td>sysobjects</td><td>VIEW</td><td>NULL</td></tr><tr><td>SQLDBQuery</td><td>sys</td><td>sysoledbusers</td><td>VIEW</td><td>NULL</td></tr><tr><td>SQLDBQuery</td><td>sys</td><td>sysopentapes</td><td>VIEW</td><td>NULL</td></tr><tr><td>SQLDBQuery</td><td>sys</td><td>sysperfinfo</td><td>VIEW</td><td>NULL</td></tr><tr><td>SQLDBQuery</td><td>sys</td><td>syspermissions</td><td>VIEW</td><td>NULL</td></tr><tr><td>SQLDBQuery</td><td>sys</td><td>sysprocesses</td><td>VIEW</td><td>NULL</td></tr><tr><td>SQLDBQuery</td><td>sys</td><td>sysprotects</td><td>VIEW</td><td>NULL</td></tr><tr><td>SQLDBQuery</td><td>sys</td><td>sysreferences</td><td>VIEW</td><td>NULL</td></tr><tr><td>SQLDBQuery</td><td>sys</td><td>sysremotelogins</td><td>VIEW</td><td>NULL</td></tr><tr><td>SQLDBQuery</td><td>sys</td><td>sysservers</td><td>VIEW</td><td>NULL</td></tr><tr><td>SQLDBQuery</td><td>sys</td><td>system_columns</td><td>VIEW</td><td>NULL</td></tr><tr><td>SQLDBQuery</td><td>sys</td><td>system_components_surface_area_configuration</td><td>VIEW</td><td>NULL</td></tr><tr><td>SQLDBQuery</td><td>sys</td><td>system_internals_allocation_units</td><td>VIEW</td><td>NULL</td></tr><tr><td>SQLDBQuery</td><td>sys</td><td>system_internals_partition_columns</td><td>VIEW</td><td>NULL</td></tr><tr><td>SQLDBQuery</td><td>sys</td><td>system_internals_partitions</td><td>VIEW</td><td>NULL</td></tr><tr><td>SQLDBQuery</td><td>sys</td><td>system_objects</td><td>VIEW</td><td>NULL</td></tr><tr><td>SQLDBQuery</td><td>sys</td><td>system_parameters</td><td>VIEW</td><td>NULL</td></tr><tr><td>SQLDBQuery</td><td>sys</td><td>system_sql_modules</td><td>VIEW</td><td>NULL</td></tr><tr><td>SQLDBQuery</td><td>sys</td><td>system_views</td><td>VIEW</td><td>NULL</td></tr><tr><td>SQLDBQuery</td><td>sys</td><td>systypes</td><td>VIEW</td><td>NULL</td></tr><tr><td>SQLDBQuery</td><td>sys</td><td>sysusers</td><td>VIEW</td><td>NULL</td></tr><tr><td>SQLDBQuery</td><td>sys</td><td>table_types</td><td>VIEW</td><td>NULL</td></tr><tr><td>SQLDBQuery</td><td>sys</td><td>tables</td><td>VIEW</td><td>NULL</td></tr><tr><td>SQLDBQuery</td><td>sys</td><td>tcp_endpoints</td><td>VIEW</td><td>NULL</td></tr><tr><td>SQLDBQuery</td><td>sys</td><td>time_zone_info</td><td>VIEW</td><td>NULL</td></tr><tr><td>SQLDBQuery</td><td>sys</td><td>trace_categories</td><td>VIEW</td><td>NULL</td></tr><tr><td>SQLDBQuery</td><td>sys</td><td>trace_columns</td><td>VIEW</td><td>NULL</td></tr><tr><td>SQLDBQuery</td><td>sys</td><td>trace_event_bindings</td><td>VIEW</td><td>NULL</td></tr><tr><td>SQLDBQuery</td><td>sys</td><td>trace_events</td><td>VIEW</td><td>NULL</td></tr><tr><td>SQLDBQuery</td><td>sys</td><td>trace_subclass_values</td><td>VIEW</td><td>NULL</td></tr><tr><td>SQLDBQuery</td><td>sys</td><td>traces</td><td>VIEW</td><td>NULL</td></tr><tr><td>SQLDBQuery</td><td>sys</td><td>transmission_queue</td><td>VIEW</td><td>NULL</td></tr><tr><td>SQLDBQuery</td><td>sys</td><td>trigger_event_types</td><td>VIEW</td><td>NULL</td></tr><tr><td>SQLDBQuery</td><td>sys</td><td>trigger_events</td><td>VIEW</td><td>NULL</td></tr><tr><td>SQLDBQuery</td><td>sys</td><td>triggers</td><td>VIEW</td><td>NULL</td></tr><tr><td>SQLDBQuery</td><td>sys</td><td>trusted_assemblies</td><td>VIEW</td><td>NULL</td></tr><tr><td>SQLDBQuery</td><td>sys</td><td>type_assembly_usages</td><td>VIEW</td><td>NULL</td></tr><tr><td>SQLDBQuery</td><td>sys</td><td>types</td><td>VIEW</td><td>NULL</td></tr><tr><td>SQLDBQuery</td><td>sys</td><td>user_token</td><td>VIEW</td><td>NULL</td></tr><tr><td>SQLDBQuery</td><td>sys</td><td>via_endpoints</td><td>VIEW</td><td>NULL</td></tr><tr><td>SQLDBQuery</td><td>sys</td><td>views</td><td>VIEW</td><td>NULL</td></tr><tr><td>SQLDBQuery</td><td>sys</td><td>xml_indexes</td><td>VIEW</td><td>NULL</td></tr><tr><td>SQLDBQuery</td><td>sys</td><td>xml_schema_attributes</td><td>VIEW</td><td>NULL</td></tr><tr><td>SQLDBQuery</td><td>sys</td><td>xml_schema_collections</td><td>VIEW</td><td>NULL</td></tr><tr><td>SQLDBQuery</td><td>sys</td><td>xml_schema_component_placements</td><td>VIEW</td><td>NULL</td></tr><tr><td>SQLDBQuery</td><td>sys</td><td>xml_schema_components</td><td>VIEW</td><td>NULL</td></tr><tr><td>SQLDBQuery</td><td>sys</td><td>xml_schema_elements</td><td>VIEW</td><td>NULL</td></tr><tr><td>SQLDBQuery</td><td>sys</td><td>xml_schema_facets</td><td>VIEW</td><td>NULL</td></tr><tr><td>SQLDBQuery</td><td>sys</td><td>xml_schema_model_groups</td><td>VIEW</td><td>NULL</td></tr><tr><td>SQLDBQuery</td><td>sys</td><td>xml_schema_namespaces</td><td>VIEW</td><td>NULL</td></tr><tr><td>SQLDBQuery</td><td>sys</td><td>xml_schema_types</td><td>VIEW</td><td>NULL</td></tr><tr><td>SQLDBQuery</td><td>sys</td><td>xml_schema_wildcard_namespaces</td><td>VIEW</td><td>NULL</td></tr><tr><td>SQLDBQuery</td><td>sys</td><td>xml_schema_wildcards</td><td>VIEW</td><td>NULL</td></tr></table>"
                    },
                    "metadata": {}
                }
            ],
            "execution_count": 56
        },
        {
            "cell_type": "code",
            "source": [
                "INSERT HocSinh\n",
                "(MaHS, Name, NgaySinh)\n",
                "VALUES\n",
                "(5, N'Ngô Bún', GETDATE())"
            ],
            "metadata": {
                "language": "sql",
                "azdata_cell_guid": "d719fd34-e4fc-4fff-bf68-37532d1b082c"
            },
            "outputs": [
                {
                    "output_type": "error",
                    "ename": "",
                    "evalue": "Msg 2627, Level 14, State 1, Line 1\nViolation of PRIMARY KEY constraint 'PK__HocSinh__2725A6EFFAAFB8EA'. Cannot insert duplicate key in object 'dbo.HocSinh'. The duplicate key value is (5).",
                    "traceback": []
                },
                {
                    "output_type": "display_data",
                    "data": {
                        "text/html": "The statement has been terminated."
                    },
                    "metadata": {}
                },
                {
                    "output_type": "display_data",
                    "data": {
                        "text/html": "Total execution time: 00:00:00.001"
                    },
                    "metadata": {}
                }
            ],
            "execution_count": 57
        }
    ]
}